{
 "cells": [
  {
   "cell_type": "code",
   "execution_count": null,
   "id": "58210c95",
   "metadata": {},
   "outputs": [],
   "source": [
    "#here will create efficiency column --> will create feature column later on"
   ]
  },
  {
   "cell_type": "code",
   "execution_count": null,
   "id": "4a8a6262",
   "metadata": {},
   "outputs": [],
   "source": [
    "df.head()"
   ]
  },
  {
   "cell_type": "markdown",
   "id": "b7886883",
   "metadata": {},
   "source": [
    "📌 1. Basic Summary & Distributions --> Numeric cols\n",
    "\n",
    "Why: Understand ranges, outliers, and skewed variables."
   ]
  },
  {
   "cell_type": "code",
   "execution_count": null,
   "id": "8a66c858",
   "metadata": {},
   "outputs": [],
   "source": [
    "# Summary\n",
    "df.describe()"
   ]
  },
  {
   "cell_type": "code",
   "execution_count": null,
   "id": "4d8189d1",
   "metadata": {},
   "outputs": [],
   "source": [
    "df[df['income'] < -20000]"
   ]
  },
  {
   "cell_type": "code",
   "execution_count": null,
   "id": "da99280a",
   "metadata": {},
   "outputs": [],
   "source": [
    "plt.figure(figsize=(6,4))\n",
    "sns.histplot(df['income'], bins=50, kde=True)\n",
    "plt.title('Distribution of income')\n",
    "plt.xlabel('income')\n",
    "plt.ylabel('Frequency')\n",
    "plt.tight_layout()\n",
    "plt.show()\n",
    "\n",
    "#what does negative income mean? Does it balance out with positive income when aggregating?\n"
   ]
  },
  {
   "cell_type": "code",
   "execution_count": null,
   "id": "7fb95477",
   "metadata": {},
   "outputs": [],
   "source": [
    "plt.figure(figsize=(6,4))\n",
    "sns.histplot(df['number_of_orders'], bins=50, kde=True)\n",
    "plt.title('Distribution of number_of_orders')\n",
    "plt.xlabel('number_of_orders')\n",
    "plt.ylabel('Frequency')\n",
    "plt.tight_layout()\n",
    "plt.show()\n",
    "\n"
   ]
  },
  {
   "cell_type": "code",
   "execution_count": null,
   "id": "d0ab056e",
   "metadata": {},
   "outputs": [],
   "source": [
    "plt.figure(figsize=(6,4))\n",
    "sns.histplot(df['median_ticket'], bins=50, kde=True)\n",
    "plt.title('Distribution of median ticket')\n",
    "plt.xlabel('median_ticket')\n",
    "plt.ylabel('Frequency')\n",
    "plt.tight_layout()\n",
    "plt.show()\n",
    "\n",
    "#same thing happens here as with income --> not sure if this balances out later on."
   ]
  },
  {
   "cell_type": "code",
   "execution_count": null,
   "id": "396a1e39",
   "metadata": {},
   "outputs": [],
   "source": [
    "plt.figure(figsize=(6,4))\n",
    "sns.histplot(df['prom_contacts_month'], bins=50, kde=True)\n",
    "plt.title('Distribution of prom_contacts_month')\n",
    "plt.xlabel('prom_contacts_month')\n",
    "plt.ylabel('Frequency')\n",
    "plt.tight_layout()\n",
    "plt.show()\n",
    "\n",
    "#most contacts are between 0 and 5 per month --> more might be outlier?"
   ]
  },
  {
   "cell_type": "code",
   "execution_count": null,
   "id": "b58f0661",
   "metadata": {},
   "outputs": [],
   "source": [
    "plt.figure(figsize=(6,4))\n",
    "sns.histplot(df['tel_contacts_month'], bins=50, kde=True)\n",
    "plt.title(f'Distribution of tel_contacts_month')\n",
    "plt.xlabel('tel_contacts_month')\n",
    "plt.ylabel('Frequency')\n",
    "plt.tight_layout()\n",
    "plt.show()"
   ]
  },
  {
   "cell_type": "markdown",
   "id": "902308d6",
   "metadata": {},
   "source": [
    "📌 2. Efficiency Analysis\n",
    "\n",
    "Why: Your objective includes increasing promotor efficiency."
   ]
  },
  {
   "cell_type": "markdown",
   "id": "c4d9f2f1",
   "metadata": {},
   "source": [
    "df['efficiency'] = df['number_of_orders'] / df['prom_contacts_month']\n",
    "\n",
    "# Handle division by zero if needed\n",
    "df['efficiency'] = df['efficiency'].replace([float('inf'), -float('inf')], None)\n",
    "\n",
    "# Visualize\n",
    "plt.figure(figsize=(6,4))\n",
    "sns.histplot(df['efficiency'], bins=50, kde=True)\n",
    "plt.title('Efficiency (Orders per Promotor Contact)')\n",
    "plt.xlabel('Efficiency')\n",
    "plt.ylabel('Frequency')\n",
    "plt.tight_layout()\n",
    "plt.show()\n",
    "\n",
    "# In theory, the number of contacts and orders should be aligned --> efficiency should equal 1\n",
    "## less than 1 (most cases) --> The number of orders is lower than the number of contacts meaning team inefficiency"
   ]
  },
  {
   "cell_type": "markdown",
   "id": "ba659eab",
   "metadata": {},
   "source": [
    "df[df['efficiency'] < 1].shape  # Inefficient clients"
   ]
  },
  {
   "cell_type": "markdown",
   "id": "8f058f1f",
   "metadata": {},
   "source": [
    "📌 3. Low Ticket Clients\n",
    "\n",
    "Why: Ticket < €80 is flagged as risky in the business rules"
   ]
  },
  {
   "cell_type": "code",
   "execution_count": null,
   "id": "f7980d1c",
   "metadata": {},
   "outputs": [],
   "source": [
    "low_ticket_clients = df[df['median_ticket'] < 80]\n",
    "print(f\"Number of clients with median ticket < 80: {len(low_ticket_clients)}\")\n",
    "\n",
    "# Histogram of ticket sizes\n",
    "plt.figure(figsize=(6,4))\n",
    "sns.histplot(df['median_ticket'], bins=50, kde=True)\n",
    "plt.axvline(80, color='red', linestyle='--')\n",
    "plt.title('Median Ticket per Client')\n",
    "plt.xlabel('Median Ticket (€)')\n",
    "plt.ylabel('Number of Clients')\n",
    "plt.tight_layout()\n",
    "plt.show()\n"
   ]
  },
  {
   "cell_type": "markdown",
   "id": "1d640431",
   "metadata": {},
   "source": [
    "📌 4. Contact vs Orders Alignment\n",
    "\n",
    "Why: Misalignment = inefficiency, key optimization goal."
   ]
  },
  {
   "cell_type": "code",
   "execution_count": null,
   "id": "dcc8cdf9",
   "metadata": {},
   "outputs": [],
   "source": [
    "plt.figure(figsize=(7,5))\n",
    "sns.scatterplot(data=df, x='prom_contacts_month', y='number_of_orders', hue='channel', alpha=0.6)\n",
    "plt.plot([0, df['prom_contacts_month'].max()], [0, df['prom_contacts_month'].max()], '--', color='grey')\n",
    "plt.title('Orders vs Promotor Contacts')\n",
    "plt.xlabel('Promotor Contacts per Month')\n",
    "plt.ylabel('Number of Orders per Month')\n",
    "plt.tight_layout()\n",
    "plt.show()\n"
   ]
  },
  {
   "cell_type": "markdown",
   "id": "721afc3a",
   "metadata": {},
   "source": [
    "This shows you:\n",
    "\n",
    "How many clients are below the diagonal = more contacts than orders = inefficiency."
   ]
  },
  {
   "cell_type": "code",
   "execution_count": null,
   "id": "71caf6a9",
   "metadata": {},
   "outputs": [],
   "source": []
  },
  {
   "cell_type": "code",
   "execution_count": null,
   "id": "1f260c47",
   "metadata": {},
   "outputs": [],
   "source": [
    "# Boxplots to detect outliers\n",
    "plt.figure(figsize=(6,4))\n",
    "sns.boxplot(data=df, x='income')\n",
    "plt.title('Boxplot of Income')\n",
    "plt.tight_layout()\n",
    "plt.show()\n"
   ]
  },
  {
   "cell_type": "code",
   "execution_count": null,
   "id": "270e944d",
   "metadata": {},
   "outputs": [],
   "source": [
    "# question --> are you sure what you are doing with the aggregation? Why would you sum the monhtly tel/prom contacts? Arent they monthly?"
   ]
  },
  {
   "cell_type": "code",
   "execution_count": null,
   "id": "aefd5bb0",
   "metadata": {},
   "outputs": [],
   "source": [
    "df.head()"
   ]
  },
  {
   "cell_type": "code",
   "execution_count": null,
   "id": "d5e317fb",
   "metadata": {},
   "outputs": [],
   "source": [
    "df.sort_values(by = ['client_id', 'date'])"
   ]
  },
  {
   "cell_type": "markdown",
   "id": "a07f2931",
   "metadata": {},
   "source": [
    "aggregation"
   ]
  },
  {
   "cell_type": "code",
   "execution_count": null,
   "id": "bbf18537",
   "metadata": {},
   "outputs": [],
   "source": [
    "# 📦 Pascual Capstone: Aggregation + Feature Creation\n",
    "# Step-by-step structured flow from clean daily data to aggregated client-level dataset\n",
    "\n",
    "import pandas as pd\n",
    "\n",
    "# --- STEP 0: Load Cleaned Daily-Level Data ---\n",
    "df = pd.read_csv('clean_orders_data.csv', parse_dates=['date'])\n",
    "\n",
    "# --- STEP 1: Create `frequency` (median orders per month per client) ---\n",
    "df['month'] = df['date'].dt.to_period('M')\n",
    "\n",
    "monthly_orders = df.groupby(['client_id', 'month'])['number_of_orders'].sum().reset_index()\n",
    "\n",
    "frequency_df = monthly_orders.groupby('client_id')['number_of_orders'].median().reset_index()\n",
    "frequency_df.rename(columns={'number_of_orders': 'frequency'}, inplace=True)\n",
    "\n",
    "# --- STEP 1.5: Validate that 'channel' and 'city' are unique per client ---\n",
    "multi_channel = df.groupby('client_id')['channel'].nunique()\n",
    "print(\"Clients with >1 unique channel:\", (multi_channel > 1).sum())\n",
    "\n",
    "multi_city = df.groupby('client_id')['city'].nunique()\n",
    "print(\"Clients with >1 unique city:\", (multi_city > 1).sum())\n",
    "\n",
    "# Optional: Investigate any client_ids that violate uniqueness\n",
    "multi_channel_clients = multi_channel[multi_channel > 1].index.tolist()\n",
    "multi_city_clients = multi_city[multi_city > 1].index.tolist()\n",
    "\n",
    "# Uncomment to inspect those rows\n",
    "# print(df[df['client_id'].isin(multi_channel_clients)])\n",
    "# print(df[df['client_id'].isin(multi_city_clients)])\n",
    "\n",
    "# --- STEP 2: Aggregate Remaining Data Per Client ---\n",
    "# Notes:\n",
    "# - 'income', 'volume', 'number_of_orders' -> summed: represents cumulative behavior\n",
    "# - 'prom_contacts_month', 'tel_contacts_month' -> averaged: avoid inflation from repetition\n",
    "# - 'median_ticket' -> median to reduce outlier skew\n",
    "# - 'channel', 'city' -> assumed to be static, validated above\n",
    "\n",
    "client_df = df.groupby('client_id').agg({\n",
    "    'income': 'sum',\n",
    "    'volume': 'sum',  # volume = total weight/space across orders, relevant for logistics\n",
    "    'number_of_orders': 'sum',\n",
    "    'prom_contacts_month': 'mean',\n",
    "    'tel_contacts_month': 'mean',\n",
    "    'median_ticket': 'median',\n",
    "    'channel': 'first',\n",
    "    'city': 'first'\n",
    "}).reset_index()\n",
    "\n",
    "# --- STEP 3: Merge Frequency ---\n",
    "client_df = client_df.merge(frequency_df, on='client_id', how='left')\n",
    "\n",
    "# --- STEP 4: Create Efficiency Feature ---\n",
    "client_df['efficiency'] = client_df['number_of_orders'] / client_df['prom_contacts_month']\n",
    "\n",
    "# --- STEP 5: Handle Division by Zero or NaNs ---\n",
    "client_df['efficiency'] = client_df['efficiency'].replace([float('inf'), -float('inf')], None)\n",
    "client_df['efficiency'] = client_df['efficiency'].fillna(0)\n",
    "\n",
    "# --- STEP 6: Save Aggregated Dataset ---\n",
    "client_df.to_csv('aggregated_client_data.csv', index=False)\n",
    "\n",
    "print(\"\\u2705 Aggregated client dataset saved as 'aggregated_client_data.csv'\")\n"
   ]
  },
  {
   "cell_type": "code",
   "execution_count": null,
   "id": "248401e6",
   "metadata": {},
   "outputs": [],
   "source": []
  },
  {
   "cell_type": "code",
   "execution_count": null,
   "id": "b65a0ac5",
   "metadata": {},
   "outputs": [],
   "source": []
  },
  {
   "cell_type": "code",
   "execution_count": null,
   "id": "318bffca",
   "metadata": {},
   "outputs": [],
   "source": []
  },
  {
   "cell_type": "code",
   "execution_count": null,
   "id": "0e007e96",
   "metadata": {},
   "outputs": [],
   "source": [
    "# Check if each promotor id is unqiue to a client \n",
    "# Group by client and count the number of unique promotors per client\n",
    "promotors_per_client = df.groupby('client_id')['promotor_id'].nunique()\n",
    "\n",
    "# Filter clients who have more than one unique promotor\n",
    "clients_with_multiple_promotors = promotors_per_client[promotors_per_client > 1]\n",
    "\n",
    "# Print result\n",
    "if clients_with_multiple_promotors.empty:\n",
    "    print(\"✅ Each client has only one unique promotor_id assigned.\")\n",
    "else:\n",
    "    print(\"❌ Some clients have more than one promotor_id assigned.\")\n",
    "    print(clients_with_multiple_promotors)\n",
    "# Group by promotor and count how many unique clients each handles\n",
    "clients_per_promotor = df.groupby('promotor_id')['client_id'].nunique()\n",
    "\n",
    "# Filter promotors that handle more than one client\n",
    "promotors_with_multiple_clients = clients_per_promotor[clients_per_promotor > 1]\n",
    "\n",
    "# Print the result\n",
    "print(f\"Number of promotors assigned to more than one client: {promotors_with_multiple_clients.shape[0]}\")\n",
    "df.head()"
   ]
  },
  {
   "cell_type": "markdown",
   "id": "896aec8b",
   "metadata": {},
   "source": [
    " * [Part 4.1.4 - Validation of Unique `tel_contacts_month` Assignments](#4.1.4)"
   ]
  },
  {
   "cell_type": "markdown",
   "id": "45bcbc2f",
   "metadata": {},
   "source": [
    "<a id='4.1.4'></a>\n",
    "#### Part 4.1.4 – Validation of Unique `tel_contacts_month` Assignments --> GO OVER"
   ]
  },
  {
   "cell_type": "markdown",
   "id": "53c18693",
   "metadata": {},
   "source": [
    "Although the number of monthly telephone contacts (`tel_contacts_month`) was not critical to achieving the project’s primary objective, we considered it potentially useful for future stages of the analysis. Therefore, we performed a validation step to ensure that the number of monthly telephone contacts  was consistent for each client across the entire dataset. As with previous checks, our goal was to confirm that each client had a unique `tel_contacts_month` value assigned, which would allow us to reliably aggregate clients using this variable if needed."
   ]
  },
  {
   "cell_type": "code",
   "execution_count": null,
   "id": "b282ad57",
   "metadata": {},
   "outputs": [
    {
     "name": "stdout",
     "output_type": "stream",
     "text": [
      "Number of clients with inconsistent tel_contacts_month: 532\n",
      "List of clients with inconsistencies:\n",
      "       client_id  unique_tel_contacts_values\n",
      "163    103024993                           2\n",
      "279    105568281                           2\n",
      "356    107224090                           2\n",
      "431    108470306                           2\n",
      "747    115583694                           2\n",
      "...          ...                         ...\n",
      "41578  994146921                           2\n",
      "41704  996820053                           2\n",
      "41764  998060984                           2\n",
      "41839  999413800                           2\n",
      "41869  999941988                           2\n",
      "\n",
      "[532 rows x 2 columns]\n"
     ]
    }
   ],
   "source": [
    "# Group by client_id and count unique values of tel_contacts_month\n",
    "tel_contact_variability = df.groupby('client_id')['tel_contacts_month'].nunique().reset_index()\n",
    "tel_contact_variability.columns = ['client_id', 'unique_tel_contacts_values']\n",
    "\n",
    "# Filter clients with more than one unique value\n",
    "inconsistent_clients_tel = tel_contact_variability[tel_contact_variability['unique_tel_contacts_values'] > 1]\n",
    "\n",
    "print(\"Number of clients with inconsistent tel_contacts_month:\", inconsistent_clients_tel.shape[0])\n",
    "print(\"List of clients with inconsistencies:\")\n",
    "print(inconsistent_clients_tel)"
   ]
  },
  {
   "cell_type": "code",
   "execution_count": null,
   "id": "3b2ee6a8",
   "metadata": {},
   "outputs": [
    {
     "data": {
      "text/plain": [
       "unique_tel_contacts_values\n",
       "2    532\n",
       "Name: count, dtype: int64"
      ]
     },
     "metadata": {},
     "output_type": "display_data"
    }
   ],
   "source": [
    "inconsistent_clients_tel['unique_tel_contacts_values'].value_counts()"
   ]
  },
  {
   "cell_type": "code",
   "execution_count": null,
   "id": "1ba6adbb",
   "metadata": {},
   "outputs": [
    {
     "name": "stdout",
     "output_type": "stream",
     "text": [
      "✅ All clients with 2 values have 0 as one of them.\n"
     ]
    }
   ],
   "source": [
    "# Identifying clients who had more than one unique value for tel_contacts_month\n",
    "clients_with_2_tel_values = df.groupby('client_id')['tel_contacts_month'].nunique()\n",
    "clients_with_2_tel_values = clients_with_2_tel_values[clients_with_2_tel_values > 1].index\n",
    "\n",
    "# Checking if all these clients had 0 as one of their values\n",
    "has_only_0_and_one_other_tel = True\n",
    "\n",
    "for client in clients_with_2_tel_values:\n",
    "    values_tel = df[df['client_id'] == client]['tel_contacts_month'].unique()\n",
    "    if 0 not in values_tel:\n",
    "        print(f\"⚠️ Client {client} does NOT have 0 as one of the values. Values: {values_tel}\")\n",
    "        has_only_0_and_one_other_tel = False\n",
    "\n",
    "if has_only_0_and_one_other_tel:\n",
    "    print(\"✅ All clients with 2 values have 0 as one of them.\")\n",
    "else:\n",
    "    print(\"❌ Some clients have 2 values, but one of them is not 0.\")"
   ]
  },
  {
   "cell_type": "markdown",
   "id": "bbfcb381",
   "metadata": {},
   "source": [
    "We observed that the same issue affecting `prom_contacts_month` was also present in the `tel_contacts_month` variable. For all clients with more than one unique value, the additional (non-assigned) value was always zero. Based on this consistent pattern, we applied the same methodology as before: replacing the zero values with the corresponding non-zero value specific to each client to ensure consistency across the dataset."
   ]
  },
  {
   "cell_type": "code",
   "execution_count": null,
   "id": "d92d228e",
   "metadata": {},
   "outputs": [],
   "source": [
    "# For each client with inconsistent values, identifying the correct (non-zero) tel_contacts_month value\n",
    "client_correct_value_tel = {}\n",
    "\n",
    "for client in clients_with_2_tel_values:\n",
    "    values_tel = df[df['client_id'] == client]['tel_contacts_month'].unique()\n",
    "    non_zero_value = [v for v in values if v != 0][0]  # the correct value\n",
    "    client_correct_value_tel[client] = non_zero_value\n",
    "\n",
    "# Defining a function to replace 0s with the correct value for each client\n",
    "def replace_zero_with_correct_tel(row):\n",
    "    if row['client_id'] in client_correct_value_tel and row['tel_contacts_month'] == 0:\n",
    "        return client_correct_value_tel[row['client_id']]\n",
    "    return row['tel_contacts_month']\n",
    "\n",
    "# Applying the function\n",
    "df['tel_contacts_month'] = df.apply(replace_zero_with_correct_tel, axis=1)"
   ]
  },
  {
   "cell_type": "code",
   "execution_count": null,
   "id": "f39f206f",
   "metadata": {},
   "outputs": [
    {
     "name": "stdout",
     "output_type": "stream",
     "text": [
      "Number of clients with inconsistent tel_contacts_month: 341\n",
      "List of clients with inconsistencies:\n",
      "       client_id  unique_tel_contacts_values\n",
      "356    107224090                           2\n",
      "431    108470306                           2\n",
      "747    115583694                           2\n",
      "994    120746611                           2\n",
      "1100   122763063                           2\n",
      "...          ...                         ...\n",
      "41258  986864675                           2\n",
      "41458  991748575                           2\n",
      "41704  996820053                           2\n",
      "41764  998060984                           2\n",
      "41839  999413800                           2\n",
      "\n",
      "[341 rows x 2 columns]\n"
     ]
    }
   ],
   "source": [
    "# Group by client_id and count unique values of tel_contacts_month\n",
    "tel_contact_variability = df.groupby('client_id')['tel_contacts_month'].nunique().reset_index()\n",
    "tel_contact_variability.columns = ['client_id', 'unique_tel_contacts_values']\n",
    "\n",
    "# Filter clients with more than one unique value\n",
    "inconsistent_clients_tel = tel_contact_variability[tel_contact_variability['unique_tel_contacts_values'] > 1]\n",
    "\n",
    "print(\"Number of clients with inconsistent tel_contacts_month:\", inconsistent_clients_tel.shape[0])\n",
    "print(\"List of clients with inconsistencies:\")\n",
    "print(inconsistent_clients_tel)"
   ]
  },
  {
   "cell_type": "code",
   "execution_count": null,
   "id": "8e9f936d",
   "metadata": {},
   "outputs": [
    {
     "data": {
      "text/html": [
       "<div>\n",
       "<style scoped>\n",
       "    .dataframe tbody tr th:only-of-type {\n",
       "        vertical-align: middle;\n",
       "    }\n",
       "\n",
       "    .dataframe tbody tr th {\n",
       "        vertical-align: top;\n",
       "    }\n",
       "\n",
       "    .dataframe thead th {\n",
       "        text-align: right;\n",
       "    }\n",
       "</style>\n",
       "<table border=\"1\" class=\"dataframe\">\n",
       "  <thead>\n",
       "    <tr style=\"text-align: right;\">\n",
       "      <th></th>\n",
       "      <th>date</th>\n",
       "      <th>city</th>\n",
       "      <th>channel</th>\n",
       "      <th>client_id</th>\n",
       "      <th>promotor_id</th>\n",
       "      <th>volume</th>\n",
       "      <th>income</th>\n",
       "      <th>number_of_orders</th>\n",
       "      <th>median_ticket</th>\n",
       "      <th>prom_contacts_month</th>\n",
       "      <th>tel_contacts_month</th>\n",
       "      <th>month</th>\n",
       "    </tr>\n",
       "  </thead>\n",
       "  <tbody>\n",
       "    <tr>\n",
       "      <th>137415</th>\n",
       "      <td>2024-03-28</td>\n",
       "      <td>Barcelona</td>\n",
       "      <td>AR</td>\n",
       "      <td>108470306</td>\n",
       "      <td>9820087</td>\n",
       "      <td>3294.00</td>\n",
       "      <td>927.36</td>\n",
       "      <td>1</td>\n",
       "      <td>927.36</td>\n",
       "      <td>1</td>\n",
       "      <td>3</td>\n",
       "      <td>2024-03</td>\n",
       "    </tr>\n",
       "    <tr>\n",
       "      <th>146392</th>\n",
       "      <td>2024-04-16</td>\n",
       "      <td>Barcelona</td>\n",
       "      <td>AR</td>\n",
       "      <td>108470306</td>\n",
       "      <td>9820087</td>\n",
       "      <td>1465.24</td>\n",
       "      <td>1249.38</td>\n",
       "      <td>1</td>\n",
       "      <td>1249.38</td>\n",
       "      <td>1</td>\n",
       "      <td>3</td>\n",
       "      <td>2024-04</td>\n",
       "    </tr>\n",
       "    <tr>\n",
       "      <th>147270</th>\n",
       "      <td>2024-04-17</td>\n",
       "      <td>Barcelona</td>\n",
       "      <td>AR</td>\n",
       "      <td>108470306</td>\n",
       "      <td>9820087</td>\n",
       "      <td>3294.00</td>\n",
       "      <td>927.36</td>\n",
       "      <td>1</td>\n",
       "      <td>927.36</td>\n",
       "      <td>1</td>\n",
       "      <td>3</td>\n",
       "      <td>2024-04</td>\n",
       "    </tr>\n",
       "    <tr>\n",
       "      <th>150701</th>\n",
       "      <td>2024-04-23</td>\n",
       "      <td>Barcelona</td>\n",
       "      <td>AR</td>\n",
       "      <td>108470306</td>\n",
       "      <td>9820087</td>\n",
       "      <td>48.00</td>\n",
       "      <td>0.00</td>\n",
       "      <td>1</td>\n",
       "      <td>0.00</td>\n",
       "      <td>1</td>\n",
       "      <td>2</td>\n",
       "      <td>2024-04</td>\n",
       "    </tr>\n",
       "    <tr>\n",
       "      <th>159051</th>\n",
       "      <td>2024-05-08</td>\n",
       "      <td>Barcelona</td>\n",
       "      <td>AR</td>\n",
       "      <td>108470306</td>\n",
       "      <td>9820087</td>\n",
       "      <td>4941.00</td>\n",
       "      <td>1391.04</td>\n",
       "      <td>1</td>\n",
       "      <td>1391.04</td>\n",
       "      <td>1</td>\n",
       "      <td>3</td>\n",
       "      <td>2024-05</td>\n",
       "    </tr>\n",
       "    <tr>\n",
       "      <th>164194</th>\n",
       "      <td>2024-05-16</td>\n",
       "      <td>Barcelona</td>\n",
       "      <td>AR</td>\n",
       "      <td>108470306</td>\n",
       "      <td>9820087</td>\n",
       "      <td>567.84</td>\n",
       "      <td>1600.92</td>\n",
       "      <td>1</td>\n",
       "      <td>1600.92</td>\n",
       "      <td>1</td>\n",
       "      <td>3</td>\n",
       "      <td>2024-05</td>\n",
       "    </tr>\n",
       "    <tr>\n",
       "      <th>165159</th>\n",
       "      <td>2024-05-17</td>\n",
       "      <td>Barcelona</td>\n",
       "      <td>AR</td>\n",
       "      <td>108470306</td>\n",
       "      <td>9820087</td>\n",
       "      <td>511.08</td>\n",
       "      <td>1600.92</td>\n",
       "      <td>1</td>\n",
       "      <td>1600.92</td>\n",
       "      <td>1</td>\n",
       "      <td>3</td>\n",
       "      <td>2024-05</td>\n",
       "    </tr>\n",
       "    <tr>\n",
       "      <th>166827</th>\n",
       "      <td>2024-05-22</td>\n",
       "      <td>Barcelona</td>\n",
       "      <td>AR</td>\n",
       "      <td>108470306</td>\n",
       "      <td>9820087</td>\n",
       "      <td>624.60</td>\n",
       "      <td>1600.92</td>\n",
       "      <td>1</td>\n",
       "      <td>1600.92</td>\n",
       "      <td>1</td>\n",
       "      <td>3</td>\n",
       "      <td>2024-05</td>\n",
       "    </tr>\n",
       "    <tr>\n",
       "      <th>167969</th>\n",
       "      <td>2024-05-23</td>\n",
       "      <td>Barcelona</td>\n",
       "      <td>AR</td>\n",
       "      <td>108470306</td>\n",
       "      <td>9820087</td>\n",
       "      <td>5508.84</td>\n",
       "      <td>2991.96</td>\n",
       "      <td>1</td>\n",
       "      <td>1495.98</td>\n",
       "      <td>1</td>\n",
       "      <td>3</td>\n",
       "      <td>2024-05</td>\n",
       "    </tr>\n",
       "    <tr>\n",
       "      <th>168973</th>\n",
       "      <td>2024-05-24</td>\n",
       "      <td>Barcelona</td>\n",
       "      <td>AR</td>\n",
       "      <td>108470306</td>\n",
       "      <td>9820087</td>\n",
       "      <td>567.84</td>\n",
       "      <td>1600.92</td>\n",
       "      <td>1</td>\n",
       "      <td>1600.92</td>\n",
       "      <td>1</td>\n",
       "      <td>3</td>\n",
       "      <td>2024-05</td>\n",
       "    </tr>\n",
       "    <tr>\n",
       "      <th>169945</th>\n",
       "      <td>2024-05-27</td>\n",
       "      <td>Barcelona</td>\n",
       "      <td>AR</td>\n",
       "      <td>108470306</td>\n",
       "      <td>9820087</td>\n",
       "      <td>567.84</td>\n",
       "      <td>1600.92</td>\n",
       "      <td>1</td>\n",
       "      <td>1600.92</td>\n",
       "      <td>1</td>\n",
       "      <td>3</td>\n",
       "      <td>2024-05</td>\n",
       "    </tr>\n",
       "    <tr>\n",
       "      <th>170612</th>\n",
       "      <td>2024-05-28</td>\n",
       "      <td>Barcelona</td>\n",
       "      <td>AR</td>\n",
       "      <td>108470306</td>\n",
       "      <td>9820087</td>\n",
       "      <td>567.84</td>\n",
       "      <td>1600.92</td>\n",
       "      <td>1</td>\n",
       "      <td>1600.92</td>\n",
       "      <td>1</td>\n",
       "      <td>3</td>\n",
       "      <td>2024-05</td>\n",
       "    </tr>\n",
       "    <tr>\n",
       "      <th>193310</th>\n",
       "      <td>2024-07-05</td>\n",
       "      <td>Barcelona</td>\n",
       "      <td>AR</td>\n",
       "      <td>108470306</td>\n",
       "      <td>9820087</td>\n",
       "      <td>5020.02</td>\n",
       "      <td>1846.99</td>\n",
       "      <td>1</td>\n",
       "      <td>1846.99</td>\n",
       "      <td>1</td>\n",
       "      <td>3</td>\n",
       "      <td>2024-07</td>\n",
       "    </tr>\n",
       "    <tr>\n",
       "      <th>198641</th>\n",
       "      <td>2024-07-16</td>\n",
       "      <td>Barcelona</td>\n",
       "      <td>AR</td>\n",
       "      <td>108470306</td>\n",
       "      <td>9820087</td>\n",
       "      <td>5350.68</td>\n",
       "      <td>1705.91</td>\n",
       "      <td>1</td>\n",
       "      <td>852.96</td>\n",
       "      <td>1</td>\n",
       "      <td>3</td>\n",
       "      <td>2024-07</td>\n",
       "    </tr>\n",
       "    <tr>\n",
       "      <th>199527</th>\n",
       "      <td>2024-07-17</td>\n",
       "      <td>Barcelona</td>\n",
       "      <td>AR</td>\n",
       "      <td>108470306</td>\n",
       "      <td>9820087</td>\n",
       "      <td>648.00</td>\n",
       "      <td>243.65</td>\n",
       "      <td>1</td>\n",
       "      <td>243.65</td>\n",
       "      <td>1</td>\n",
       "      <td>3</td>\n",
       "      <td>2024-07</td>\n",
       "    </tr>\n",
       "    <tr>\n",
       "      <th>203504</th>\n",
       "      <td>2024-07-24</td>\n",
       "      <td>Barcelona</td>\n",
       "      <td>AR</td>\n",
       "      <td>108470306</td>\n",
       "      <td>9820087</td>\n",
       "      <td>4428.00</td>\n",
       "      <td>1276.85</td>\n",
       "      <td>1</td>\n",
       "      <td>1276.85</td>\n",
       "      <td>1</td>\n",
       "      <td>3</td>\n",
       "      <td>2024-07</td>\n",
       "    </tr>\n",
       "    <tr>\n",
       "      <th>213355</th>\n",
       "      <td>2024-08-13</td>\n",
       "      <td>Barcelona</td>\n",
       "      <td>AR</td>\n",
       "      <td>108470306</td>\n",
       "      <td>9820087</td>\n",
       "      <td>2916.00</td>\n",
       "      <td>866.16</td>\n",
       "      <td>1</td>\n",
       "      <td>866.16</td>\n",
       "      <td>1</td>\n",
       "      <td>3</td>\n",
       "      <td>2024-08</td>\n",
       "    </tr>\n",
       "    <tr>\n",
       "      <th>216588</th>\n",
       "      <td>2024-08-21</td>\n",
       "      <td>Barcelona</td>\n",
       "      <td>AR</td>\n",
       "      <td>108470306</td>\n",
       "      <td>9820087</td>\n",
       "      <td>561.36</td>\n",
       "      <td>726.42</td>\n",
       "      <td>1</td>\n",
       "      <td>726.42</td>\n",
       "      <td>1</td>\n",
       "      <td>3</td>\n",
       "      <td>2024-08</td>\n",
       "    </tr>\n",
       "    <tr>\n",
       "      <th>217813</th>\n",
       "      <td>2024-08-23</td>\n",
       "      <td>Barcelona</td>\n",
       "      <td>AR</td>\n",
       "      <td>108470306</td>\n",
       "      <td>9820087</td>\n",
       "      <td>1776.00</td>\n",
       "      <td>5054.40</td>\n",
       "      <td>1</td>\n",
       "      <td>5054.40</td>\n",
       "      <td>1</td>\n",
       "      <td>3</td>\n",
       "      <td>2024-08</td>\n",
       "    </tr>\n",
       "    <tr>\n",
       "      <th>218970</th>\n",
       "      <td>2024-08-27</td>\n",
       "      <td>Barcelona</td>\n",
       "      <td>AR</td>\n",
       "      <td>108470306</td>\n",
       "      <td>9820087</td>\n",
       "      <td>1776.00</td>\n",
       "      <td>5054.40</td>\n",
       "      <td>1</td>\n",
       "      <td>5054.40</td>\n",
       "      <td>1</td>\n",
       "      <td>3</td>\n",
       "      <td>2024-08</td>\n",
       "    </tr>\n",
       "    <tr>\n",
       "      <th>234215</th>\n",
       "      <td>2024-09-25</td>\n",
       "      <td>Barcelona</td>\n",
       "      <td>AR</td>\n",
       "      <td>108470306</td>\n",
       "      <td>9820087</td>\n",
       "      <td>4428.00</td>\n",
       "      <td>1279.44</td>\n",
       "      <td>1</td>\n",
       "      <td>1279.44</td>\n",
       "      <td>1</td>\n",
       "      <td>3</td>\n",
       "      <td>2024-09</td>\n",
       "    </tr>\n",
       "    <tr>\n",
       "      <th>241566</th>\n",
       "      <td>2024-10-08</td>\n",
       "      <td>Barcelona</td>\n",
       "      <td>AR</td>\n",
       "      <td>108470306</td>\n",
       "      <td>9820087</td>\n",
       "      <td>5474.70</td>\n",
       "      <td>2087.46</td>\n",
       "      <td>1</td>\n",
       "      <td>2087.46</td>\n",
       "      <td>1</td>\n",
       "      <td>3</td>\n",
       "      <td>2024-10</td>\n",
       "    </tr>\n",
       "    <tr>\n",
       "      <th>245289</th>\n",
       "      <td>2024-10-15</td>\n",
       "      <td>Barcelona</td>\n",
       "      <td>AR</td>\n",
       "      <td>108470306</td>\n",
       "      <td>9820087</td>\n",
       "      <td>371.60</td>\n",
       "      <td>432.64</td>\n",
       "      <td>1</td>\n",
       "      <td>432.64</td>\n",
       "      <td>1</td>\n",
       "      <td>3</td>\n",
       "      <td>2024-10</td>\n",
       "    </tr>\n",
       "    <tr>\n",
       "      <th>253241</th>\n",
       "      <td>2024-10-29</td>\n",
       "      <td>Barcelona</td>\n",
       "      <td>AR</td>\n",
       "      <td>108470306</td>\n",
       "      <td>9820087</td>\n",
       "      <td>3614.70</td>\n",
       "      <td>1592.64</td>\n",
       "      <td>1</td>\n",
       "      <td>1592.64</td>\n",
       "      <td>1</td>\n",
       "      <td>3</td>\n",
       "      <td>2024-10</td>\n",
       "    </tr>\n",
       "    <tr>\n",
       "      <th>259726</th>\n",
       "      <td>2024-11-11</td>\n",
       "      <td>Barcelona</td>\n",
       "      <td>AR</td>\n",
       "      <td>108470306</td>\n",
       "      <td>9820087</td>\n",
       "      <td>4464.00</td>\n",
       "      <td>1328.10</td>\n",
       "      <td>1</td>\n",
       "      <td>1328.10</td>\n",
       "      <td>1</td>\n",
       "      <td>3</td>\n",
       "      <td>2024-11</td>\n",
       "    </tr>\n",
       "    <tr>\n",
       "      <th>271714</th>\n",
       "      <td>2024-12-03</td>\n",
       "      <td>Barcelona</td>\n",
       "      <td>AR</td>\n",
       "      <td>108470306</td>\n",
       "      <td>9820087</td>\n",
       "      <td>4572.00</td>\n",
       "      <td>1825.20</td>\n",
       "      <td>1</td>\n",
       "      <td>1825.20</td>\n",
       "      <td>1</td>\n",
       "      <td>3</td>\n",
       "      <td>2024-12</td>\n",
       "    </tr>\n",
       "    <tr>\n",
       "      <th>275883</th>\n",
       "      <td>2024-12-11</td>\n",
       "      <td>Barcelona</td>\n",
       "      <td>AR</td>\n",
       "      <td>108470306</td>\n",
       "      <td>9820087</td>\n",
       "      <td>1908.00</td>\n",
       "      <td>5934.33</td>\n",
       "      <td>1</td>\n",
       "      <td>2967.16</td>\n",
       "      <td>1</td>\n",
       "      <td>3</td>\n",
       "      <td>2024-12</td>\n",
       "    </tr>\n",
       "    <tr>\n",
       "      <th>277505</th>\n",
       "      <td>2024-12-13</td>\n",
       "      <td>Barcelona</td>\n",
       "      <td>AR</td>\n",
       "      <td>108470306</td>\n",
       "      <td>9820087</td>\n",
       "      <td>841.01</td>\n",
       "      <td>1806.62</td>\n",
       "      <td>1</td>\n",
       "      <td>1806.62</td>\n",
       "      <td>1</td>\n",
       "      <td>3</td>\n",
       "      <td>2024-12</td>\n",
       "    </tr>\n",
       "  </tbody>\n",
       "</table>\n",
       "</div>"
      ],
      "text/plain": [
       "             date       city channel  client_id promotor_id  volume  income  \\\n",
       "137415 2024-03-28  Barcelona      AR  108470306     9820087 3294.00  927.36   \n",
       "146392 2024-04-16  Barcelona      AR  108470306     9820087 1465.24 1249.38   \n",
       "147270 2024-04-17  Barcelona      AR  108470306     9820087 3294.00  927.36   \n",
       "150701 2024-04-23  Barcelona      AR  108470306     9820087   48.00    0.00   \n",
       "159051 2024-05-08  Barcelona      AR  108470306     9820087 4941.00 1391.04   \n",
       "164194 2024-05-16  Barcelona      AR  108470306     9820087  567.84 1600.92   \n",
       "165159 2024-05-17  Barcelona      AR  108470306     9820087  511.08 1600.92   \n",
       "166827 2024-05-22  Barcelona      AR  108470306     9820087  624.60 1600.92   \n",
       "167969 2024-05-23  Barcelona      AR  108470306     9820087 5508.84 2991.96   \n",
       "168973 2024-05-24  Barcelona      AR  108470306     9820087  567.84 1600.92   \n",
       "169945 2024-05-27  Barcelona      AR  108470306     9820087  567.84 1600.92   \n",
       "170612 2024-05-28  Barcelona      AR  108470306     9820087  567.84 1600.92   \n",
       "193310 2024-07-05  Barcelona      AR  108470306     9820087 5020.02 1846.99   \n",
       "198641 2024-07-16  Barcelona      AR  108470306     9820087 5350.68 1705.91   \n",
       "199527 2024-07-17  Barcelona      AR  108470306     9820087  648.00  243.65   \n",
       "203504 2024-07-24  Barcelona      AR  108470306     9820087 4428.00 1276.85   \n",
       "213355 2024-08-13  Barcelona      AR  108470306     9820087 2916.00  866.16   \n",
       "216588 2024-08-21  Barcelona      AR  108470306     9820087  561.36  726.42   \n",
       "217813 2024-08-23  Barcelona      AR  108470306     9820087 1776.00 5054.40   \n",
       "218970 2024-08-27  Barcelona      AR  108470306     9820087 1776.00 5054.40   \n",
       "234215 2024-09-25  Barcelona      AR  108470306     9820087 4428.00 1279.44   \n",
       "241566 2024-10-08  Barcelona      AR  108470306     9820087 5474.70 2087.46   \n",
       "245289 2024-10-15  Barcelona      AR  108470306     9820087  371.60  432.64   \n",
       "253241 2024-10-29  Barcelona      AR  108470306     9820087 3614.70 1592.64   \n",
       "259726 2024-11-11  Barcelona      AR  108470306     9820087 4464.00 1328.10   \n",
       "271714 2024-12-03  Barcelona      AR  108470306     9820087 4572.00 1825.20   \n",
       "275883 2024-12-11  Barcelona      AR  108470306     9820087 1908.00 5934.33   \n",
       "277505 2024-12-13  Barcelona      AR  108470306     9820087  841.01 1806.62   \n",
       "\n",
       "        number_of_orders  median_ticket  prom_contacts_month  \\\n",
       "137415                 1         927.36                    1   \n",
       "146392                 1        1249.38                    1   \n",
       "147270                 1         927.36                    1   \n",
       "150701                 1           0.00                    1   \n",
       "159051                 1        1391.04                    1   \n",
       "164194                 1        1600.92                    1   \n",
       "165159                 1        1600.92                    1   \n",
       "166827                 1        1600.92                    1   \n",
       "167969                 1        1495.98                    1   \n",
       "168973                 1        1600.92                    1   \n",
       "169945                 1        1600.92                    1   \n",
       "170612                 1        1600.92                    1   \n",
       "193310                 1        1846.99                    1   \n",
       "198641                 1         852.96                    1   \n",
       "199527                 1         243.65                    1   \n",
       "203504                 1        1276.85                    1   \n",
       "213355                 1         866.16                    1   \n",
       "216588                 1         726.42                    1   \n",
       "217813                 1        5054.40                    1   \n",
       "218970                 1        5054.40                    1   \n",
       "234215                 1        1279.44                    1   \n",
       "241566                 1        2087.46                    1   \n",
       "245289                 1         432.64                    1   \n",
       "253241                 1        1592.64                    1   \n",
       "259726                 1        1328.10                    1   \n",
       "271714                 1        1825.20                    1   \n",
       "275883                 1        2967.16                    1   \n",
       "277505                 1        1806.62                    1   \n",
       "\n",
       "        tel_contacts_month    month  \n",
       "137415                   3  2024-03  \n",
       "146392                   3  2024-04  \n",
       "147270                   3  2024-04  \n",
       "150701                   2  2024-04  \n",
       "159051                   3  2024-05  \n",
       "164194                   3  2024-05  \n",
       "165159                   3  2024-05  \n",
       "166827                   3  2024-05  \n",
       "167969                   3  2024-05  \n",
       "168973                   3  2024-05  \n",
       "169945                   3  2024-05  \n",
       "170612                   3  2024-05  \n",
       "193310                   3  2024-07  \n",
       "198641                   3  2024-07  \n",
       "199527                   3  2024-07  \n",
       "203504                   3  2024-07  \n",
       "213355                   3  2024-08  \n",
       "216588                   3  2024-08  \n",
       "217813                   3  2024-08  \n",
       "218970                   3  2024-08  \n",
       "234215                   3  2024-09  \n",
       "241566                   3  2024-10  \n",
       "245289                   3  2024-10  \n",
       "253241                   3  2024-10  \n",
       "259726                   3  2024-11  \n",
       "271714                   3  2024-12  \n",
       "275883                   3  2024-12  \n",
       "277505                   3  2024-12  "
      ]
     },
     "metadata": {},
     "output_type": "display_data"
    }
   ],
   "source": [
    "df[df['client_id']=='108470306']"
   ]
  },
  {
   "cell_type": "markdown",
   "id": "60a1c892",
   "metadata": {},
   "source": [
    "We were able to procede with the next validation step having sorted this out."
   ]
  },
  {
   "cell_type": "code",
   "execution_count": null,
   "id": "ae52b2d6",
   "metadata": {},
   "outputs": [],
   "source": [
    "# 4,3 yearly - final aggregated table"
   ]
  },
  {
   "cell_type": "markdown",
   "id": "28be95f9",
   "metadata": {},
   "source": [
    "# ROUGH BELOW "
   ]
  },
  {
   "cell_type": "code",
   "execution_count": null,
   "id": "5bc23147",
   "metadata": {},
   "outputs": [
    {
     "name": "stdout",
     "output_type": "stream",
     "text": [
      "<class 'pandas.core.frame.DataFrame'>\n",
      "RangeIndex: 41871 entries, 0 to 41870\n",
      "Data columns (total 15 columns):\n",
      " #   Column                   Non-Null Count  Dtype  \n",
      "---  ------                   --------------  -----  \n",
      " 0   client_id                41871 non-null  object \n",
      " 1   city                     41871 non-null  object \n",
      " 2   channel                  41871 non-null  object \n",
      " 3   promotor_id              41871 non-null  object \n",
      " 4   yearly_volume            41871 non-null  float64\n",
      " 5   yearly_income            41871 non-null  float64\n",
      " 6   yearly_number_of_orders  41871 non-null  int64  \n",
      " 7   median_ticket            41871 non-null  float64\n",
      " 8   prom_contacts_month      41871 non-null  int64  \n",
      " 9   tel_contacts_month       41871 non-null  int64  \n",
      " 10  frequency                41871 non-null  float64\n",
      " 11  efficiency               41871 non-null  float64\n",
      " 12  logistics_cost           41871 non-null  int64  \n",
      " 13  visit_cost               41871 non-null  int64  \n",
      " 14  total_cost               41871 non-null  int64  \n",
      "dtypes: float64(5), int64(6), object(4)\n",
      "memory usage: 4.8+ MB\n"
     ]
    }
   ],
   "source": [
    "yearly_df.info()"
   ]
  },
  {
   "cell_type": "code",
   "execution_count": null,
   "id": "34f5fe75",
   "metadata": {},
   "outputs": [
    {
     "data": {
      "text/plain": [
       "client_id                  0\n",
       "city                       0\n",
       "channel                    0\n",
       "promotor_id                0\n",
       "yearly_volume              0\n",
       "yearly_income              0\n",
       "yearly_number_of_orders    0\n",
       "median_ticket              0\n",
       "prom_contacts_month        0\n",
       "tel_contacts_month         0\n",
       "frequency                  0\n",
       "efficiency                 0\n",
       "logistics_cost             0\n",
       "visit_cost                 0\n",
       "total_cost                 0\n",
       "dtype: int64"
      ]
     },
     "metadata": {},
     "output_type": "display_data"
    }
   ],
   "source": [
    "yearly_df.isna().sum()"
   ]
  },
  {
   "cell_type": "code",
   "execution_count": null,
   "id": "c2af4ff4",
   "metadata": {},
   "outputs": [
    {
     "data": {
      "text/plain": [
       "False"
      ]
     },
     "metadata": {},
     "output_type": "display_data"
    }
   ],
   "source": [
    "yearly_df.duplicated().any()"
   ]
  },
  {
   "cell_type": "code",
   "execution_count": null,
   "id": "14e7932f",
   "metadata": {},
   "outputs": [
    {
     "data": {
      "text/html": [
       "<div>\n",
       "<style scoped>\n",
       "    .dataframe tbody tr th:only-of-type {\n",
       "        vertical-align: middle;\n",
       "    }\n",
       "\n",
       "    .dataframe tbody tr th {\n",
       "        vertical-align: top;\n",
       "    }\n",
       "\n",
       "    .dataframe thead th {\n",
       "        text-align: right;\n",
       "    }\n",
       "</style>\n",
       "<table border=\"1\" class=\"dataframe\">\n",
       "  <thead>\n",
       "    <tr style=\"text-align: right;\">\n",
       "      <th></th>\n",
       "      <th>client_id</th>\n",
       "      <th>city</th>\n",
       "      <th>channel</th>\n",
       "      <th>promotor_id</th>\n",
       "      <th>yearly_volume</th>\n",
       "      <th>yearly_income</th>\n",
       "      <th>yearly_number_of_orders</th>\n",
       "      <th>median_ticket</th>\n",
       "      <th>prom_contacts_month</th>\n",
       "      <th>tel_contacts_month</th>\n",
       "      <th>frequency</th>\n",
       "      <th>efficiency</th>\n",
       "      <th>logistics_cost</th>\n",
       "      <th>visit_cost</th>\n",
       "      <th>total_cost</th>\n",
       "    </tr>\n",
       "  </thead>\n",
       "  <tbody>\n",
       "  </tbody>\n",
       "</table>\n",
       "</div>"
      ],
      "text/plain": [
       "Empty DataFrame\n",
       "Columns: [client_id, city, channel, promotor_id, yearly_volume, yearly_income, yearly_number_of_orders, median_ticket, prom_contacts_month, tel_contacts_month, frequency, efficiency, logistics_cost, visit_cost, total_cost]\n",
       "Index: []"
      ]
     },
     "metadata": {},
     "output_type": "display_data"
    }
   ],
   "source": [
    "#Checking there are no clients with negative yearly income\n",
    "yearly_df[yearly_df['yearly_income'] < 0]"
   ]
  },
  {
   "cell_type": "code",
   "execution_count": null,
   "id": "cfb79f20",
   "metadata": {},
   "outputs": [
    {
     "data": {
      "text/html": [
       "<div>\n",
       "<style scoped>\n",
       "    .dataframe tbody tr th:only-of-type {\n",
       "        vertical-align: middle;\n",
       "    }\n",
       "\n",
       "    .dataframe tbody tr th {\n",
       "        vertical-align: top;\n",
       "    }\n",
       "\n",
       "    .dataframe thead th {\n",
       "        text-align: right;\n",
       "    }\n",
       "</style>\n",
       "<table border=\"1\" class=\"dataframe\">\n",
       "  <thead>\n",
       "    <tr style=\"text-align: right;\">\n",
       "      <th></th>\n",
       "      <th>client_id</th>\n",
       "      <th>city</th>\n",
       "      <th>channel</th>\n",
       "      <th>promotor_id</th>\n",
       "      <th>yearly_volume</th>\n",
       "      <th>yearly_income</th>\n",
       "      <th>yearly_number_of_orders</th>\n",
       "      <th>median_ticket</th>\n",
       "      <th>prom_contacts_month</th>\n",
       "      <th>tel_contacts_month</th>\n",
       "      <th>frequency</th>\n",
       "      <th>efficiency</th>\n",
       "      <th>logistics_cost</th>\n",
       "      <th>visit_cost</th>\n",
       "      <th>total_cost</th>\n",
       "    </tr>\n",
       "  </thead>\n",
       "  <tbody>\n",
       "  </tbody>\n",
       "</table>\n",
       "</div>"
      ],
      "text/plain": [
       "Empty DataFrame\n",
       "Columns: [client_id, city, channel, promotor_id, yearly_volume, yearly_income, yearly_number_of_orders, median_ticket, prom_contacts_month, tel_contacts_month, frequency, efficiency, logistics_cost, visit_cost, total_cost]\n",
       "Index: []"
      ]
     },
     "metadata": {},
     "output_type": "display_data"
    }
   ],
   "source": [
    "#Checking there are no clients with negative yearly volumes\n",
    "yearly_df[yearly_df['yearly_volume'] < 0]"
   ]
  },
  {
   "cell_type": "code",
   "execution_count": null,
   "id": "50cc4e48",
   "metadata": {},
   "outputs": [],
   "source": [
    "yearly_df[yearly_df['client_id']=='999976985']"
   ]
  },
  {
   "cell_type": "code",
   "execution_count": null,
   "id": "e66bf7a7",
   "metadata": {},
   "outputs": [],
   "source": [
    "df[df['client_id']=='999976985']"
   ]
  },
  {
   "cell_type": "code",
   "execution_count": null,
   "id": "75f8d245",
   "metadata": {},
   "outputs": [],
   "source": [
    "#save to csv"
   ]
  },
  {
   "cell_type": "markdown",
   "id": "2614947e",
   "metadata": {},
   "source": [
    "<a id='5'></a>\n",
    "## Part 5 - Exploratory Data Analysis"
   ]
  },
  {
   "cell_type": "code",
   "execution_count": null,
   "id": "9a235aa8",
   "metadata": {},
   "outputs": [],
   "source": [
    "# Set plot style\n",
    "sns.set(style='whitegrid')"
   ]
  },
  {
   "cell_type": "markdown",
   "id": "a5133f42",
   "metadata": {},
   "source": [
    "### Income & Median ticket per client"
   ]
  },
  {
   "cell_type": "code",
   "execution_count": null,
   "id": "5cd32b62",
   "metadata": {},
   "outputs": [],
   "source": [
    "client_df['income'].describe()"
   ]
  },
  {
   "cell_type": "code",
   "execution_count": null,
   "id": "96172624",
   "metadata": {},
   "outputs": [],
   "source": [
    "# 1. Distribution of Total Income\n",
    "plt.figure(figsize=(6, 4))\n",
    "sns.histplot(client_df['income'], bins=50, kde=True)\n",
    "plt.title('Distribution of Total Income per Client')\n",
    "plt.xlabel('Total Income (€)')\n",
    "plt.ylabel('Number of Clients')\n",
    "plt.tight_layout()\n",
    "plt.show()"
   ]
  },
  {
   "cell_type": "code",
   "execution_count": null,
   "id": "35e3faae",
   "metadata": {},
   "outputs": [],
   "source": [
    "neg_income = client_df[client_df['income'] < 0]\n",
    "neg_ticket = client_df[client_df['median_ticket'] < 0]\n",
    "print(f\"Negative income clients: {len(neg_income)}\")\n",
    "print(f\"Negative ticket clients: {len(neg_ticket)}\")\n",
    "\n",
    "# Optional: see overlap\n",
    "neg_both = client_df[(client_df['income'] < 0) & (client_df['median_ticket'] < 0)]"
   ]
  },
  {
   "cell_type": "code",
   "execution_count": null,
   "id": "695926e0",
   "metadata": {},
   "outputs": [],
   "source": [
    "len(neg_both)"
   ]
  },
  {
   "cell_type": "code",
   "execution_count": null,
   "id": "99b30de2",
   "metadata": {},
   "outputs": [],
   "source": [
    "#to drop\n",
    "#client_df = client_df[(client_df['income'] >= 0) & (client_df['median_ticket'] >= 0)]\n"
   ]
  },
  {
   "cell_type": "code",
   "execution_count": null,
   "id": "3f776fa3",
   "metadata": {},
   "outputs": [],
   "source": [
    "client_df['median_ticket'].describe()"
   ]
  },
  {
   "cell_type": "code",
   "execution_count": null,
   "id": "5a50727f",
   "metadata": {},
   "outputs": [],
   "source": [
    "# 2. Distribution of Median Ticket\n",
    "plt.figure(figsize=(6, 4))\n",
    "sns.histplot(client_df['median_ticket'], bins=50, kde=True)\n",
    "plt.axvline(80, color='red', linestyle='--', label='Ticket Threshold (80€)')\n",
    "plt.title('Distribution of Median Ticket per Client')\n",
    "plt.xlabel('Median Ticket (€)')\n",
    "plt.ylabel('Number of Clients')\n",
    "plt.legend()\n",
    "plt.tight_layout()\n",
    "plt.show()"
   ]
  },
  {
   "cell_type": "markdown",
   "id": "6d7ce367",
   "metadata": {},
   "source": [
    "# 3. Efficiency Distribution"
   ]
  },
  {
   "cell_type": "code",
   "execution_count": null,
   "id": "2a624a76",
   "metadata": {},
   "outputs": [],
   "source": [
    "# 3. Efficiency Distribution\n",
    "plt.figure(figsize=(6, 4))\n",
    "sns.histplot(client_df['efficiency'], bins=50, kde=True)\n",
    "plt.title('Distribution of Client Efficiency (Orders / Physical Contacts)')\n",
    "plt.xlabel('Efficiency')\n",
    "plt.ylabel('Number of Clients')\n",
    "plt.tight_layout()\n",
    "plt.show()"
   ]
  },
  {
   "cell_type": "markdown",
   "id": "f9c03e73",
   "metadata": {},
   "source": [
    "# 4. Orders vs Promotor Contacts (Scatter)"
   ]
  },
  {
   "cell_type": "code",
   "execution_count": null,
   "id": "662f11ee",
   "metadata": {},
   "outputs": [],
   "source": [
    "# 4. Orders vs Promotor Contacts (Scatter)\n",
    "plt.figure(figsize=(6, 5))\n",
    "sns.scatterplot(data=client_df, x='prom_contacts_month', y='number_of_orders', hue='channel', alpha=0.6, edgecolor='w')\n",
    "plt.plot([0, client_df['prom_contacts_month'].max()], [0, client_df['prom_contacts_month'].max()], '--', color='grey', label='Ideal 1:1 Line')\n",
    "plt.title('Number of Orders vs. Promotor Contacts')\n",
    "plt.xlabel('Total Promotor Contacts')\n",
    "plt.ylabel('Total Orders')\n",
    "plt.legend()\n",
    "plt.tight_layout()\n",
    "plt.show()"
   ]
  },
  {
   "cell_type": "markdown",
   "id": "abf12380",
   "metadata": {},
   "source": [
    "# 5. Average Efficiency by Channel (Fixed)"
   ]
  },
  {
   "cell_type": "code",
   "execution_count": null,
   "id": "9ab2e0b6",
   "metadata": {},
   "outputs": [],
   "source": [
    "# 5. Average Efficiency by Channel (Fixed)\n",
    "plt.figure(figsize=(6, 4))\n",
    "sns.barplot(data=client_df, x='channel', y='efficiency', estimator=np.mean)\n",
    "plt.title('Average Efficiency by Channel')\n",
    "plt.xlabel('Channel')\n",
    "plt.ylabel('Avg Efficiency')\n",
    "plt.tight_layout()\n",
    "plt.show()"
   ]
  },
  {
   "cell_type": "markdown",
   "id": "bcfa9410",
   "metadata": {},
   "source": [
    "# 6. Correlation Matrix"
   ]
  },
  {
   "cell_type": "code",
   "execution_count": null,
   "id": "c5c76832",
   "metadata": {},
   "outputs": [],
   "source": [
    "# 6. Correlation Matrix\n",
    "plt.figure(figsize=(8, 6))\n",
    "corr = client_df[['income', 'volume', 'number_of_orders', 'prom_contacts_month', 'median_ticket', 'frequency', 'efficiency']].corr()\n",
    "sns.heatmap(corr, annot=True, cmap='coolwarm', fmt=\".2f\")\n",
    "plt.title('Correlation Matrix')\n",
    "plt.tight_layout()\n",
    "plt.show()"
   ]
  },
  {
   "cell_type": "markdown",
   "id": "801435aa",
   "metadata": {},
   "source": [
    "---"
   ]
  }
 ],
 "metadata": {
  "language_info": {
   "name": "python"
  }
 },
 "nbformat": 4,
 "nbformat_minor": 5
}
