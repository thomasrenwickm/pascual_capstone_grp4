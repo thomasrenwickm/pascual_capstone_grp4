{
 "cells": [
  {
   "cell_type": "code",
   "execution_count": null,
   "id": "58210c95",
   "metadata": {},
   "outputs": [],
   "source": [
    "#here will create efficiency column --> will create feature column later on"
   ]
  },
  {
   "cell_type": "code",
   "execution_count": null,
   "id": "4a8a6262",
   "metadata": {},
   "outputs": [],
   "source": [
    "df.head()"
   ]
  },
  {
   "cell_type": "markdown",
   "id": "b7886883",
   "metadata": {},
   "source": [
    "📌 1. Basic Summary & Distributions --> Numeric cols\n",
    "\n",
    "Why: Understand ranges, outliers, and skewed variables."
   ]
  },
  {
   "cell_type": "code",
   "execution_count": null,
   "id": "8a66c858",
   "metadata": {},
   "outputs": [],
   "source": [
    "# Summary\n",
    "df.describe()"
   ]
  },
  {
   "cell_type": "code",
   "execution_count": null,
   "id": "4d8189d1",
   "metadata": {},
   "outputs": [],
   "source": [
    "df[df['income'] < -20000]"
   ]
  },
  {
   "cell_type": "code",
   "execution_count": null,
   "id": "da99280a",
   "metadata": {},
   "outputs": [],
   "source": [
    "plt.figure(figsize=(6,4))\n",
    "sns.histplot(df['income'], bins=50, kde=True)\n",
    "plt.title('Distribution of income')\n",
    "plt.xlabel('income')\n",
    "plt.ylabel('Frequency')\n",
    "plt.tight_layout()\n",
    "plt.show()\n",
    "\n",
    "#what does negative income mean? Does it balance out with positive income when aggregating?\n"
   ]
  },
  {
   "cell_type": "code",
   "execution_count": null,
   "id": "7fb95477",
   "metadata": {},
   "outputs": [],
   "source": [
    "plt.figure(figsize=(6,4))\n",
    "sns.histplot(df['number_of_orders'], bins=50, kde=True)\n",
    "plt.title('Distribution of number_of_orders')\n",
    "plt.xlabel('number_of_orders')\n",
    "plt.ylabel('Frequency')\n",
    "plt.tight_layout()\n",
    "plt.show()\n",
    "\n"
   ]
  },
  {
   "cell_type": "code",
   "execution_count": null,
   "id": "d0ab056e",
   "metadata": {},
   "outputs": [],
   "source": [
    "plt.figure(figsize=(6,4))\n",
    "sns.histplot(df['median_ticket'], bins=50, kde=True)\n",
    "plt.title('Distribution of median ticket')\n",
    "plt.xlabel('median_ticket')\n",
    "plt.ylabel('Frequency')\n",
    "plt.tight_layout()\n",
    "plt.show()\n",
    "\n",
    "#same thing happens here as with income --> not sure if this balances out later on."
   ]
  },
  {
   "cell_type": "code",
   "execution_count": null,
   "id": "396a1e39",
   "metadata": {},
   "outputs": [],
   "source": [
    "plt.figure(figsize=(6,4))\n",
    "sns.histplot(df['prom_contacts_month'], bins=50, kde=True)\n",
    "plt.title('Distribution of prom_contacts_month')\n",
    "plt.xlabel('prom_contacts_month')\n",
    "plt.ylabel('Frequency')\n",
    "plt.tight_layout()\n",
    "plt.show()\n",
    "\n",
    "#most contacts are between 0 and 5 per month --> more might be outlier?"
   ]
  },
  {
   "cell_type": "code",
   "execution_count": null,
   "id": "b58f0661",
   "metadata": {},
   "outputs": [],
   "source": [
    "plt.figure(figsize=(6,4))\n",
    "sns.histplot(df['tel_contacts_month'], bins=50, kde=True)\n",
    "plt.title(f'Distribution of tel_contacts_month')\n",
    "plt.xlabel('tel_contacts_month')\n",
    "plt.ylabel('Frequency')\n",
    "plt.tight_layout()\n",
    "plt.show()"
   ]
  },
  {
   "cell_type": "markdown",
   "id": "902308d6",
   "metadata": {},
   "source": [
    "📌 2. Efficiency Analysis\n",
    "\n",
    "Why: Your objective includes increasing promotor efficiency."
   ]
  },
  {
   "cell_type": "markdown",
   "id": "c4d9f2f1",
   "metadata": {},
   "source": [
    "df['efficiency'] = df['number_of_orders'] / df['prom_contacts_month']\n",
    "\n",
    "# Handle division by zero if needed\n",
    "df['efficiency'] = df['efficiency'].replace([float('inf'), -float('inf')], None)\n",
    "\n",
    "# Visualize\n",
    "plt.figure(figsize=(6,4))\n",
    "sns.histplot(df['efficiency'], bins=50, kde=True)\n",
    "plt.title('Efficiency (Orders per Promotor Contact)')\n",
    "plt.xlabel('Efficiency')\n",
    "plt.ylabel('Frequency')\n",
    "plt.tight_layout()\n",
    "plt.show()\n",
    "\n",
    "# In theory, the number of contacts and orders should be aligned --> efficiency should equal 1\n",
    "## less than 1 (most cases) --> The number of orders is lower than the number of contacts meaning team inefficiency"
   ]
  },
  {
   "cell_type": "markdown",
   "id": "ba659eab",
   "metadata": {},
   "source": [
    "df[df['efficiency'] < 1].shape  # Inefficient clients"
   ]
  },
  {
   "cell_type": "markdown",
   "id": "8f058f1f",
   "metadata": {},
   "source": [
    "📌 3. Low Ticket Clients\n",
    "\n",
    "Why: Ticket < €80 is flagged as risky in the business rules"
   ]
  },
  {
   "cell_type": "code",
   "execution_count": null,
   "id": "f7980d1c",
   "metadata": {},
   "outputs": [],
   "source": [
    "low_ticket_clients = df[df['median_ticket'] < 80]\n",
    "print(f\"Number of clients with median ticket < 80: {len(low_ticket_clients)}\")\n",
    "\n",
    "# Histogram of ticket sizes\n",
    "plt.figure(figsize=(6,4))\n",
    "sns.histplot(df['median_ticket'], bins=50, kde=True)\n",
    "plt.axvline(80, color='red', linestyle='--')\n",
    "plt.title('Median Ticket per Client')\n",
    "plt.xlabel('Median Ticket (€)')\n",
    "plt.ylabel('Number of Clients')\n",
    "plt.tight_layout()\n",
    "plt.show()\n"
   ]
  },
  {
   "cell_type": "markdown",
   "id": "1d640431",
   "metadata": {},
   "source": [
    "📌 4. Contact vs Orders Alignment\n",
    "\n",
    "Why: Misalignment = inefficiency, key optimization goal."
   ]
  },
  {
   "cell_type": "code",
   "execution_count": null,
   "id": "dcc8cdf9",
   "metadata": {},
   "outputs": [],
   "source": [
    "plt.figure(figsize=(7,5))\n",
    "sns.scatterplot(data=df, x='prom_contacts_month', y='number_of_orders', hue='channel', alpha=0.6)\n",
    "plt.plot([0, df['prom_contacts_month'].max()], [0, df['prom_contacts_month'].max()], '--', color='grey')\n",
    "plt.title('Orders vs Promotor Contacts')\n",
    "plt.xlabel('Promotor Contacts per Month')\n",
    "plt.ylabel('Number of Orders per Month')\n",
    "plt.tight_layout()\n",
    "plt.show()\n"
   ]
  },
  {
   "cell_type": "markdown",
   "id": "721afc3a",
   "metadata": {},
   "source": [
    "This shows you:\n",
    "\n",
    "How many clients are below the diagonal = more contacts than orders = inefficiency."
   ]
  },
  {
   "cell_type": "code",
   "execution_count": null,
   "id": "71caf6a9",
   "metadata": {},
   "outputs": [],
   "source": []
  },
  {
   "cell_type": "code",
   "execution_count": null,
   "id": "1f260c47",
   "metadata": {},
   "outputs": [],
   "source": [
    "# Boxplots to detect outliers\n",
    "plt.figure(figsize=(6,4))\n",
    "sns.boxplot(data=df, x='income')\n",
    "plt.title('Boxplot of Income')\n",
    "plt.tight_layout()\n",
    "plt.show()\n"
   ]
  },
  {
   "cell_type": "code",
   "execution_count": null,
   "id": "270e944d",
   "metadata": {},
   "outputs": [],
   "source": [
    "# question --> are you sure what you are doing with the aggregation? Why would you sum the monhtly tel/prom contacts? Arent they monthly?"
   ]
  },
  {
   "cell_type": "code",
   "execution_count": null,
   "id": "aefd5bb0",
   "metadata": {},
   "outputs": [],
   "source": [
    "df.head()"
   ]
  },
  {
   "cell_type": "code",
   "execution_count": null,
   "id": "d5e317fb",
   "metadata": {},
   "outputs": [],
   "source": [
    "df.sort_values(by = ['client_id', 'date'])"
   ]
  },
  {
   "cell_type": "markdown",
   "id": "a07f2931",
   "metadata": {},
   "source": [
    "aggregation"
   ]
  },
  {
   "cell_type": "code",
   "execution_count": null,
   "id": "bbf18537",
   "metadata": {},
   "outputs": [],
   "source": [
    "# 📦 Pascual Capstone: Aggregation + Feature Creation\n",
    "# Step-by-step structured flow from clean daily data to aggregated client-level dataset\n",
    "\n",
    "import pandas as pd\n",
    "\n",
    "# --- STEP 0: Load Cleaned Daily-Level Data ---\n",
    "df = pd.read_csv('clean_orders_data.csv', parse_dates=['date'])\n",
    "\n",
    "# --- STEP 1: Create `frequency` (median orders per month per client) ---\n",
    "df['month'] = df['date'].dt.to_period('M')\n",
    "\n",
    "monthly_orders = df.groupby(['client_id', 'month'])['number_of_orders'].sum().reset_index()\n",
    "\n",
    "frequency_df = monthly_orders.groupby('client_id')['number_of_orders'].median().reset_index()\n",
    "frequency_df.rename(columns={'number_of_orders': 'frequency'}, inplace=True)\n",
    "\n",
    "# --- STEP 1.5: Validate that 'channel' and 'city' are unique per client ---\n",
    "multi_channel = df.groupby('client_id')['channel'].nunique()\n",
    "print(\"Clients with >1 unique channel:\", (multi_channel > 1).sum())\n",
    "\n",
    "multi_city = df.groupby('client_id')['city'].nunique()\n",
    "print(\"Clients with >1 unique city:\", (multi_city > 1).sum())\n",
    "\n",
    "# Optional: Investigate any client_ids that violate uniqueness\n",
    "multi_channel_clients = multi_channel[multi_channel > 1].index.tolist()\n",
    "multi_city_clients = multi_city[multi_city > 1].index.tolist()\n",
    "\n",
    "# Uncomment to inspect those rows\n",
    "# print(df[df['client_id'].isin(multi_channel_clients)])\n",
    "# print(df[df['client_id'].isin(multi_city_clients)])\n",
    "\n",
    "# --- STEP 2: Aggregate Remaining Data Per Client ---\n",
    "# Notes:\n",
    "# - 'income', 'volume', 'number_of_orders' -> summed: represents cumulative behavior\n",
    "# - 'prom_contacts_month', 'tel_contacts_month' -> averaged: avoid inflation from repetition\n",
    "# - 'median_ticket' -> median to reduce outlier skew\n",
    "# - 'channel', 'city' -> assumed to be static, validated above\n",
    "\n",
    "client_df = df.groupby('client_id').agg({\n",
    "    'income': 'sum',\n",
    "    'volume': 'sum',  # volume = total weight/space across orders, relevant for logistics\n",
    "    'number_of_orders': 'sum',\n",
    "    'prom_contacts_month': 'mean',\n",
    "    'tel_contacts_month': 'mean',\n",
    "    'median_ticket': 'median',\n",
    "    'channel': 'first',\n",
    "    'city': 'first'\n",
    "}).reset_index()\n",
    "\n",
    "# --- STEP 3: Merge Frequency ---\n",
    "client_df = client_df.merge(frequency_df, on='client_id', how='left')\n",
    "\n",
    "# --- STEP 4: Create Efficiency Feature ---\n",
    "client_df['efficiency'] = client_df['number_of_orders'] / client_df['prom_contacts_month']\n",
    "\n",
    "# --- STEP 5: Handle Division by Zero or NaNs ---\n",
    "client_df['efficiency'] = client_df['efficiency'].replace([float('inf'), -float('inf')], None)\n",
    "client_df['efficiency'] = client_df['efficiency'].fillna(0)\n",
    "\n",
    "# --- STEP 6: Save Aggregated Dataset ---\n",
    "client_df.to_csv('aggregated_client_data.csv', index=False)\n",
    "\n",
    "print(\"\\u2705 Aggregated client dataset saved as 'aggregated_client_data.csv'\")\n"
   ]
  }
 ],
 "metadata": {
  "language_info": {
   "name": "python"
  }
 },
 "nbformat": 4,
 "nbformat_minor": 5
}
