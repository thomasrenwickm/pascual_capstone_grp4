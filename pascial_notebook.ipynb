{
 "cells": [
  {
   "cell_type": "markdown",
   "id": "e8cec459",
   "metadata": {},
   "source": [
    "# **Pacual Capstone Group 4 Notebook - Route Optimization**"
   ]
  },
  {
   "cell_type": "markdown",
   "id": "788b25e1",
   "metadata": {},
   "source": [
    "Group members: *Abdullah Alshaarawi, James Alarde, Hiromitsu Fujiyama, Sanjo Joy, Thomas Arturo Renwick Morales*"
   ]
  },
  {
   "cell_type": "markdown",
   "id": "c9d8d555",
   "metadata": {},
   "source": [
    "---"
   ]
  },
  {
   "cell_type": "markdown",
   "id": "ae04a1ab",
   "metadata": {},
   "source": [
    "This notebook is organized in the following sections:\n",
    "\n",
    "* [Part 0 - Importing the Necessary Libraries](#0)\n",
    "\n",
    "* [Part 1 - Data Loading](#1)\n",
    "\n",
    "* [Part 2 - Data Cleaning/ Wrangling](#2)\n",
    "  * [Part 2.1 - Preliminary Analysis of the Dataset](#2.1)\n",
    "  * [Part 2.2 - Dealing with Duplicates](#2.2)\n",
    "  * [Part 2.3 - Ensuring Correct Data Types](#2.3)\n",
    "  * [Part 2.4 - Dealing with Null/Missing Values](#2.4)\n",
    "  * [Part 2.5 - ?](#2.5)\n",
    "\n",
    "* [Part 3 - Exploratory Data Analysis](#3)\n",
    "\n"
   ]
  },
  {
   "cell_type": "markdown",
   "id": "579afa8d",
   "metadata": {},
   "source": [
    "---"
   ]
  },
  {
   "cell_type": "markdown",
   "id": "853b1b40",
   "metadata": {},
   "source": [
    "<a id='0'></a>\n",
    "## Part 0 - Importing the Necessary Libraries"
   ]
  },
  {
   "cell_type": "code",
   "execution_count": 2,
   "id": "b332fbc5",
   "metadata": {},
   "outputs": [],
   "source": [
    "import pandas as pd\n",
    "import matplotlib.pyplot as plt\n",
    "import seaborn as sns\n",
    "import sklearn \n",
    "import numpy\n",
    "import joblib"
   ]
  },
  {
   "cell_type": "markdown",
   "id": "8ec7d3ee",
   "metadata": {},
   "source": [
    "<a id='1'></a>\n",
    "# Part 1 - Data Loading"
   ]
  },
  {
   "cell_type": "code",
   "execution_count": 3,
   "id": "4874aa84",
   "metadata": {},
   "outputs": [],
   "source": [
    "df = pd.read_csv('dataset/Orders_Master_Data(in).csv')"
   ]
  },
  {
   "cell_type": "markdown",
   "id": "15d5faa0",
   "metadata": {},
   "source": [
    "<a id='2'></a>\n",
    "# Part 2 - Data Cleaning/ Wrangling"
   ]
  },
  {
   "cell_type": "markdown",
   "id": "72ece59b",
   "metadata": {},
   "source": [
    "<a id='2.1'></a>\n",
    "## Part 2.1 - Preliminary Analysis of the Dataset"
   ]
  },
  {
   "cell_type": "code",
   "execution_count": 4,
   "id": "93df89e3",
   "metadata": {},
   "outputs": [
    {
     "data": {
      "text/html": [
       "<div>\n",
       "<style scoped>\n",
       "    .dataframe tbody tr th:only-of-type {\n",
       "        vertical-align: middle;\n",
       "    }\n",
       "\n",
       "    .dataframe tbody tr th {\n",
       "        vertical-align: top;\n",
       "    }\n",
       "\n",
       "    .dataframe thead th {\n",
       "        text-align: right;\n",
       "    }\n",
       "</style>\n",
       "<table border=\"1\" class=\"dataframe\">\n",
       "  <thead>\n",
       "    <tr style=\"text-align: right;\">\n",
       "      <th></th>\n",
       "      <th>Date</th>\n",
       "      <th>City</th>\n",
       "      <th>Channel</th>\n",
       "      <th>Client ID</th>\n",
       "      <th>Promotor ID</th>\n",
       "      <th>Volume</th>\n",
       "      <th>Income</th>\n",
       "      <th>Number of orders</th>\n",
       "      <th>Median Ticket (€)</th>\n",
       "      <th>Prom Contacts Month</th>\n",
       "      <th>Tel Contacts Month</th>\n",
       "    </tr>\n",
       "  </thead>\n",
       "  <tbody>\n",
       "    <tr>\n",
       "      <th>0</th>\n",
       "      <td>01.01.2024</td>\n",
       "      <td>Alicante</td>\n",
       "      <td>AR</td>\n",
       "      <td>398150871</td>\n",
       "      <td>729030652</td>\n",
       "      <td>5.94</td>\n",
       "      <td>0.00</td>\n",
       "      <td>1</td>\n",
       "      <td>0.00</td>\n",
       "      <td>0</td>\n",
       "      <td>0</td>\n",
       "    </tr>\n",
       "    <tr>\n",
       "      <th>1</th>\n",
       "      <td>01.01.2024</td>\n",
       "      <td>Alicante</td>\n",
       "      <td>HR</td>\n",
       "      <td>410234355</td>\n",
       "      <td>551409294</td>\n",
       "      <td>48.00</td>\n",
       "      <td>21.02</td>\n",
       "      <td>1</td>\n",
       "      <td>21.02</td>\n",
       "      <td>4</td>\n",
       "      <td>0</td>\n",
       "    </tr>\n",
       "    <tr>\n",
       "      <th>2</th>\n",
       "      <td>02.01.2024</td>\n",
       "      <td>Alicante</td>\n",
       "      <td>AR</td>\n",
       "      <td>123463493</td>\n",
       "      <td>551409294</td>\n",
       "      <td>125.25</td>\n",
       "      <td>92.57</td>\n",
       "      <td>1</td>\n",
       "      <td>92.57</td>\n",
       "      <td>1</td>\n",
       "      <td>0</td>\n",
       "    </tr>\n",
       "    <tr>\n",
       "      <th>3</th>\n",
       "      <td>02.01.2024</td>\n",
       "      <td>Alicante</td>\n",
       "      <td>AR</td>\n",
       "      <td>124527399</td>\n",
       "      <td>729030652</td>\n",
       "      <td>83.00</td>\n",
       "      <td>60.94</td>\n",
       "      <td>1</td>\n",
       "      <td>60.94</td>\n",
       "      <td>4</td>\n",
       "      <td>0</td>\n",
       "    </tr>\n",
       "    <tr>\n",
       "      <th>4</th>\n",
       "      <td>02.01.2024</td>\n",
       "      <td>Alicante</td>\n",
       "      <td>AR</td>\n",
       "      <td>130100821</td>\n",
       "      <td>729030652</td>\n",
       "      <td>768.00</td>\n",
       "      <td>244.33</td>\n",
       "      <td>1</td>\n",
       "      <td>244.33</td>\n",
       "      <td>1</td>\n",
       "      <td>3</td>\n",
       "    </tr>\n",
       "  </tbody>\n",
       "</table>\n",
       "</div>"
      ],
      "text/plain": [
       "         Date      City Channel  Client ID  Promotor ID  Volume  Income  \\\n",
       "0  01.01.2024  Alicante      AR  398150871    729030652    5.94    0.00   \n",
       "1  01.01.2024  Alicante      HR  410234355    551409294   48.00   21.02   \n",
       "2  02.01.2024  Alicante      AR  123463493    551409294  125.25   92.57   \n",
       "3  02.01.2024  Alicante      AR  124527399    729030652   83.00   60.94   \n",
       "4  02.01.2024  Alicante      AR  130100821    729030652  768.00  244.33   \n",
       "\n",
       "   Number of orders  Median Ticket (€)  Prom Contacts Month  \\\n",
       "0                 1               0.00                    0   \n",
       "1                 1              21.02                    4   \n",
       "2                 1              92.57                    1   \n",
       "3                 1              60.94                    4   \n",
       "4                 1             244.33                    1   \n",
       "\n",
       "   Tel Contacts Month  \n",
       "0                   0  \n",
       "1                   0  \n",
       "2                   0  \n",
       "3                   0  \n",
       "4                   3  "
      ]
     },
     "execution_count": 4,
     "metadata": {},
     "output_type": "execute_result"
    }
   ],
   "source": [
    "df.head()"
   ]
  },
  {
   "cell_type": "code",
   "execution_count": 5,
   "id": "18ae8dcd",
   "metadata": {},
   "outputs": [
    {
     "name": "stdout",
     "output_type": "stream",
     "text": [
      "<class 'pandas.core.frame.DataFrame'>\n",
      "RangeIndex: 1035735 entries, 0 to 1035734\n",
      "Data columns (total 11 columns):\n",
      " #   Column               Non-Null Count    Dtype  \n",
      "---  ------               --------------    -----  \n",
      " 0   Date                 1035735 non-null  object \n",
      " 1   City                 1035735 non-null  object \n",
      " 2   Channel              1035735 non-null  object \n",
      " 3   Client ID            1035735 non-null  int64  \n",
      " 4   Promotor ID          1035735 non-null  int64  \n",
      " 5   Volume               1035735 non-null  float64\n",
      " 6   Income               1035735 non-null  float64\n",
      " 7   Number of orders     1035735 non-null  int64  \n",
      " 8   Median Ticket (€)    1035735 non-null  float64\n",
      " 9   Prom Contacts Month  1035735 non-null  int64  \n",
      " 10  Tel Contacts Month   1035735 non-null  int64  \n",
      "dtypes: float64(3), int64(5), object(3)\n",
      "memory usage: 86.9+ MB\n"
     ]
    }
   ],
   "source": [
    "df.info()"
   ]
  },
  {
   "cell_type": "code",
   "execution_count": 6,
   "id": "b01a87f2",
   "metadata": {},
   "outputs": [],
   "source": [
    "df = df.rename(columns={'Date':'date', \n",
    "                        'City':'city', \n",
    "                        'Channel':'channel', \n",
    "                        'Client ID': 'client_id',\n",
    "                        'Promotor ID': 'promotor_id',\n",
    "                        'Volume': 'volume',\n",
    "                        'Income': 'income',\n",
    "                        'Number of orders': 'number_of_orders',\n",
    "                        'Median Ticket (€)':'median_ticket',\n",
    "                         'Prom Contacts Month': 'prom_contacts_month',\n",
    "                          'Tel Contacts Month': 'tel_contacts_month'})"
   ]
  },
  {
   "cell_type": "code",
   "execution_count": 7,
   "id": "15379449",
   "metadata": {},
   "outputs": [
    {
     "data": {
      "text/html": [
       "<div>\n",
       "<style scoped>\n",
       "    .dataframe tbody tr th:only-of-type {\n",
       "        vertical-align: middle;\n",
       "    }\n",
       "\n",
       "    .dataframe tbody tr th {\n",
       "        vertical-align: top;\n",
       "    }\n",
       "\n",
       "    .dataframe thead th {\n",
       "        text-align: right;\n",
       "    }\n",
       "</style>\n",
       "<table border=\"1\" class=\"dataframe\">\n",
       "  <thead>\n",
       "    <tr style=\"text-align: right;\">\n",
       "      <th></th>\n",
       "      <th>date</th>\n",
       "      <th>city</th>\n",
       "      <th>channel</th>\n",
       "      <th>client_id</th>\n",
       "      <th>promotor_id</th>\n",
       "      <th>volume</th>\n",
       "      <th>income</th>\n",
       "      <th>number_of_orders</th>\n",
       "      <th>median_ticket</th>\n",
       "      <th>prom_contacts_month</th>\n",
       "      <th>tel_contacts_month</th>\n",
       "    </tr>\n",
       "  </thead>\n",
       "  <tbody>\n",
       "    <tr>\n",
       "      <th>0</th>\n",
       "      <td>01.01.2024</td>\n",
       "      <td>Alicante</td>\n",
       "      <td>AR</td>\n",
       "      <td>398150871</td>\n",
       "      <td>729030652</td>\n",
       "      <td>5.94</td>\n",
       "      <td>0.00</td>\n",
       "      <td>1</td>\n",
       "      <td>0.00</td>\n",
       "      <td>0</td>\n",
       "      <td>0</td>\n",
       "    </tr>\n",
       "    <tr>\n",
       "      <th>1</th>\n",
       "      <td>01.01.2024</td>\n",
       "      <td>Alicante</td>\n",
       "      <td>HR</td>\n",
       "      <td>410234355</td>\n",
       "      <td>551409294</td>\n",
       "      <td>48.00</td>\n",
       "      <td>21.02</td>\n",
       "      <td>1</td>\n",
       "      <td>21.02</td>\n",
       "      <td>4</td>\n",
       "      <td>0</td>\n",
       "    </tr>\n",
       "    <tr>\n",
       "      <th>2</th>\n",
       "      <td>02.01.2024</td>\n",
       "      <td>Alicante</td>\n",
       "      <td>AR</td>\n",
       "      <td>123463493</td>\n",
       "      <td>551409294</td>\n",
       "      <td>125.25</td>\n",
       "      <td>92.57</td>\n",
       "      <td>1</td>\n",
       "      <td>92.57</td>\n",
       "      <td>1</td>\n",
       "      <td>0</td>\n",
       "    </tr>\n",
       "    <tr>\n",
       "      <th>3</th>\n",
       "      <td>02.01.2024</td>\n",
       "      <td>Alicante</td>\n",
       "      <td>AR</td>\n",
       "      <td>124527399</td>\n",
       "      <td>729030652</td>\n",
       "      <td>83.00</td>\n",
       "      <td>60.94</td>\n",
       "      <td>1</td>\n",
       "      <td>60.94</td>\n",
       "      <td>4</td>\n",
       "      <td>0</td>\n",
       "    </tr>\n",
       "    <tr>\n",
       "      <th>4</th>\n",
       "      <td>02.01.2024</td>\n",
       "      <td>Alicante</td>\n",
       "      <td>AR</td>\n",
       "      <td>130100821</td>\n",
       "      <td>729030652</td>\n",
       "      <td>768.00</td>\n",
       "      <td>244.33</td>\n",
       "      <td>1</td>\n",
       "      <td>244.33</td>\n",
       "      <td>1</td>\n",
       "      <td>3</td>\n",
       "    </tr>\n",
       "  </tbody>\n",
       "</table>\n",
       "</div>"
      ],
      "text/plain": [
       "         date      city channel  client_id  promotor_id  volume  income  \\\n",
       "0  01.01.2024  Alicante      AR  398150871    729030652    5.94    0.00   \n",
       "1  01.01.2024  Alicante      HR  410234355    551409294   48.00   21.02   \n",
       "2  02.01.2024  Alicante      AR  123463493    551409294  125.25   92.57   \n",
       "3  02.01.2024  Alicante      AR  124527399    729030652   83.00   60.94   \n",
       "4  02.01.2024  Alicante      AR  130100821    729030652  768.00  244.33   \n",
       "\n",
       "   number_of_orders  median_ticket  prom_contacts_month  tel_contacts_month  \n",
       "0                 1           0.00                    0                   0  \n",
       "1                 1          21.02                    4                   0  \n",
       "2                 1          92.57                    1                   0  \n",
       "3                 1          60.94                    4                   0  \n",
       "4                 1         244.33                    1                   3  "
      ]
     },
     "execution_count": 7,
     "metadata": {},
     "output_type": "execute_result"
    }
   ],
   "source": [
    "df.head()"
   ]
  },
  {
   "cell_type": "markdown",
   "id": "b844f34e",
   "metadata": {},
   "source": [
    "<a id='2.2'></a>\n",
    "## Part 2.2 - Dealing with Duplicates"
   ]
  },
  {
   "cell_type": "code",
   "execution_count": 8,
   "id": "aed3789b",
   "metadata": {},
   "outputs": [
    {
     "data": {
      "text/plain": [
       "True"
      ]
     },
     "execution_count": 8,
     "metadata": {},
     "output_type": "execute_result"
    }
   ],
   "source": [
    "df.duplicated().any()"
   ]
  },
  {
   "cell_type": "code",
   "execution_count": 9,
   "id": "77abf4ad",
   "metadata": {},
   "outputs": [
    {
     "name": "stdout",
     "output_type": "stream",
     "text": [
      "Exact Duplicates: 20770 out of 1035735\n"
     ]
    }
   ],
   "source": [
    "# Total number of rows\n",
    "total_rows = df.shape[0]\n",
    "\n",
    "# Number of exact duplicates (all columns identical)\n",
    "exact_duplicates = df.duplicated().sum()\n",
    "print(f\"Exact Duplicates: {exact_duplicates} out of {total_rows}\")\n"
   ]
  },
  {
   "cell_type": "code",
   "execution_count": 10,
   "id": "469fc4be",
   "metadata": {},
   "outputs": [
    {
     "data": {
      "text/html": [
       "<div>\n",
       "<style scoped>\n",
       "    .dataframe tbody tr th:only-of-type {\n",
       "        vertical-align: middle;\n",
       "    }\n",
       "\n",
       "    .dataframe tbody tr th {\n",
       "        vertical-align: top;\n",
       "    }\n",
       "\n",
       "    .dataframe thead th {\n",
       "        text-align: right;\n",
       "    }\n",
       "</style>\n",
       "<table border=\"1\" class=\"dataframe\">\n",
       "  <thead>\n",
       "    <tr style=\"text-align: right;\">\n",
       "      <th></th>\n",
       "      <th>date</th>\n",
       "      <th>city</th>\n",
       "      <th>channel</th>\n",
       "      <th>client_id</th>\n",
       "      <th>promotor_id</th>\n",
       "      <th>volume</th>\n",
       "      <th>income</th>\n",
       "      <th>number_of_orders</th>\n",
       "      <th>median_ticket</th>\n",
       "      <th>prom_contacts_month</th>\n",
       "      <th>tel_contacts_month</th>\n",
       "    </tr>\n",
       "  </thead>\n",
       "  <tbody>\n",
       "    <tr>\n",
       "      <th>919356</th>\n",
       "      <td>11.03.2024</td>\n",
       "      <td>Tarragona</td>\n",
       "      <td>HR</td>\n",
       "      <td>100854769</td>\n",
       "      <td>306190165</td>\n",
       "      <td>54.295</td>\n",
       "      <td>117.02</td>\n",
       "      <td>1</td>\n",
       "      <td>117.02</td>\n",
       "      <td>4</td>\n",
       "      <td>0</td>\n",
       "    </tr>\n",
       "    <tr>\n",
       "      <th>1018754</th>\n",
       "      <td>11.03.2024</td>\n",
       "      <td>Tarragona</td>\n",
       "      <td>HR</td>\n",
       "      <td>100854769</td>\n",
       "      <td>306190165</td>\n",
       "      <td>54.295</td>\n",
       "      <td>117.02</td>\n",
       "      <td>1</td>\n",
       "      <td>117.02</td>\n",
       "      <td>4</td>\n",
       "      <td>0</td>\n",
       "    </tr>\n",
       "    <tr>\n",
       "      <th>917803</th>\n",
       "      <td>12.02.2024</td>\n",
       "      <td>Tarragona</td>\n",
       "      <td>HR</td>\n",
       "      <td>100854769</td>\n",
       "      <td>306190165</td>\n",
       "      <td>105.000</td>\n",
       "      <td>45.93</td>\n",
       "      <td>1</td>\n",
       "      <td>45.93</td>\n",
       "      <td>4</td>\n",
       "      <td>0</td>\n",
       "    </tr>\n",
       "    <tr>\n",
       "      <th>1017201</th>\n",
       "      <td>12.02.2024</td>\n",
       "      <td>Tarragona</td>\n",
       "      <td>HR</td>\n",
       "      <td>100854769</td>\n",
       "      <td>306190165</td>\n",
       "      <td>105.000</td>\n",
       "      <td>45.93</td>\n",
       "      <td>1</td>\n",
       "      <td>45.93</td>\n",
       "      <td>4</td>\n",
       "      <td>0</td>\n",
       "    </tr>\n",
       "    <tr>\n",
       "      <th>925032</th>\n",
       "      <td>13.06.2024</td>\n",
       "      <td>Tarragona</td>\n",
       "      <td>HR</td>\n",
       "      <td>100854769</td>\n",
       "      <td>306190165</td>\n",
       "      <td>45.200</td>\n",
       "      <td>90.50</td>\n",
       "      <td>1</td>\n",
       "      <td>90.50</td>\n",
       "      <td>4</td>\n",
       "      <td>0</td>\n",
       "    </tr>\n",
       "    <tr>\n",
       "      <th>1024430</th>\n",
       "      <td>13.06.2024</td>\n",
       "      <td>Tarragona</td>\n",
       "      <td>HR</td>\n",
       "      <td>100854769</td>\n",
       "      <td>306190165</td>\n",
       "      <td>45.200</td>\n",
       "      <td>90.50</td>\n",
       "      <td>1</td>\n",
       "      <td>90.50</td>\n",
       "      <td>4</td>\n",
       "      <td>0</td>\n",
       "    </tr>\n",
       "    <tr>\n",
       "      <th>930843</th>\n",
       "      <td>16.09.2024</td>\n",
       "      <td>Tarragona</td>\n",
       "      <td>HR</td>\n",
       "      <td>100854769</td>\n",
       "      <td>306190165</td>\n",
       "      <td>129.000</td>\n",
       "      <td>74.14</td>\n",
       "      <td>1</td>\n",
       "      <td>74.14</td>\n",
       "      <td>4</td>\n",
       "      <td>0</td>\n",
       "    </tr>\n",
       "    <tr>\n",
       "      <th>1030241</th>\n",
       "      <td>16.09.2024</td>\n",
       "      <td>Tarragona</td>\n",
       "      <td>HR</td>\n",
       "      <td>100854769</td>\n",
       "      <td>306190165</td>\n",
       "      <td>129.000</td>\n",
       "      <td>74.14</td>\n",
       "      <td>1</td>\n",
       "      <td>74.14</td>\n",
       "      <td>4</td>\n",
       "      <td>0</td>\n",
       "    </tr>\n",
       "    <tr>\n",
       "      <th>917063</th>\n",
       "      <td>29.01.2024</td>\n",
       "      <td>Tarragona</td>\n",
       "      <td>HR</td>\n",
       "      <td>100854769</td>\n",
       "      <td>306190165</td>\n",
       "      <td>105.000</td>\n",
       "      <td>45.93</td>\n",
       "      <td>1</td>\n",
       "      <td>45.93</td>\n",
       "      <td>4</td>\n",
       "      <td>0</td>\n",
       "    </tr>\n",
       "    <tr>\n",
       "      <th>1016461</th>\n",
       "      <td>29.01.2024</td>\n",
       "      <td>Tarragona</td>\n",
       "      <td>HR</td>\n",
       "      <td>100854769</td>\n",
       "      <td>306190165</td>\n",
       "      <td>105.000</td>\n",
       "      <td>45.93</td>\n",
       "      <td>1</td>\n",
       "      <td>45.93</td>\n",
       "      <td>4</td>\n",
       "      <td>0</td>\n",
       "    </tr>\n",
       "  </tbody>\n",
       "</table>\n",
       "</div>"
      ],
      "text/plain": [
       "               date       city channel  client_id  promotor_id   volume  \\\n",
       "919356   11.03.2024  Tarragona      HR  100854769    306190165   54.295   \n",
       "1018754  11.03.2024  Tarragona      HR  100854769    306190165   54.295   \n",
       "917803   12.02.2024  Tarragona      HR  100854769    306190165  105.000   \n",
       "1017201  12.02.2024  Tarragona      HR  100854769    306190165  105.000   \n",
       "925032   13.06.2024  Tarragona      HR  100854769    306190165   45.200   \n",
       "1024430  13.06.2024  Tarragona      HR  100854769    306190165   45.200   \n",
       "930843   16.09.2024  Tarragona      HR  100854769    306190165  129.000   \n",
       "1030241  16.09.2024  Tarragona      HR  100854769    306190165  129.000   \n",
       "917063   29.01.2024  Tarragona      HR  100854769    306190165  105.000   \n",
       "1016461  29.01.2024  Tarragona      HR  100854769    306190165  105.000   \n",
       "\n",
       "         income  number_of_orders  median_ticket  prom_contacts_month  \\\n",
       "919356   117.02                 1         117.02                    4   \n",
       "1018754  117.02                 1         117.02                    4   \n",
       "917803    45.93                 1          45.93                    4   \n",
       "1017201   45.93                 1          45.93                    4   \n",
       "925032    90.50                 1          90.50                    4   \n",
       "1024430   90.50                 1          90.50                    4   \n",
       "930843    74.14                 1          74.14                    4   \n",
       "1030241   74.14                 1          74.14                    4   \n",
       "917063    45.93                 1          45.93                    4   \n",
       "1016461   45.93                 1          45.93                    4   \n",
       "\n",
       "         tel_contacts_month  \n",
       "919356                    0  \n",
       "1018754                   0  \n",
       "917803                    0  \n",
       "1017201                   0  \n",
       "925032                    0  \n",
       "1024430                   0  \n",
       "930843                    0  \n",
       "1030241                   0  \n",
       "917063                    0  \n",
       "1016461                   0  "
      ]
     },
     "execution_count": 10,
     "metadata": {},
     "output_type": "execute_result"
    }
   ],
   "source": [
    "# Show all exact duplicates (entire row is duplicated) --> Exploring duplicates to see whether they were exact to then drop the first ocurrence only from the dataset.\n",
    "exact_duplicates = df[df.duplicated(keep=False)]\n",
    "exact_duplicates.sort_values(by=['client_id', 'date']).head(10)"
   ]
  },
  {
   "cell_type": "code",
   "execution_count": 11,
   "id": "93d1699e",
   "metadata": {},
   "outputs": [],
   "source": [
    "df = df.drop_duplicates(keep='first')"
   ]
  },
  {
   "cell_type": "code",
   "execution_count": 12,
   "id": "a49a1beb",
   "metadata": {},
   "outputs": [
    {
     "name": "stdout",
     "output_type": "stream",
     "text": [
      "Exact Duplicates: 0 out of 1014965\n"
     ]
    }
   ],
   "source": [
    "# Total number of rows\n",
    "total_rows = df.shape[0]\n",
    "\n",
    "# Number of exact duplicates (all columns identical)\n",
    "exact_duplicates = df.duplicated().sum()\n",
    "print(f\"Exact Duplicates: {exact_duplicates} out of {total_rows}\")"
   ]
  },
  {
   "cell_type": "markdown",
   "id": "c9ac39a1",
   "metadata": {},
   "source": [
    "<a id='2.3'></a>\n",
    "## Part 2.3 - Ensuring Correct Data Types"
   ]
  },
  {
   "cell_type": "markdown",
   "id": "936ebd28",
   "metadata": {},
   "source": [
    "Data type each column should be:\n",
    "* date\t--> datetime type\n",
    "* city\t--> object\n",
    "* channel --> object\t\n",
    "* client_id\t--> object\n",
    "* promotor_id --> object\n",
    "* volume --> float\t\n",
    "* income --> float\t\n",
    "* number_of_orders --> integer\t\n",
    "* median_ticket --> float\t\n",
    "* prom_contacts_month --> integer\t\n",
    "* tel_contacts_month --> integer"
   ]
  },
  {
   "cell_type": "code",
   "execution_count": 13,
   "id": "d64f0589",
   "metadata": {},
   "outputs": [
    {
     "data": {
      "text/plain": [
       "date                    object\n",
       "city                    object\n",
       "channel                 object\n",
       "client_id                int64\n",
       "promotor_id              int64\n",
       "volume                 float64\n",
       "income                 float64\n",
       "number_of_orders         int64\n",
       "median_ticket          float64\n",
       "prom_contacts_month      int64\n",
       "tel_contacts_month       int64\n",
       "dtype: object"
      ]
     },
     "execution_count": 13,
     "metadata": {},
     "output_type": "execute_result"
    }
   ],
   "source": [
    "df.dtypes"
   ]
  },
  {
   "cell_type": "code",
   "execution_count": 14,
   "id": "c0fc16f9",
   "metadata": {},
   "outputs": [],
   "source": [
    "df['date'] = pd.to_datetime(df['date'], format='%d.%m.%Y')"
   ]
  },
  {
   "cell_type": "code",
   "execution_count": 15,
   "id": "4784cf78",
   "metadata": {},
   "outputs": [
    {
     "data": {
      "text/plain": [
       "date    datetime64[ns]\n",
       "dtype: object"
      ]
     },
     "execution_count": 15,
     "metadata": {},
     "output_type": "execute_result"
    }
   ],
   "source": [
    "df.dtypes[['date']]"
   ]
  },
  {
   "cell_type": "code",
   "execution_count": 16,
   "id": "83ba6293",
   "metadata": {},
   "outputs": [],
   "source": [
    "df['client_id'] = df['client_id'].astype(str)\n",
    "df['promotor_id'] = df['promotor_id'].astype(str)"
   ]
  },
  {
   "cell_type": "code",
   "execution_count": 17,
   "id": "5681d7fe",
   "metadata": {},
   "outputs": [
    {
     "data": {
      "text/plain": [
       "client_id      object\n",
       "promotor_id    object\n",
       "dtype: object"
      ]
     },
     "execution_count": 17,
     "metadata": {},
     "output_type": "execute_result"
    }
   ],
   "source": [
    "df.dtypes[['client_id', 'promotor_id']]"
   ]
  },
  {
   "cell_type": "code",
   "execution_count": 18,
   "id": "3372fbb6",
   "metadata": {},
   "outputs": [
    {
     "data": {
      "text/plain": [
       "date                   datetime64[ns]\n",
       "city                           object\n",
       "channel                        object\n",
       "client_id                      object\n",
       "promotor_id                    object\n",
       "volume                        float64\n",
       "income                        float64\n",
       "number_of_orders                int64\n",
       "median_ticket                 float64\n",
       "prom_contacts_month             int64\n",
       "tel_contacts_month              int64\n",
       "dtype: object"
      ]
     },
     "execution_count": 18,
     "metadata": {},
     "output_type": "execute_result"
    }
   ],
   "source": [
    "df.dtypes"
   ]
  },
  {
   "cell_type": "markdown",
   "id": "fae749c1",
   "metadata": {},
   "source": [
    "<a id='2.4'></a>\n",
    "## Part 2.4 - Dealing with Null/Missing Values"
   ]
  },
  {
   "cell_type": "code",
   "execution_count": 19,
   "id": "53233804",
   "metadata": {},
   "outputs": [
    {
     "data": {
      "text/plain": [
       "date                   False\n",
       "city                   False\n",
       "channel                False\n",
       "client_id              False\n",
       "promotor_id            False\n",
       "volume                 False\n",
       "income                 False\n",
       "number_of_orders       False\n",
       "median_ticket          False\n",
       "prom_contacts_month    False\n",
       "tel_contacts_month     False\n",
       "dtype: bool"
      ]
     },
     "execution_count": 19,
     "metadata": {},
     "output_type": "execute_result"
    }
   ],
   "source": [
    "df.isna().any() #No columns have any null values"
   ]
  },
  {
   "cell_type": "code",
   "execution_count": 20,
   "id": "20c03ae5",
   "metadata": {},
   "outputs": [
    {
     "data": {
      "text/plain": [
       "0"
      ]
     },
     "execution_count": 20,
     "metadata": {},
     "output_type": "execute_result"
    }
   ],
   "source": [
    "df.isna().any().sum() #0 null values"
   ]
  },
  {
   "cell_type": "markdown",
   "id": "a9d4a824",
   "metadata": {},
   "source": [
    "<a id='2.5'></a>\n",
    "## Part 2.5 - Creating new cols or aggregating?"
   ]
  },
  {
   "cell_type": "markdown",
   "id": "6d0ef423",
   "metadata": {},
   "source": [
    "Ask gpt if should aggregate now or create the new cols first"
   ]
  },
  {
   "cell_type": "code",
   "execution_count": null,
   "id": "2fa682d9",
   "metadata": {},
   "outputs": [],
   "source": [
    "#for later use\n",
    "df.to_csv('dataset/clean_orders_data/clean_orders_data.csv', index=False)"
   ]
  },
  {
   "cell_type": "code",
   "execution_count": null,
   "id": "9d59a80c",
   "metadata": {},
   "outputs": [],
   "source": []
  },
  {
   "cell_type": "markdown",
   "id": "182ccc17",
   "metadata": {},
   "source": [
    "<a id='3'></a>\n",
    "# Part 3 - Exploratory Data Analysis (not aggregated yet)"
   ]
  },
  {
   "cell_type": "code",
   "execution_count": null,
   "id": "68cff771",
   "metadata": {},
   "outputs": [],
   "source": [
    "#here will create efficiency column --> will create feature column later on"
   ]
  },
  {
   "cell_type": "code",
   "execution_count": 21,
   "id": "23b09920",
   "metadata": {},
   "outputs": [
    {
     "data": {
      "text/html": [
       "<div>\n",
       "<style scoped>\n",
       "    .dataframe tbody tr th:only-of-type {\n",
       "        vertical-align: middle;\n",
       "    }\n",
       "\n",
       "    .dataframe tbody tr th {\n",
       "        vertical-align: top;\n",
       "    }\n",
       "\n",
       "    .dataframe thead th {\n",
       "        text-align: right;\n",
       "    }\n",
       "</style>\n",
       "<table border=\"1\" class=\"dataframe\">\n",
       "  <thead>\n",
       "    <tr style=\"text-align: right;\">\n",
       "      <th></th>\n",
       "      <th>date</th>\n",
       "      <th>city</th>\n",
       "      <th>channel</th>\n",
       "      <th>client_id</th>\n",
       "      <th>promotor_id</th>\n",
       "      <th>volume</th>\n",
       "      <th>income</th>\n",
       "      <th>number_of_orders</th>\n",
       "      <th>median_ticket</th>\n",
       "      <th>prom_contacts_month</th>\n",
       "      <th>tel_contacts_month</th>\n",
       "    </tr>\n",
       "  </thead>\n",
       "  <tbody>\n",
       "    <tr>\n",
       "      <th>0</th>\n",
       "      <td>2024-01-01</td>\n",
       "      <td>Alicante</td>\n",
       "      <td>AR</td>\n",
       "      <td>398150871</td>\n",
       "      <td>729030652</td>\n",
       "      <td>5.94</td>\n",
       "      <td>0.00</td>\n",
       "      <td>1</td>\n",
       "      <td>0.00</td>\n",
       "      <td>0</td>\n",
       "      <td>0</td>\n",
       "    </tr>\n",
       "    <tr>\n",
       "      <th>1</th>\n",
       "      <td>2024-01-01</td>\n",
       "      <td>Alicante</td>\n",
       "      <td>HR</td>\n",
       "      <td>410234355</td>\n",
       "      <td>551409294</td>\n",
       "      <td>48.00</td>\n",
       "      <td>21.02</td>\n",
       "      <td>1</td>\n",
       "      <td>21.02</td>\n",
       "      <td>4</td>\n",
       "      <td>0</td>\n",
       "    </tr>\n",
       "    <tr>\n",
       "      <th>2</th>\n",
       "      <td>2024-01-02</td>\n",
       "      <td>Alicante</td>\n",
       "      <td>AR</td>\n",
       "      <td>123463493</td>\n",
       "      <td>551409294</td>\n",
       "      <td>125.25</td>\n",
       "      <td>92.57</td>\n",
       "      <td>1</td>\n",
       "      <td>92.57</td>\n",
       "      <td>1</td>\n",
       "      <td>0</td>\n",
       "    </tr>\n",
       "    <tr>\n",
       "      <th>3</th>\n",
       "      <td>2024-01-02</td>\n",
       "      <td>Alicante</td>\n",
       "      <td>AR</td>\n",
       "      <td>124527399</td>\n",
       "      <td>729030652</td>\n",
       "      <td>83.00</td>\n",
       "      <td>60.94</td>\n",
       "      <td>1</td>\n",
       "      <td>60.94</td>\n",
       "      <td>4</td>\n",
       "      <td>0</td>\n",
       "    </tr>\n",
       "    <tr>\n",
       "      <th>4</th>\n",
       "      <td>2024-01-02</td>\n",
       "      <td>Alicante</td>\n",
       "      <td>AR</td>\n",
       "      <td>130100821</td>\n",
       "      <td>729030652</td>\n",
       "      <td>768.00</td>\n",
       "      <td>244.33</td>\n",
       "      <td>1</td>\n",
       "      <td>244.33</td>\n",
       "      <td>1</td>\n",
       "      <td>3</td>\n",
       "    </tr>\n",
       "  </tbody>\n",
       "</table>\n",
       "</div>"
      ],
      "text/plain": [
       "        date      city channel  client_id promotor_id  volume  income  \\\n",
       "0 2024-01-01  Alicante      AR  398150871   729030652    5.94    0.00   \n",
       "1 2024-01-01  Alicante      HR  410234355   551409294   48.00   21.02   \n",
       "2 2024-01-02  Alicante      AR  123463493   551409294  125.25   92.57   \n",
       "3 2024-01-02  Alicante      AR  124527399   729030652   83.00   60.94   \n",
       "4 2024-01-02  Alicante      AR  130100821   729030652  768.00  244.33   \n",
       "\n",
       "   number_of_orders  median_ticket  prom_contacts_month  tel_contacts_month  \n",
       "0                 1           0.00                    0                   0  \n",
       "1                 1          21.02                    4                   0  \n",
       "2                 1          92.57                    1                   0  \n",
       "3                 1          60.94                    4                   0  \n",
       "4                 1         244.33                    1                   3  "
      ]
     },
     "execution_count": 21,
     "metadata": {},
     "output_type": "execute_result"
    }
   ],
   "source": [
    "df.head()"
   ]
  },
  {
   "cell_type": "markdown",
   "id": "e277209b",
   "metadata": {},
   "source": [
    "📌 1. Basic Summary & Distributions --> Numeric cols\n",
    "\n",
    "Why: Understand ranges, outliers, and skewed variables."
   ]
  },
  {
   "cell_type": "code",
   "execution_count": 23,
   "id": "255b33b2",
   "metadata": {},
   "outputs": [
    {
     "data": {
      "text/html": [
       "<div>\n",
       "<style scoped>\n",
       "    .dataframe tbody tr th:only-of-type {\n",
       "        vertical-align: middle;\n",
       "    }\n",
       "\n",
       "    .dataframe tbody tr th {\n",
       "        vertical-align: top;\n",
       "    }\n",
       "\n",
       "    .dataframe thead th {\n",
       "        text-align: right;\n",
       "    }\n",
       "</style>\n",
       "<table border=\"1\" class=\"dataframe\">\n",
       "  <thead>\n",
       "    <tr style=\"text-align: right;\">\n",
       "      <th></th>\n",
       "      <th>date</th>\n",
       "      <th>volume</th>\n",
       "      <th>income</th>\n",
       "      <th>number_of_orders</th>\n",
       "      <th>median_ticket</th>\n",
       "      <th>prom_contacts_month</th>\n",
       "      <th>tel_contacts_month</th>\n",
       "    </tr>\n",
       "  </thead>\n",
       "  <tbody>\n",
       "    <tr>\n",
       "      <th>count</th>\n",
       "      <td>1014965</td>\n",
       "      <td>1.014965e+06</td>\n",
       "      <td>1.014965e+06</td>\n",
       "      <td>1.014965e+06</td>\n",
       "      <td>1.014965e+06</td>\n",
       "      <td>1.014965e+06</td>\n",
       "      <td>1.014965e+06</td>\n",
       "    </tr>\n",
       "    <tr>\n",
       "      <th>mean</th>\n",
       "      <td>2024-06-27 21:07:45.011896832</td>\n",
       "      <td>1.724409e+02</td>\n",
       "      <td>1.596631e+02</td>\n",
       "      <td>1.043534e+00</td>\n",
       "      <td>1.510704e+02</td>\n",
       "      <td>2.196225e+00</td>\n",
       "      <td>1.094574e+00</td>\n",
       "    </tr>\n",
       "    <tr>\n",
       "      <th>min</th>\n",
       "      <td>2024-01-01 00:00:00</td>\n",
       "      <td>-2.343600e+04</td>\n",
       "      <td>-2.278253e+04</td>\n",
       "      <td>0.000000e+00</td>\n",
       "      <td>-2.278253e+04</td>\n",
       "      <td>0.000000e+00</td>\n",
       "      <td>0.000000e+00</td>\n",
       "    </tr>\n",
       "    <tr>\n",
       "      <th>25%</th>\n",
       "      <td>2024-03-27 00:00:00</td>\n",
       "      <td>4.100000e+01</td>\n",
       "      <td>6.160000e+01</td>\n",
       "      <td>1.000000e+00</td>\n",
       "      <td>6.011000e+01</td>\n",
       "      <td>1.000000e+00</td>\n",
       "      <td>0.000000e+00</td>\n",
       "    </tr>\n",
       "    <tr>\n",
       "      <th>50%</th>\n",
       "      <td>2024-06-25 00:00:00</td>\n",
       "      <td>7.800000e+01</td>\n",
       "      <td>9.835000e+01</td>\n",
       "      <td>1.000000e+00</td>\n",
       "      <td>9.513500e+01</td>\n",
       "      <td>2.000000e+00</td>\n",
       "      <td>0.000000e+00</td>\n",
       "    </tr>\n",
       "    <tr>\n",
       "      <th>75%</th>\n",
       "      <td>2024-09-27 00:00:00</td>\n",
       "      <td>1.590600e+02</td>\n",
       "      <td>1.684500e+02</td>\n",
       "      <td>1.000000e+00</td>\n",
       "      <td>1.620000e+02</td>\n",
       "      <td>4.000000e+00</td>\n",
       "      <td>2.000000e+00</td>\n",
       "    </tr>\n",
       "    <tr>\n",
       "      <th>max</th>\n",
       "      <td>2024-12-31 00:00:00</td>\n",
       "      <td>7.128000e+04</td>\n",
       "      <td>3.020122e+04</td>\n",
       "      <td>1.700000e+01</td>\n",
       "      <td>2.779643e+04</td>\n",
       "      <td>2.800000e+01</td>\n",
       "      <td>2.000000e+01</td>\n",
       "    </tr>\n",
       "    <tr>\n",
       "      <th>std</th>\n",
       "      <td>NaN</td>\n",
       "      <td>6.549149e+02</td>\n",
       "      <td>3.412165e+02</td>\n",
       "      <td>2.986516e-01</td>\n",
       "      <td>2.951241e+02</td>\n",
       "      <td>1.797263e+00</td>\n",
       "      <td>1.582221e+00</td>\n",
       "    </tr>\n",
       "  </tbody>\n",
       "</table>\n",
       "</div>"
      ],
      "text/plain": [
       "                                date        volume        income  \\\n",
       "count                        1014965  1.014965e+06  1.014965e+06   \n",
       "mean   2024-06-27 21:07:45.011896832  1.724409e+02  1.596631e+02   \n",
       "min              2024-01-01 00:00:00 -2.343600e+04 -2.278253e+04   \n",
       "25%              2024-03-27 00:00:00  4.100000e+01  6.160000e+01   \n",
       "50%              2024-06-25 00:00:00  7.800000e+01  9.835000e+01   \n",
       "75%              2024-09-27 00:00:00  1.590600e+02  1.684500e+02   \n",
       "max              2024-12-31 00:00:00  7.128000e+04  3.020122e+04   \n",
       "std                              NaN  6.549149e+02  3.412165e+02   \n",
       "\n",
       "       number_of_orders  median_ticket  prom_contacts_month  \\\n",
       "count      1.014965e+06   1.014965e+06         1.014965e+06   \n",
       "mean       1.043534e+00   1.510704e+02         2.196225e+00   \n",
       "min        0.000000e+00  -2.278253e+04         0.000000e+00   \n",
       "25%        1.000000e+00   6.011000e+01         1.000000e+00   \n",
       "50%        1.000000e+00   9.513500e+01         2.000000e+00   \n",
       "75%        1.000000e+00   1.620000e+02         4.000000e+00   \n",
       "max        1.700000e+01   2.779643e+04         2.800000e+01   \n",
       "std        2.986516e-01   2.951241e+02         1.797263e+00   \n",
       "\n",
       "       tel_contacts_month  \n",
       "count        1.014965e+06  \n",
       "mean         1.094574e+00  \n",
       "min          0.000000e+00  \n",
       "25%          0.000000e+00  \n",
       "50%          0.000000e+00  \n",
       "75%          2.000000e+00  \n",
       "max          2.000000e+01  \n",
       "std          1.582221e+00  "
      ]
     },
     "execution_count": 23,
     "metadata": {},
     "output_type": "execute_result"
    }
   ],
   "source": [
    "# Summary\n",
    "df.describe()"
   ]
  },
  {
   "cell_type": "code",
   "execution_count": 30,
   "id": "6f6b16d2",
   "metadata": {},
   "outputs": [
    {
     "data": {
      "text/html": [
       "<div>\n",
       "<style scoped>\n",
       "    .dataframe tbody tr th:only-of-type {\n",
       "        vertical-align: middle;\n",
       "    }\n",
       "\n",
       "    .dataframe tbody tr th {\n",
       "        vertical-align: top;\n",
       "    }\n",
       "\n",
       "    .dataframe thead th {\n",
       "        text-align: right;\n",
       "    }\n",
       "</style>\n",
       "<table border=\"1\" class=\"dataframe\">\n",
       "  <thead>\n",
       "    <tr style=\"text-align: right;\">\n",
       "      <th></th>\n",
       "      <th>date</th>\n",
       "      <th>city</th>\n",
       "      <th>channel</th>\n",
       "      <th>client_id</th>\n",
       "      <th>promotor_id</th>\n",
       "      <th>volume</th>\n",
       "      <th>income</th>\n",
       "      <th>number_of_orders</th>\n",
       "      <th>median_ticket</th>\n",
       "      <th>prom_contacts_month</th>\n",
       "      <th>tel_contacts_month</th>\n",
       "    </tr>\n",
       "  </thead>\n",
       "  <tbody>\n",
       "    <tr>\n",
       "      <th>406408</th>\n",
       "      <td>2024-12-16</td>\n",
       "      <td>Girona</td>\n",
       "      <td>HR</td>\n",
       "      <td>216722324</td>\n",
       "      <td>638196450</td>\n",
       "      <td>0.0</td>\n",
       "      <td>-22782.53</td>\n",
       "      <td>0</td>\n",
       "      <td>-22782.53</td>\n",
       "      <td>0</td>\n",
       "      <td>0</td>\n",
       "    </tr>\n",
       "  </tbody>\n",
       "</table>\n",
       "</div>"
      ],
      "text/plain": [
       "             date    city channel  client_id promotor_id  volume    income  \\\n",
       "406408 2024-12-16  Girona      HR  216722324   638196450     0.0 -22782.53   \n",
       "\n",
       "        number_of_orders  median_ticket  prom_contacts_month  \\\n",
       "406408                 0      -22782.53                    0   \n",
       "\n",
       "        tel_contacts_month  \n",
       "406408                   0  "
      ]
     },
     "execution_count": 30,
     "metadata": {},
     "output_type": "execute_result"
    }
   ],
   "source": [
    "df[df['income'] < -20000]"
   ]
  },
  {
   "cell_type": "code",
   "execution_count": null,
   "id": "da15af3d",
   "metadata": {},
   "outputs": [
    {
     "data": {
      "image/png": "[encoded data removed]",
      "text/plain": [
       "<Figure size 600x400 with 1 Axes>"
      ]
     },
     "metadata": {},
     "output_type": "display_data"
    }
   ],
   "source": [
    "plt.figure(figsize=(6,4))\n",
    "sns.histplot(df['income'], bins=50, kde=True)\n",
    "plt.title('Distribution of income')\n",
    "plt.xlabel('income')\n",
    "plt.ylabel('Frequency')\n",
    "plt.tight_layout()\n",
    "plt.show()\n",
    "\n",
    "#what does negative income mean? Does it balance out with positive income when aggregating?\n"
   ]
  },
  {
   "cell_type": "code",
   "execution_count": 31,
   "id": "b31ab7c6",
   "metadata": {},
   "outputs": [
    {
     "data": {
      "image/png": "[encoded data removed]",
      "text/plain": [
       "<Figure size 600x400 with 1 Axes>"
      ]
     },
     "metadata": {},
     "output_type": "display_data"
    }
   ],
   "source": [
    "plt.figure(figsize=(6,4))\n",
    "sns.histplot(df['number_of_orders'], bins=50, kde=True)\n",
    "plt.title('Distribution of number_of_orders')\n",
    "plt.xlabel('number_of_orders')\n",
    "plt.ylabel('Frequency')\n",
    "plt.tight_layout()\n",
    "plt.show()\n",
    "\n"
   ]
  },
  {
   "cell_type": "code",
   "execution_count": null,
   "id": "beae1fad",
   "metadata": {},
   "outputs": [
    {
     "data": {
      "image/png": "[encoded data removed]",
      "text/plain": [
       "<Figure size 600x400 with 1 Axes>"
      ]
     },
     "metadata": {},
     "output_type": "display_data"
    }
   ],
   "source": [
    "plt.figure(figsize=(6,4))\n",
    "sns.histplot(df['median_ticket'], bins=50, kde=True)\n",
    "plt.title('Distribution of median ticket')\n",
    "plt.xlabel('median_ticket')\n",
    "plt.ylabel('Frequency')\n",
    "plt.tight_layout()\n",
    "plt.show()\n",
    "\n",
    "#same thing happens here as with income --> not sure if this balances out later on."
   ]
  },
  {
   "cell_type": "code",
   "execution_count": null,
   "id": "4929f7c2",
   "metadata": {},
   "outputs": [
    {
     "data": {
      "image/png": "[encoded data removed]",
      "text/plain": [
       "<Figure size 600x400 with 1 Axes>"
      ]
     },
     "metadata": {},
     "output_type": "display_data"
    }
   ],
   "source": [
    "plt.figure(figsize=(6,4))\n",
    "sns.histplot(df['prom_contacts_month'], bins=50, kde=True)\n",
    "plt.title('Distribution of prom_contacts_month')\n",
    "plt.xlabel('prom_contacts_month')\n",
    "plt.ylabel('Frequency')\n",
    "plt.tight_layout()\n",
    "plt.show()\n",
    "\n",
    "#most contacts are between 0 and 5 per month --> more might be outlier?"
   ]
  },
  {
   "cell_type": "code",
   "execution_count": 34,
   "id": "116f32df",
   "metadata": {},
   "outputs": [
    {
     "data": {
      "image/png": "[encoded data removed]",
      "text/plain": [
       "<Figure size 600x400 with 1 Axes>"
      ]
     },
     "metadata": {},
     "output_type": "display_data"
    }
   ],
   "source": [
    "plt.figure(figsize=(6,4))\n",
    "sns.histplot(df['tel_contacts_month'], bins=50, kde=True)\n",
    "plt.title(f'Distribution of tel_contacts_month')\n",
    "plt.xlabel('tel_contacts_month')\n",
    "plt.ylabel('Frequency')\n",
    "plt.tight_layout()\n",
    "plt.show()"
   ]
  },
  {
   "cell_type": "markdown",
   "id": "06a0ef47",
   "metadata": {},
   "source": [
    "📌 2. Efficiency Analysis\n",
    "\n",
    "Why: Your objective includes increasing promotor efficiency."
   ]
  },
  {
   "cell_type": "code",
   "execution_count": null,
   "id": "1cfed68c",
   "metadata": {},
   "outputs": [
    {
     "data": {
      "image/png": "[encoded data removed]",
      "text/plain": [
       "<Figure size 600x400 with 1 Axes>"
      ]
     },
     "metadata": {},
     "output_type": "display_data"
    }
   ],
   "source": [
    "df['efficiency'] = df['number_of_orders'] / df['prom_contacts_month']\n",
    "\n",
    "# Handle division by zero if needed\n",
    "df['efficiency'] = df['efficiency'].replace([float('inf'), -float('inf')], None)\n",
    "\n",
    "# Visualize\n",
    "plt.figure(figsize=(6,4))\n",
    "sns.histplot(df['efficiency'], bins=50, kde=True)\n",
    "plt.title('Efficiency (Orders per Promotor Contact)')\n",
    "plt.xlabel('Efficiency')\n",
    "plt.ylabel('Frequency')\n",
    "plt.tight_layout()\n",
    "plt.show()\n",
    "\n",
    "# In theory, the number of contacts and orders should be aligned --> efficiency should equal 1\n",
    "## less than 1 (most cases) --> The number of orders is lower than the number of contacts meaning team inefficiency"
   ]
  },
  {
   "cell_type": "code",
   "execution_count": null,
   "id": "507b90a3",
   "metadata": {},
   "outputs": [
    {
     "data": {
      "text/plain": [
       "(602959, 12)"
      ]
     },
     "execution_count": 36,
     "metadata": {},
     "output_type": "execute_result"
    }
   ],
   "source": [
    "df[df['efficiency'] < 1].shape  # Inefficient clients"
   ]
  },
  {
   "cell_type": "markdown",
   "id": "3a059194",
   "metadata": {},
   "source": [
    "📌 3. Low Ticket Clients\n",
    "\n",
    "Why: Ticket < €80 is flagged as risky in the business rules"
   ]
  },
  {
   "cell_type": "code",
   "execution_count": 37,
   "id": "d39fa859",
   "metadata": {},
   "outputs": [
    {
     "name": "stdout",
     "output_type": "stream",
     "text": [
      "Number of clients with median ticket < 80: 410308\n"
     ]
    },
    {
     "data": {
      "image/png": "[encoded data removed]",
      "text/plain": [
       "<Figure size 600x400 with 1 Axes>"
      ]
     },
     "metadata": {},
     "output_type": "display_data"
    }
   ],
   "source": [
    "low_ticket_clients = df[df['median_ticket'] < 80]\n",
    "print(f\"Number of clients with median ticket < 80: {len(low_ticket_clients)}\")\n",
    "\n",
    "# Histogram of ticket sizes\n",
    "plt.figure(figsize=(6,4))\n",
    "sns.histplot(df['median_ticket'], bins=50, kde=True)\n",
    "plt.axvline(80, color='red', linestyle='--')\n",
    "plt.title('Median Ticket per Client')\n",
    "plt.xlabel('Median Ticket (€)')\n",
    "plt.ylabel('Number of Clients')\n",
    "plt.tight_layout()\n",
    "plt.show()\n"
   ]
  },
  {
   "cell_type": "markdown",
   "id": "6ac9314b",
   "metadata": {},
   "source": [
    "📌 4. Contact vs Orders Alignment\n",
    "\n",
    "Why: Misalignment = inefficiency, key optimization goal."
   ]
  },
  {
   "cell_type": "code",
   "execution_count": 38,
   "id": "30f90354",
   "metadata": {},
   "outputs": [
    {
     "data": {
      "image/png": "[encoded data removed]",
      "text/plain": [
       "<Figure size 700x500 with 1 Axes>"
      ]
     },
     "metadata": {},
     "output_type": "display_data"
    }
   ],
   "source": [
    "plt.figure(figsize=(7,5))\n",
    "sns.scatterplot(data=df, x='prom_contacts_month', y='number_of_orders', hue='channel', alpha=0.6)\n",
    "plt.plot([0, df['prom_contacts_month'].max()], [0, df['prom_contacts_month'].max()], '--', color='grey')\n",
    "plt.title('Orders vs Promotor Contacts')\n",
    "plt.xlabel('Promotor Contacts per Month')\n",
    "plt.ylabel('Number of Orders per Month')\n",
    "plt.tight_layout()\n",
    "plt.show()\n"
   ]
  },
  {
   "cell_type": "markdown",
   "id": "a21e5c4e",
   "metadata": {},
   "source": [
    "This shows you:\n",
    "\n",
    "How many clients are below the diagonal = more contacts than orders = inefficiency."
   ]
  },
  {
   "cell_type": "code",
   "execution_count": null,
   "id": "fe0e3646",
   "metadata": {},
   "outputs": [],
   "source": []
  },
  {
   "cell_type": "code",
   "execution_count": 40,
   "id": "0f8278d0",
   "metadata": {},
   "outputs": [
    {
     "data": {
      "image/png": "[encoded data removed]",
      "text/plain": [
       "<Figure size 600x400 with 1 Axes>"
      ]
     },
     "metadata": {},
     "output_type": "display_data"
    }
   ],
   "source": [
    "# Boxplots to detect outliers\n",
    "plt.figure(figsize=(6,4))\n",
    "sns.boxplot(data=df, x='income')\n",
    "plt.title('Boxplot of Income')\n",
    "plt.tight_layout()\n",
    "plt.show()\n"
   ]
  },
  {
   "cell_type": "code",
   "execution_count": null,
   "id": "37df5fa7",
   "metadata": {},
   "outputs": [],
   "source": [
    "# question --> are you sure what you are doing with the aggregation? Why would you sum the monhtly tel/prom contacts? Arent they monthly?"
   ]
  },
  {
   "cell_type": "code",
   "execution_count": null,
   "id": "025254cb",
   "metadata": {},
   "outputs": [
    {
     "data": {
      "text/html": [
       "<div>\n",
       "<style scoped>\n",
       "    .dataframe tbody tr th:only-of-type {\n",
       "        vertical-align: middle;\n",
       "    }\n",
       "\n",
       "    .dataframe tbody tr th {\n",
       "        vertical-align: top;\n",
       "    }\n",
       "\n",
       "    .dataframe thead th {\n",
       "        text-align: right;\n",
       "    }\n",
       "</style>\n",
       "<table border=\"1\" class=\"dataframe\">\n",
       "  <thead>\n",
       "    <tr style=\"text-align: right;\">\n",
       "      <th></th>\n",
       "      <th>date</th>\n",
       "      <th>city</th>\n",
       "      <th>channel</th>\n",
       "      <th>client_id</th>\n",
       "      <th>promotor_id</th>\n",
       "      <th>volume</th>\n",
       "      <th>income</th>\n",
       "      <th>number_of_orders</th>\n",
       "      <th>median_ticket</th>\n",
       "      <th>prom_contacts_month</th>\n",
       "      <th>tel_contacts_month</th>\n",
       "      <th>efficiency</th>\n",
       "    </tr>\n",
       "  </thead>\n",
       "  <tbody>\n",
       "    <tr>\n",
       "      <th>0</th>\n",
       "      <td>2024-01-01</td>\n",
       "      <td>Alicante</td>\n",
       "      <td>AR</td>\n",
       "      <td>398150871</td>\n",
       "      <td>729030652</td>\n",
       "      <td>5.94</td>\n",
       "      <td>0.00</td>\n",
       "      <td>1</td>\n",
       "      <td>0.00</td>\n",
       "      <td>0</td>\n",
       "      <td>0</td>\n",
       "      <td>None</td>\n",
       "    </tr>\n",
       "    <tr>\n",
       "      <th>1</th>\n",
       "      <td>2024-01-01</td>\n",
       "      <td>Alicante</td>\n",
       "      <td>HR</td>\n",
       "      <td>410234355</td>\n",
       "      <td>551409294</td>\n",
       "      <td>48.00</td>\n",
       "      <td>21.02</td>\n",
       "      <td>1</td>\n",
       "      <td>21.02</td>\n",
       "      <td>4</td>\n",
       "      <td>0</td>\n",
       "      <td>0.25</td>\n",
       "    </tr>\n",
       "    <tr>\n",
       "      <th>2</th>\n",
       "      <td>2024-01-02</td>\n",
       "      <td>Alicante</td>\n",
       "      <td>AR</td>\n",
       "      <td>123463493</td>\n",
       "      <td>551409294</td>\n",
       "      <td>125.25</td>\n",
       "      <td>92.57</td>\n",
       "      <td>1</td>\n",
       "      <td>92.57</td>\n",
       "      <td>1</td>\n",
       "      <td>0</td>\n",
       "      <td>1.0</td>\n",
       "    </tr>\n",
       "    <tr>\n",
       "      <th>3</th>\n",
       "      <td>2024-01-02</td>\n",
       "      <td>Alicante</td>\n",
       "      <td>AR</td>\n",
       "      <td>124527399</td>\n",
       "      <td>729030652</td>\n",
       "      <td>83.00</td>\n",
       "      <td>60.94</td>\n",
       "      <td>1</td>\n",
       "      <td>60.94</td>\n",
       "      <td>4</td>\n",
       "      <td>0</td>\n",
       "      <td>0.25</td>\n",
       "    </tr>\n",
       "    <tr>\n",
       "      <th>4</th>\n",
       "      <td>2024-01-02</td>\n",
       "      <td>Alicante</td>\n",
       "      <td>AR</td>\n",
       "      <td>130100821</td>\n",
       "      <td>729030652</td>\n",
       "      <td>768.00</td>\n",
       "      <td>244.33</td>\n",
       "      <td>1</td>\n",
       "      <td>244.33</td>\n",
       "      <td>1</td>\n",
       "      <td>3</td>\n",
       "      <td>1.0</td>\n",
       "    </tr>\n",
       "  </tbody>\n",
       "</table>\n",
       "</div>"
      ],
      "text/plain": [
       "        date      city channel  client_id promotor_id  volume  income  \\\n",
       "0 2024-01-01  Alicante      AR  398150871   729030652    5.94    0.00   \n",
       "1 2024-01-01  Alicante      HR  410234355   551409294   48.00   21.02   \n",
       "2 2024-01-02  Alicante      AR  123463493   551409294  125.25   92.57   \n",
       "3 2024-01-02  Alicante      AR  124527399   729030652   83.00   60.94   \n",
       "4 2024-01-02  Alicante      AR  130100821   729030652  768.00  244.33   \n",
       "\n",
       "   number_of_orders  median_ticket  prom_contacts_month  tel_contacts_month  \\\n",
       "0                 1           0.00                    0                   0   \n",
       "1                 1          21.02                    4                   0   \n",
       "2                 1          92.57                    1                   0   \n",
       "3                 1          60.94                    4                   0   \n",
       "4                 1         244.33                    1                   3   \n",
       "\n",
       "  efficiency  \n",
       "0       None  \n",
       "1       0.25  \n",
       "2        1.0  \n",
       "3       0.25  \n",
       "4        1.0  "
      ]
     },
     "execution_count": 41,
     "metadata": {},
     "output_type": "execute_result"
    }
   ],
   "source": [
    "df.head()"
   ]
  },
  {
   "cell_type": "code",
   "execution_count": 42,
   "id": "00e3b2ff",
   "metadata": {},
   "outputs": [
    {
     "data": {
      "text/html": [
       "<div>\n",
       "<style scoped>\n",
       "    .dataframe tbody tr th:only-of-type {\n",
       "        vertical-align: middle;\n",
       "    }\n",
       "\n",
       "    .dataframe tbody tr th {\n",
       "        vertical-align: top;\n",
       "    }\n",
       "\n",
       "    .dataframe thead th {\n",
       "        text-align: right;\n",
       "    }\n",
       "</style>\n",
       "<table border=\"1\" class=\"dataframe\">\n",
       "  <thead>\n",
       "    <tr style=\"text-align: right;\">\n",
       "      <th></th>\n",
       "      <th>date</th>\n",
       "      <th>city</th>\n",
       "      <th>channel</th>\n",
       "      <th>client_id</th>\n",
       "      <th>promotor_id</th>\n",
       "      <th>volume</th>\n",
       "      <th>income</th>\n",
       "      <th>number_of_orders</th>\n",
       "      <th>median_ticket</th>\n",
       "      <th>prom_contacts_month</th>\n",
       "      <th>tel_contacts_month</th>\n",
       "      <th>efficiency</th>\n",
       "    </tr>\n",
       "  </thead>\n",
       "  <tbody>\n",
       "    <tr>\n",
       "      <th>473911</th>\n",
       "      <td>2024-01-16</td>\n",
       "      <td>Madrid</td>\n",
       "      <td>AR</td>\n",
       "      <td>100006690</td>\n",
       "      <td>275609911</td>\n",
       "      <td>118.032</td>\n",
       "      <td>123.89</td>\n",
       "      <td>1</td>\n",
       "      <td>123.89</td>\n",
       "      <td>2</td>\n",
       "      <td>0</td>\n",
       "      <td>0.5</td>\n",
       "    </tr>\n",
       "    <tr>\n",
       "      <th>484891</th>\n",
       "      <td>2024-01-30</td>\n",
       "      <td>Madrid</td>\n",
       "      <td>AR</td>\n",
       "      <td>100006690</td>\n",
       "      <td>275609911</td>\n",
       "      <td>84.468</td>\n",
       "      <td>80.10</td>\n",
       "      <td>1</td>\n",
       "      <td>80.10</td>\n",
       "      <td>2</td>\n",
       "      <td>0</td>\n",
       "      <td>0.5</td>\n",
       "    </tr>\n",
       "    <tr>\n",
       "      <th>496216</th>\n",
       "      <td>2024-02-13</td>\n",
       "      <td>Madrid</td>\n",
       "      <td>AR</td>\n",
       "      <td>100006690</td>\n",
       "      <td>275609911</td>\n",
       "      <td>134.264</td>\n",
       "      <td>76.88</td>\n",
       "      <td>1</td>\n",
       "      <td>76.88</td>\n",
       "      <td>2</td>\n",
       "      <td>0</td>\n",
       "      <td>0.5</td>\n",
       "    </tr>\n",
       "    <tr>\n",
       "      <th>506716</th>\n",
       "      <td>2024-02-27</td>\n",
       "      <td>Madrid</td>\n",
       "      <td>AR</td>\n",
       "      <td>100006690</td>\n",
       "      <td>275609911</td>\n",
       "      <td>60.852</td>\n",
       "      <td>83.78</td>\n",
       "      <td>1</td>\n",
       "      <td>83.78</td>\n",
       "      <td>2</td>\n",
       "      <td>0</td>\n",
       "      <td>0.5</td>\n",
       "    </tr>\n",
       "    <tr>\n",
       "      <th>512081</th>\n",
       "      <td>2024-03-05</td>\n",
       "      <td>Madrid</td>\n",
       "      <td>AR</td>\n",
       "      <td>100006690</td>\n",
       "      <td>275609911</td>\n",
       "      <td>54.000</td>\n",
       "      <td>33.00</td>\n",
       "      <td>1</td>\n",
       "      <td>33.00</td>\n",
       "      <td>2</td>\n",
       "      <td>0</td>\n",
       "      <td>0.5</td>\n",
       "    </tr>\n",
       "    <tr>\n",
       "      <th>...</th>\n",
       "      <td>...</td>\n",
       "      <td>...</td>\n",
       "      <td>...</td>\n",
       "      <td>...</td>\n",
       "      <td>...</td>\n",
       "      <td>...</td>\n",
       "      <td>...</td>\n",
       "      <td>...</td>\n",
       "      <td>...</td>\n",
       "      <td>...</td>\n",
       "      <td>...</td>\n",
       "      <td>...</td>\n",
       "    </tr>\n",
       "    <tr>\n",
       "      <th>238322</th>\n",
       "      <td>2024-10-01</td>\n",
       "      <td>Barcelona</td>\n",
       "      <td>HR</td>\n",
       "      <td>999976985</td>\n",
       "      <td>996963848</td>\n",
       "      <td>107.000</td>\n",
       "      <td>407.92</td>\n",
       "      <td>1</td>\n",
       "      <td>407.92</td>\n",
       "      <td>1</td>\n",
       "      <td>0</td>\n",
       "      <td>1.0</td>\n",
       "    </tr>\n",
       "    <tr>\n",
       "      <th>244075</th>\n",
       "      <td>2024-10-10</td>\n",
       "      <td>Barcelona</td>\n",
       "      <td>HR</td>\n",
       "      <td>999976985</td>\n",
       "      <td>996963848</td>\n",
       "      <td>39.000</td>\n",
       "      <td>186.58</td>\n",
       "      <td>1</td>\n",
       "      <td>186.58</td>\n",
       "      <td>1</td>\n",
       "      <td>0</td>\n",
       "      <td>1.0</td>\n",
       "    </tr>\n",
       "    <tr>\n",
       "      <th>251843</th>\n",
       "      <td>2024-10-24</td>\n",
       "      <td>Barcelona</td>\n",
       "      <td>HR</td>\n",
       "      <td>999976985</td>\n",
       "      <td>996963848</td>\n",
       "      <td>63.000</td>\n",
       "      <td>211.83</td>\n",
       "      <td>1</td>\n",
       "      <td>211.83</td>\n",
       "      <td>1</td>\n",
       "      <td>0</td>\n",
       "      <td>1.0</td>\n",
       "    </tr>\n",
       "    <tr>\n",
       "      <th>258933</th>\n",
       "      <td>2024-11-07</td>\n",
       "      <td>Barcelona</td>\n",
       "      <td>HR</td>\n",
       "      <td>999976985</td>\n",
       "      <td>996963848</td>\n",
       "      <td>48.000</td>\n",
       "      <td>50.50</td>\n",
       "      <td>1</td>\n",
       "      <td>50.50</td>\n",
       "      <td>1</td>\n",
       "      <td>0</td>\n",
       "      <td>1.0</td>\n",
       "    </tr>\n",
       "    <tr>\n",
       "      <th>266449</th>\n",
       "      <td>2024-11-21</td>\n",
       "      <td>Barcelona</td>\n",
       "      <td>HR</td>\n",
       "      <td>999976985</td>\n",
       "      <td>996963848</td>\n",
       "      <td>15.000</td>\n",
       "      <td>153.17</td>\n",
       "      <td>1</td>\n",
       "      <td>153.17</td>\n",
       "      <td>1</td>\n",
       "      <td>0</td>\n",
       "      <td>1.0</td>\n",
       "    </tr>\n",
       "  </tbody>\n",
       "</table>\n",
       "<p>1014965 rows × 12 columns</p>\n",
       "</div>"
      ],
      "text/plain": [
       "             date       city channel  client_id promotor_id   volume  income  \\\n",
       "473911 2024-01-16     Madrid      AR  100006690   275609911  118.032  123.89   \n",
       "484891 2024-01-30     Madrid      AR  100006690   275609911   84.468   80.10   \n",
       "496216 2024-02-13     Madrid      AR  100006690   275609911  134.264   76.88   \n",
       "506716 2024-02-27     Madrid      AR  100006690   275609911   60.852   83.78   \n",
       "512081 2024-03-05     Madrid      AR  100006690   275609911   54.000   33.00   \n",
       "...           ...        ...     ...        ...         ...      ...     ...   \n",
       "238322 2024-10-01  Barcelona      HR  999976985   996963848  107.000  407.92   \n",
       "244075 2024-10-10  Barcelona      HR  999976985   996963848   39.000  186.58   \n",
       "251843 2024-10-24  Barcelona      HR  999976985   996963848   63.000  211.83   \n",
       "258933 2024-11-07  Barcelona      HR  999976985   996963848   48.000   50.50   \n",
       "266449 2024-11-21  Barcelona      HR  999976985   996963848   15.000  153.17   \n",
       "\n",
       "        number_of_orders  median_ticket  prom_contacts_month  \\\n",
       "473911                 1         123.89                    2   \n",
       "484891                 1          80.10                    2   \n",
       "496216                 1          76.88                    2   \n",
       "506716                 1          83.78                    2   \n",
       "512081                 1          33.00                    2   \n",
       "...                  ...            ...                  ...   \n",
       "238322                 1         407.92                    1   \n",
       "244075                 1         186.58                    1   \n",
       "251843                 1         211.83                    1   \n",
       "258933                 1          50.50                    1   \n",
       "266449                 1         153.17                    1   \n",
       "\n",
       "        tel_contacts_month efficiency  \n",
       "473911                   0        0.5  \n",
       "484891                   0        0.5  \n",
       "496216                   0        0.5  \n",
       "506716                   0        0.5  \n",
       "512081                   0        0.5  \n",
       "...                    ...        ...  \n",
       "238322                   0        1.0  \n",
       "244075                   0        1.0  \n",
       "251843                   0        1.0  \n",
       "258933                   0        1.0  \n",
       "266449                   0        1.0  \n",
       "\n",
       "[1014965 rows x 12 columns]"
      ]
     },
     "execution_count": 42,
     "metadata": {},
     "output_type": "execute_result"
    }
   ],
   "source": [
    "df.sort_values(by = ['client_id', 'date'])"
   ]
  }
 ],
 "metadata": {
  "kernelspec": {
   "display_name": "thomas_env",
   "language": "python",
   "name": "python3"
  },
  "language_info": {
   "codemirror_mode": {
    "name": "ipython",
    "version": 3
   },
   "file_extension": ".py",
   "mimetype": "text/x-python",
   "name": "python",
   "nbconvert_exporter": "python",
   "pygments_lexer": "ipython3",
   "version": "3.12.9"
  }
 },
 "nbformat": 4,
 "nbformat_minor": 5
}
