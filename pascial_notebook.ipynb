{
 "cells": [
  {
   "cell_type": "markdown",
   "id": "e8cec459",
   "metadata": {},
   "source": [
    "# **Pacual Capstone Group 4 Notebook - Route Optimization**"
   ]
  },
  {
   "cell_type": "markdown",
   "id": "788b25e1",
   "metadata": {},
   "source": [
    "Group members: *Abdullah Alshaarawi, James Alarde, Hiromitsu Fujiyama, Sanjo Joy, Thomas Arturo Renwick Morales*"
   ]
  },
  {
   "cell_type": "markdown",
   "id": "c9d8d555",
   "metadata": {},
   "source": [
    "---"
   ]
  },
  {
   "cell_type": "markdown",
   "id": "ae04a1ab",
   "metadata": {},
   "source": [
    "This notebook is organized in the following sections:\n",
    "\n",
    "* [Part 0 - Importing the Necessary Libraries](#0)\n",
    "\n",
    "* [Part 1 - Data Loading](#1)\n",
    "\n",
    "* [Part 2 - Data Cleaning/ Wrangling](#2)\n",
    "  * [Part 2.1 - Preliminary Analysis of the Dataset](#2.1)\n",
    "  * [Part 2.2 - Dealing with Duplicates](#2.2)\n",
    "  * [Part 2.3 - Ensuring Correct Data Types](#2.3)\n",
    "  * [Part 2.4 - Dealing with Null/Missing Values](#2.4)\n",
    "  * [Part 2.5 - ?](#2.5)\n",
    "\n",
    "* [Part 3 - Exploratory Data Analysis](#3)\n",
    "\n"
   ]
  },
  {
   "cell_type": "markdown",
   "id": "579afa8d",
   "metadata": {},
   "source": [
    "---"
   ]
  },
  {
   "cell_type": "markdown",
   "id": "853b1b40",
   "metadata": {},
   "source": [
    "<a id='0'></a>\n",
    "## Part 0 - Importing the Necessary Libraries"
   ]
  },
  {
   "cell_type": "code",
   "execution_count": 1,
   "id": "b332fbc5",
   "metadata": {},
   "outputs": [],
   "source": [
    "import pandas as pd\n",
    "import matplotlib.pyplot as plt\n",
    "import seaborn as sns\n",
    "import sklearn \n",
    "import numpy\n",
    "import joblib"
   ]
  },
  {
   "cell_type": "markdown",
   "id": "8ec7d3ee",
   "metadata": {},
   "source": [
    "<a id='1'></a>\n",
    "# Part 1 - Data Loading"
   ]
  },
  {
   "cell_type": "code",
   "execution_count": 2,
   "id": "4874aa84",
   "metadata": {},
   "outputs": [],
   "source": [
    "df = pd.read_csv('dataset/Orders_Master_Data(in).csv')"
   ]
  },
  {
   "cell_type": "markdown",
   "id": "15d5faa0",
   "metadata": {},
   "source": [
    "<a id='2'></a>\n",
    "# Part 2 - Data Cleaning/ Wrangling"
   ]
  },
  {
   "cell_type": "markdown",
   "id": "72ece59b",
   "metadata": {},
   "source": [
    "<a id='2.1'></a>\n",
    "## Part 2.1 - Preliminary Analysis of the Dataset"
   ]
  },
  {
   "cell_type": "code",
   "execution_count": 3,
   "id": "93df89e3",
   "metadata": {},
   "outputs": [
    {
     "data": {
      "text/html": [
       "<div>\n",
       "<style scoped>\n",
       "    .dataframe tbody tr th:only-of-type {\n",
       "        vertical-align: middle;\n",
       "    }\n",
       "\n",
       "    .dataframe tbody tr th {\n",
       "        vertical-align: top;\n",
       "    }\n",
       "\n",
       "    .dataframe thead th {\n",
       "        text-align: right;\n",
       "    }\n",
       "</style>\n",
       "<table border=\"1\" class=\"dataframe\">\n",
       "  <thead>\n",
       "    <tr style=\"text-align: right;\">\n",
       "      <th></th>\n",
       "      <th>Date</th>\n",
       "      <th>City</th>\n",
       "      <th>Channel</th>\n",
       "      <th>Client ID</th>\n",
       "      <th>Promotor ID</th>\n",
       "      <th>Volume</th>\n",
       "      <th>Income</th>\n",
       "      <th>Number of orders</th>\n",
       "      <th>Median Ticket (€)</th>\n",
       "      <th>Prom Contacts Month</th>\n",
       "      <th>Tel Contacts Month</th>\n",
       "    </tr>\n",
       "  </thead>\n",
       "  <tbody>\n",
       "    <tr>\n",
       "      <th>0</th>\n",
       "      <td>01.01.2024</td>\n",
       "      <td>Alicante</td>\n",
       "      <td>AR</td>\n",
       "      <td>398150871</td>\n",
       "      <td>729030652</td>\n",
       "      <td>5.94</td>\n",
       "      <td>0.00</td>\n",
       "      <td>1</td>\n",
       "      <td>0.00</td>\n",
       "      <td>0</td>\n",
       "      <td>0</td>\n",
       "    </tr>\n",
       "    <tr>\n",
       "      <th>1</th>\n",
       "      <td>01.01.2024</td>\n",
       "      <td>Alicante</td>\n",
       "      <td>HR</td>\n",
       "      <td>410234355</td>\n",
       "      <td>551409294</td>\n",
       "      <td>48.00</td>\n",
       "      <td>21.02</td>\n",
       "      <td>1</td>\n",
       "      <td>21.02</td>\n",
       "      <td>4</td>\n",
       "      <td>0</td>\n",
       "    </tr>\n",
       "    <tr>\n",
       "      <th>2</th>\n",
       "      <td>02.01.2024</td>\n",
       "      <td>Alicante</td>\n",
       "      <td>AR</td>\n",
       "      <td>123463493</td>\n",
       "      <td>551409294</td>\n",
       "      <td>125.25</td>\n",
       "      <td>92.57</td>\n",
       "      <td>1</td>\n",
       "      <td>92.57</td>\n",
       "      <td>1</td>\n",
       "      <td>0</td>\n",
       "    </tr>\n",
       "    <tr>\n",
       "      <th>3</th>\n",
       "      <td>02.01.2024</td>\n",
       "      <td>Alicante</td>\n",
       "      <td>AR</td>\n",
       "      <td>124527399</td>\n",
       "      <td>729030652</td>\n",
       "      <td>83.00</td>\n",
       "      <td>60.94</td>\n",
       "      <td>1</td>\n",
       "      <td>60.94</td>\n",
       "      <td>4</td>\n",
       "      <td>0</td>\n",
       "    </tr>\n",
       "    <tr>\n",
       "      <th>4</th>\n",
       "      <td>02.01.2024</td>\n",
       "      <td>Alicante</td>\n",
       "      <td>AR</td>\n",
       "      <td>130100821</td>\n",
       "      <td>729030652</td>\n",
       "      <td>768.00</td>\n",
       "      <td>244.33</td>\n",
       "      <td>1</td>\n",
       "      <td>244.33</td>\n",
       "      <td>1</td>\n",
       "      <td>3</td>\n",
       "    </tr>\n",
       "  </tbody>\n",
       "</table>\n",
       "</div>"
      ],
      "text/plain": [
       "         Date      City Channel  Client ID  Promotor ID  Volume  Income  \\\n",
       "0  01.01.2024  Alicante      AR  398150871    729030652    5.94    0.00   \n",
       "1  01.01.2024  Alicante      HR  410234355    551409294   48.00   21.02   \n",
       "2  02.01.2024  Alicante      AR  123463493    551409294  125.25   92.57   \n",
       "3  02.01.2024  Alicante      AR  124527399    729030652   83.00   60.94   \n",
       "4  02.01.2024  Alicante      AR  130100821    729030652  768.00  244.33   \n",
       "\n",
       "   Number of orders  Median Ticket (€)  Prom Contacts Month  \\\n",
       "0                 1               0.00                    0   \n",
       "1                 1              21.02                    4   \n",
       "2                 1              92.57                    1   \n",
       "3                 1              60.94                    4   \n",
       "4                 1             244.33                    1   \n",
       "\n",
       "   Tel Contacts Month  \n",
       "0                   0  \n",
       "1                   0  \n",
       "2                   0  \n",
       "3                   0  \n",
       "4                   3  "
      ]
     },
     "execution_count": 3,
     "metadata": {},
     "output_type": "execute_result"
    }
   ],
   "source": [
    "df.head()"
   ]
  },
  {
   "cell_type": "code",
   "execution_count": 4,
   "id": "18ae8dcd",
   "metadata": {},
   "outputs": [
    {
     "name": "stdout",
     "output_type": "stream",
     "text": [
      "<class 'pandas.core.frame.DataFrame'>\n",
      "RangeIndex: 1035735 entries, 0 to 1035734\n",
      "Data columns (total 11 columns):\n",
      " #   Column               Non-Null Count    Dtype  \n",
      "---  ------               --------------    -----  \n",
      " 0   Date                 1035735 non-null  object \n",
      " 1   City                 1035735 non-null  object \n",
      " 2   Channel              1035735 non-null  object \n",
      " 3   Client ID            1035735 non-null  int64  \n",
      " 4   Promotor ID          1035735 non-null  int64  \n",
      " 5   Volume               1035735 non-null  float64\n",
      " 6   Income               1035735 non-null  float64\n",
      " 7   Number of orders     1035735 non-null  int64  \n",
      " 8   Median Ticket (€)    1035735 non-null  float64\n",
      " 9   Prom Contacts Month  1035735 non-null  int64  \n",
      " 10  Tel Contacts Month   1035735 non-null  int64  \n",
      "dtypes: float64(3), int64(5), object(3)\n",
      "memory usage: 86.9+ MB\n"
     ]
    }
   ],
   "source": [
    "df.info()"
   ]
  },
  {
   "cell_type": "code",
   "execution_count": 5,
   "id": "b01a87f2",
   "metadata": {},
   "outputs": [],
   "source": [
    "df = df.rename(columns={'Date':'date', \n",
    "                        'City':'city', \n",
    "                        'Channel':'channel', \n",
    "                        'Client ID': 'client_id',\n",
    "                        'Promotor ID': 'promotor_id',\n",
    "                        'Volume': 'volume',\n",
    "                        'Income': 'income',\n",
    "                        'Number of orders': 'number_of_orders',\n",
    "                        'Median Ticket (€)':'median_ticket',\n",
    "                        'Prom Contacts Month': 'prom_contacts_month',\n",
    "                        'Tel Contacts Month': 'tel_contacts_month'})"
   ]
  },
  {
   "cell_type": "markdown",
   "id": "b844f34e",
   "metadata": {},
   "source": [
    "<a id='2.2'></a>\n",
    "## Part 2.2 - Dealing with Duplicates"
   ]
  },
  {
   "cell_type": "code",
   "execution_count": 6,
   "id": "aed3789b",
   "metadata": {},
   "outputs": [
    {
     "data": {
      "text/plain": [
       "True"
      ]
     },
     "execution_count": 6,
     "metadata": {},
     "output_type": "execute_result"
    }
   ],
   "source": [
    "df.duplicated().any()"
   ]
  },
  {
   "cell_type": "code",
   "execution_count": 7,
   "id": "77abf4ad",
   "metadata": {},
   "outputs": [
    {
     "name": "stdout",
     "output_type": "stream",
     "text": [
      "Exact Duplicates: 20770 out of 1035735\n"
     ]
    }
   ],
   "source": [
    "# Total number of rows\n",
    "total_rows = df.shape[0]\n",
    "\n",
    "# Number of exact duplicates (all columns identical)\n",
    "exact_duplicates = df.duplicated().sum()\n",
    "print(f\"Exact Duplicates: {exact_duplicates} out of {total_rows}\")"
   ]
  },
  {
   "cell_type": "code",
   "execution_count": 8,
   "id": "469fc4be",
   "metadata": {},
   "outputs": [
    {
     "data": {
      "text/html": [
       "<div>\n",
       "<style scoped>\n",
       "    .dataframe tbody tr th:only-of-type {\n",
       "        vertical-align: middle;\n",
       "    }\n",
       "\n",
       "    .dataframe tbody tr th {\n",
       "        vertical-align: top;\n",
       "    }\n",
       "\n",
       "    .dataframe thead th {\n",
       "        text-align: right;\n",
       "    }\n",
       "</style>\n",
       "<table border=\"1\" class=\"dataframe\">\n",
       "  <thead>\n",
       "    <tr style=\"text-align: right;\">\n",
       "      <th></th>\n",
       "      <th>date</th>\n",
       "      <th>city</th>\n",
       "      <th>channel</th>\n",
       "      <th>client_id</th>\n",
       "      <th>promotor_id</th>\n",
       "      <th>volume</th>\n",
       "      <th>income</th>\n",
       "      <th>number_of_orders</th>\n",
       "      <th>median_ticket</th>\n",
       "      <th>prom_contacts_month</th>\n",
       "      <th>tel_contacts_month</th>\n",
       "    </tr>\n",
       "  </thead>\n",
       "  <tbody>\n",
       "    <tr>\n",
       "      <th>919356</th>\n",
       "      <td>11.03.2024</td>\n",
       "      <td>Tarragona</td>\n",
       "      <td>HR</td>\n",
       "      <td>100854769</td>\n",
       "      <td>306190165</td>\n",
       "      <td>54.295</td>\n",
       "      <td>117.02</td>\n",
       "      <td>1</td>\n",
       "      <td>117.02</td>\n",
       "      <td>4</td>\n",
       "      <td>0</td>\n",
       "    </tr>\n",
       "    <tr>\n",
       "      <th>1018754</th>\n",
       "      <td>11.03.2024</td>\n",
       "      <td>Tarragona</td>\n",
       "      <td>HR</td>\n",
       "      <td>100854769</td>\n",
       "      <td>306190165</td>\n",
       "      <td>54.295</td>\n",
       "      <td>117.02</td>\n",
       "      <td>1</td>\n",
       "      <td>117.02</td>\n",
       "      <td>4</td>\n",
       "      <td>0</td>\n",
       "    </tr>\n",
       "    <tr>\n",
       "      <th>917803</th>\n",
       "      <td>12.02.2024</td>\n",
       "      <td>Tarragona</td>\n",
       "      <td>HR</td>\n",
       "      <td>100854769</td>\n",
       "      <td>306190165</td>\n",
       "      <td>105.000</td>\n",
       "      <td>45.93</td>\n",
       "      <td>1</td>\n",
       "      <td>45.93</td>\n",
       "      <td>4</td>\n",
       "      <td>0</td>\n",
       "    </tr>\n",
       "    <tr>\n",
       "      <th>1017201</th>\n",
       "      <td>12.02.2024</td>\n",
       "      <td>Tarragona</td>\n",
       "      <td>HR</td>\n",
       "      <td>100854769</td>\n",
       "      <td>306190165</td>\n",
       "      <td>105.000</td>\n",
       "      <td>45.93</td>\n",
       "      <td>1</td>\n",
       "      <td>45.93</td>\n",
       "      <td>4</td>\n",
       "      <td>0</td>\n",
       "    </tr>\n",
       "    <tr>\n",
       "      <th>925032</th>\n",
       "      <td>13.06.2024</td>\n",
       "      <td>Tarragona</td>\n",
       "      <td>HR</td>\n",
       "      <td>100854769</td>\n",
       "      <td>306190165</td>\n",
       "      <td>45.200</td>\n",
       "      <td>90.50</td>\n",
       "      <td>1</td>\n",
       "      <td>90.50</td>\n",
       "      <td>4</td>\n",
       "      <td>0</td>\n",
       "    </tr>\n",
       "    <tr>\n",
       "      <th>1024430</th>\n",
       "      <td>13.06.2024</td>\n",
       "      <td>Tarragona</td>\n",
       "      <td>HR</td>\n",
       "      <td>100854769</td>\n",
       "      <td>306190165</td>\n",
       "      <td>45.200</td>\n",
       "      <td>90.50</td>\n",
       "      <td>1</td>\n",
       "      <td>90.50</td>\n",
       "      <td>4</td>\n",
       "      <td>0</td>\n",
       "    </tr>\n",
       "    <tr>\n",
       "      <th>930843</th>\n",
       "      <td>16.09.2024</td>\n",
       "      <td>Tarragona</td>\n",
       "      <td>HR</td>\n",
       "      <td>100854769</td>\n",
       "      <td>306190165</td>\n",
       "      <td>129.000</td>\n",
       "      <td>74.14</td>\n",
       "      <td>1</td>\n",
       "      <td>74.14</td>\n",
       "      <td>4</td>\n",
       "      <td>0</td>\n",
       "    </tr>\n",
       "    <tr>\n",
       "      <th>1030241</th>\n",
       "      <td>16.09.2024</td>\n",
       "      <td>Tarragona</td>\n",
       "      <td>HR</td>\n",
       "      <td>100854769</td>\n",
       "      <td>306190165</td>\n",
       "      <td>129.000</td>\n",
       "      <td>74.14</td>\n",
       "      <td>1</td>\n",
       "      <td>74.14</td>\n",
       "      <td>4</td>\n",
       "      <td>0</td>\n",
       "    </tr>\n",
       "    <tr>\n",
       "      <th>917063</th>\n",
       "      <td>29.01.2024</td>\n",
       "      <td>Tarragona</td>\n",
       "      <td>HR</td>\n",
       "      <td>100854769</td>\n",
       "      <td>306190165</td>\n",
       "      <td>105.000</td>\n",
       "      <td>45.93</td>\n",
       "      <td>1</td>\n",
       "      <td>45.93</td>\n",
       "      <td>4</td>\n",
       "      <td>0</td>\n",
       "    </tr>\n",
       "    <tr>\n",
       "      <th>1016461</th>\n",
       "      <td>29.01.2024</td>\n",
       "      <td>Tarragona</td>\n",
       "      <td>HR</td>\n",
       "      <td>100854769</td>\n",
       "      <td>306190165</td>\n",
       "      <td>105.000</td>\n",
       "      <td>45.93</td>\n",
       "      <td>1</td>\n",
       "      <td>45.93</td>\n",
       "      <td>4</td>\n",
       "      <td>0</td>\n",
       "    </tr>\n",
       "  </tbody>\n",
       "</table>\n",
       "</div>"
      ],
      "text/plain": [
       "               date       city channel  client_id  promotor_id   volume  \\\n",
       "919356   11.03.2024  Tarragona      HR  100854769    306190165   54.295   \n",
       "1018754  11.03.2024  Tarragona      HR  100854769    306190165   54.295   \n",
       "917803   12.02.2024  Tarragona      HR  100854769    306190165  105.000   \n",
       "1017201  12.02.2024  Tarragona      HR  100854769    306190165  105.000   \n",
       "925032   13.06.2024  Tarragona      HR  100854769    306190165   45.200   \n",
       "1024430  13.06.2024  Tarragona      HR  100854769    306190165   45.200   \n",
       "930843   16.09.2024  Tarragona      HR  100854769    306190165  129.000   \n",
       "1030241  16.09.2024  Tarragona      HR  100854769    306190165  129.000   \n",
       "917063   29.01.2024  Tarragona      HR  100854769    306190165  105.000   \n",
       "1016461  29.01.2024  Tarragona      HR  100854769    306190165  105.000   \n",
       "\n",
       "         income  number_of_orders  median_ticket  prom_contacts_month  \\\n",
       "919356   117.02                 1         117.02                    4   \n",
       "1018754  117.02                 1         117.02                    4   \n",
       "917803    45.93                 1          45.93                    4   \n",
       "1017201   45.93                 1          45.93                    4   \n",
       "925032    90.50                 1          90.50                    4   \n",
       "1024430   90.50                 1          90.50                    4   \n",
       "930843    74.14                 1          74.14                    4   \n",
       "1030241   74.14                 1          74.14                    4   \n",
       "917063    45.93                 1          45.93                    4   \n",
       "1016461   45.93                 1          45.93                    4   \n",
       "\n",
       "         tel_contacts_month  \n",
       "919356                    0  \n",
       "1018754                   0  \n",
       "917803                    0  \n",
       "1017201                   0  \n",
       "925032                    0  \n",
       "1024430                   0  \n",
       "930843                    0  \n",
       "1030241                   0  \n",
       "917063                    0  \n",
       "1016461                   0  "
      ]
     },
     "execution_count": 8,
     "metadata": {},
     "output_type": "execute_result"
    }
   ],
   "source": [
    "# Show all exact duplicates (entire row is duplicated) --> Exploring duplicates to see whether they were exact to then drop the first ocurrence only from the dataset.\n",
    "exact_duplicates = df[df.duplicated(keep=False)]\n",
    "exact_duplicates.sort_values(by=['client_id', 'date']).head(10)"
   ]
  },
  {
   "cell_type": "code",
   "execution_count": 9,
   "id": "93d1699e",
   "metadata": {},
   "outputs": [],
   "source": [
    "df = df.drop_duplicates(keep='first')"
   ]
  },
  {
   "cell_type": "code",
   "execution_count": 10,
   "id": "a49a1beb",
   "metadata": {},
   "outputs": [
    {
     "name": "stdout",
     "output_type": "stream",
     "text": [
      "Exact Duplicates: 0 out of 1014965\n"
     ]
    }
   ],
   "source": [
    "# Total number of rows\n",
    "total_rows = df.shape[0]\n",
    "\n",
    "# Number of exact duplicates (all columns identical)\n",
    "exact_duplicates = df.duplicated().sum()\n",
    "print(f\"Exact Duplicates: {exact_duplicates} out of {total_rows}\")"
   ]
  },
  {
   "cell_type": "markdown",
   "id": "c9ac39a1",
   "metadata": {},
   "source": [
    "<a id='2.3'></a>\n",
    "## Part 2.3 - Ensuring Correct Data Types"
   ]
  },
  {
   "cell_type": "markdown",
   "id": "936ebd28",
   "metadata": {},
   "source": [
    "Data type each column should be:\n",
    "* date\t--> datetime type\n",
    "* city\t--> object\n",
    "* channel --> object\t\n",
    "* client_id\t--> object\n",
    "* promotor_id --> object\n",
    "* volume --> float\t\n",
    "* income --> float\t\n",
    "* number_of_orders --> integer\t\n",
    "* median_ticket --> float\t\n",
    "* prom_contacts_month --> integer\t\n",
    "* tel_contacts_month --> integer"
   ]
  },
  {
   "cell_type": "code",
   "execution_count": 11,
   "id": "d64f0589",
   "metadata": {},
   "outputs": [
    {
     "data": {
      "text/plain": [
       "date                    object\n",
       "city                    object\n",
       "channel                 object\n",
       "client_id                int64\n",
       "promotor_id              int64\n",
       "volume                 float64\n",
       "income                 float64\n",
       "number_of_orders         int64\n",
       "median_ticket          float64\n",
       "prom_contacts_month      int64\n",
       "tel_contacts_month       int64\n",
       "dtype: object"
      ]
     },
     "execution_count": 11,
     "metadata": {},
     "output_type": "execute_result"
    }
   ],
   "source": [
    "df.dtypes"
   ]
  },
  {
   "cell_type": "code",
   "execution_count": 12,
   "id": "c0fc16f9",
   "metadata": {},
   "outputs": [],
   "source": [
    "df['date'] = pd.to_datetime(df['date'], format='%d.%m.%Y')"
   ]
  },
  {
   "cell_type": "code",
   "execution_count": 13,
   "id": "4784cf78",
   "metadata": {},
   "outputs": [
    {
     "data": {
      "text/plain": [
       "date    datetime64[ns]\n",
       "dtype: object"
      ]
     },
     "execution_count": 13,
     "metadata": {},
     "output_type": "execute_result"
    }
   ],
   "source": [
    "df.dtypes[['date']]"
   ]
  },
  {
   "cell_type": "code",
   "execution_count": 14,
   "id": "83ba6293",
   "metadata": {},
   "outputs": [],
   "source": [
    "df['client_id'] = df['client_id'].astype(str)\n",
    "df['promotor_id'] = df['promotor_id'].astype(str)"
   ]
  },
  {
   "cell_type": "code",
   "execution_count": 15,
   "id": "5681d7fe",
   "metadata": {},
   "outputs": [
    {
     "data": {
      "text/plain": [
       "client_id      object\n",
       "promotor_id    object\n",
       "dtype: object"
      ]
     },
     "execution_count": 15,
     "metadata": {},
     "output_type": "execute_result"
    }
   ],
   "source": [
    "df.dtypes[['client_id', 'promotor_id']]"
   ]
  },
  {
   "cell_type": "code",
   "execution_count": 16,
   "id": "3372fbb6",
   "metadata": {},
   "outputs": [
    {
     "data": {
      "text/plain": [
       "date                   datetime64[ns]\n",
       "city                           object\n",
       "channel                        object\n",
       "client_id                      object\n",
       "promotor_id                    object\n",
       "volume                        float64\n",
       "income                        float64\n",
       "number_of_orders                int64\n",
       "median_ticket                 float64\n",
       "prom_contacts_month             int64\n",
       "tel_contacts_month              int64\n",
       "dtype: object"
      ]
     },
     "execution_count": 16,
     "metadata": {},
     "output_type": "execute_result"
    }
   ],
   "source": [
    "df.dtypes"
   ]
  },
  {
   "cell_type": "markdown",
   "id": "fae749c1",
   "metadata": {},
   "source": [
    "<a id='2.4'></a>\n",
    "## Part 2.4 - Dealing with Null/Missing Values"
   ]
  },
  {
   "cell_type": "code",
   "execution_count": 17,
   "id": "53233804",
   "metadata": {},
   "outputs": [
    {
     "data": {
      "text/plain": [
       "date                   False\n",
       "city                   False\n",
       "channel                False\n",
       "client_id              False\n",
       "promotor_id            False\n",
       "volume                 False\n",
       "income                 False\n",
       "number_of_orders       False\n",
       "median_ticket          False\n",
       "prom_contacts_month    False\n",
       "tel_contacts_month     False\n",
       "dtype: bool"
      ]
     },
     "execution_count": 17,
     "metadata": {},
     "output_type": "execute_result"
    }
   ],
   "source": [
    "df.isna().any() #No columns have any null values"
   ]
  },
  {
   "cell_type": "code",
   "execution_count": 18,
   "id": "20c03ae5",
   "metadata": {},
   "outputs": [
    {
     "data": {
      "text/plain": [
       "0"
      ]
     },
     "execution_count": 18,
     "metadata": {},
     "output_type": "execute_result"
    }
   ],
   "source": [
    "df.isna().any().sum() #0 null values"
   ]
  },
  {
   "cell_type": "markdown",
   "id": "a9d4a824",
   "metadata": {},
   "source": [
    "<a id='2.5'></a>\n",
    "## Part 2.5 - Creating new cols or aggregating?"
   ]
  },
  {
   "cell_type": "code",
   "execution_count": 19,
   "id": "2fa682d9",
   "metadata": {},
   "outputs": [],
   "source": [
    "#for later use\n",
    "#df.to_csv('dataset/clean_orders_data/clean_orders_data.csv', index=False)"
   ]
  },
  {
   "cell_type": "markdown",
   "id": "182ccc17",
   "metadata": {},
   "source": [
    "<a id='3'></a>\n",
    "# Part 3 - Exploratory Data Analysis (not aggregated yet)"
   ]
  },
  {
   "cell_type": "code",
   "execution_count": 20,
   "id": "44a3e334",
   "metadata": {},
   "outputs": [
    {
     "data": {
      "text/html": [
       "<div>\n",
       "<style scoped>\n",
       "    .dataframe tbody tr th:only-of-type {\n",
       "        vertical-align: middle;\n",
       "    }\n",
       "\n",
       "    .dataframe tbody tr th {\n",
       "        vertical-align: top;\n",
       "    }\n",
       "\n",
       "    .dataframe thead th {\n",
       "        text-align: right;\n",
       "    }\n",
       "</style>\n",
       "<table border=\"1\" class=\"dataframe\">\n",
       "  <thead>\n",
       "    <tr style=\"text-align: right;\">\n",
       "      <th></th>\n",
       "      <th>date</th>\n",
       "      <th>city</th>\n",
       "      <th>channel</th>\n",
       "      <th>client_id</th>\n",
       "      <th>promotor_id</th>\n",
       "      <th>volume</th>\n",
       "      <th>income</th>\n",
       "      <th>number_of_orders</th>\n",
       "      <th>median_ticket</th>\n",
       "      <th>prom_contacts_month</th>\n",
       "      <th>tel_contacts_month</th>\n",
       "    </tr>\n",
       "  </thead>\n",
       "  <tbody>\n",
       "    <tr>\n",
       "      <th>0</th>\n",
       "      <td>2024-01-01</td>\n",
       "      <td>Alicante</td>\n",
       "      <td>AR</td>\n",
       "      <td>398150871</td>\n",
       "      <td>729030652</td>\n",
       "      <td>5.94</td>\n",
       "      <td>0.00</td>\n",
       "      <td>1</td>\n",
       "      <td>0.00</td>\n",
       "      <td>0</td>\n",
       "      <td>0</td>\n",
       "    </tr>\n",
       "    <tr>\n",
       "      <th>1</th>\n",
       "      <td>2024-01-01</td>\n",
       "      <td>Alicante</td>\n",
       "      <td>HR</td>\n",
       "      <td>410234355</td>\n",
       "      <td>551409294</td>\n",
       "      <td>48.00</td>\n",
       "      <td>21.02</td>\n",
       "      <td>1</td>\n",
       "      <td>21.02</td>\n",
       "      <td>4</td>\n",
       "      <td>0</td>\n",
       "    </tr>\n",
       "    <tr>\n",
       "      <th>2</th>\n",
       "      <td>2024-01-02</td>\n",
       "      <td>Alicante</td>\n",
       "      <td>AR</td>\n",
       "      <td>123463493</td>\n",
       "      <td>551409294</td>\n",
       "      <td>125.25</td>\n",
       "      <td>92.57</td>\n",
       "      <td>1</td>\n",
       "      <td>92.57</td>\n",
       "      <td>1</td>\n",
       "      <td>0</td>\n",
       "    </tr>\n",
       "    <tr>\n",
       "      <th>3</th>\n",
       "      <td>2024-01-02</td>\n",
       "      <td>Alicante</td>\n",
       "      <td>AR</td>\n",
       "      <td>124527399</td>\n",
       "      <td>729030652</td>\n",
       "      <td>83.00</td>\n",
       "      <td>60.94</td>\n",
       "      <td>1</td>\n",
       "      <td>60.94</td>\n",
       "      <td>4</td>\n",
       "      <td>0</td>\n",
       "    </tr>\n",
       "    <tr>\n",
       "      <th>4</th>\n",
       "      <td>2024-01-02</td>\n",
       "      <td>Alicante</td>\n",
       "      <td>AR</td>\n",
       "      <td>130100821</td>\n",
       "      <td>729030652</td>\n",
       "      <td>768.00</td>\n",
       "      <td>244.33</td>\n",
       "      <td>1</td>\n",
       "      <td>244.33</td>\n",
       "      <td>1</td>\n",
       "      <td>3</td>\n",
       "    </tr>\n",
       "  </tbody>\n",
       "</table>\n",
       "</div>"
      ],
      "text/plain": [
       "        date      city channel  client_id promotor_id  volume  income  \\\n",
       "0 2024-01-01  Alicante      AR  398150871   729030652    5.94    0.00   \n",
       "1 2024-01-01  Alicante      HR  410234355   551409294   48.00   21.02   \n",
       "2 2024-01-02  Alicante      AR  123463493   551409294  125.25   92.57   \n",
       "3 2024-01-02  Alicante      AR  124527399   729030652   83.00   60.94   \n",
       "4 2024-01-02  Alicante      AR  130100821   729030652  768.00  244.33   \n",
       "\n",
       "   number_of_orders  median_ticket  prom_contacts_month  tel_contacts_month  \n",
       "0                 1           0.00                    0                   0  \n",
       "1                 1          21.02                    4                   0  \n",
       "2                 1          92.57                    1                   0  \n",
       "3                 1          60.94                    4                   0  \n",
       "4                 1         244.33                    1                   3  "
      ]
     },
     "execution_count": 20,
     "metadata": {},
     "output_type": "execute_result"
    }
   ],
   "source": [
    "df.head()"
   ]
  },
  {
   "cell_type": "code",
   "execution_count": 21,
   "id": "5c25142d",
   "metadata": {},
   "outputs": [
    {
     "data": {
      "text/plain": [
       "False"
      ]
     },
     "execution_count": 21,
     "metadata": {},
     "output_type": "execute_result"
    }
   ],
   "source": [
    "df.duplicated().any()"
   ]
  },
  {
   "cell_type": "code",
   "execution_count": 22,
   "id": "7999485a",
   "metadata": {},
   "outputs": [
    {
     "data": {
      "text/plain": [
       "0"
      ]
     },
     "execution_count": 22,
     "metadata": {},
     "output_type": "execute_result"
    }
   ],
   "source": [
    "df.isna().any().sum()"
   ]
  },
  {
   "cell_type": "code",
   "execution_count": 23,
   "id": "c03d93ea",
   "metadata": {},
   "outputs": [
    {
     "data": {
      "text/plain": [
       "date                   datetime64[ns]\n",
       "city                           object\n",
       "channel                        object\n",
       "client_id                      object\n",
       "promotor_id                    object\n",
       "volume                        float64\n",
       "income                        float64\n",
       "number_of_orders                int64\n",
       "median_ticket                 float64\n",
       "prom_contacts_month             int64\n",
       "tel_contacts_month              int64\n",
       "dtype: object"
      ]
     },
     "execution_count": 23,
     "metadata": {},
     "output_type": "execute_result"
    }
   ],
   "source": [
    "df.dtypes"
   ]
  },
  {
   "cell_type": "markdown",
   "id": "a6c74dfa",
   "metadata": {},
   "source": [
    "# Aggregating columns"
   ]
  },
  {
   "cell_type": "code",
   "execution_count": 24,
   "id": "6ce4fca5",
   "metadata": {},
   "outputs": [
    {
     "name": "stdout",
     "output_type": "stream",
     "text": [
      "        date      city channel  client_id promotor_id  volume  income  \\\n",
      "0 2024-01-01  Alicante      AR  398150871   729030652    5.94    0.00   \n",
      "1 2024-01-01  Alicante      HR  410234355   551409294   48.00   21.02   \n",
      "2 2024-01-02  Alicante      AR  123463493   551409294  125.25   92.57   \n",
      "3 2024-01-02  Alicante      AR  124527399   729030652   83.00   60.94   \n",
      "4 2024-01-02  Alicante      AR  130100821   729030652  768.00  244.33   \n",
      "\n",
      "   number_of_orders  median_ticket  prom_contacts_month  tel_contacts_month  \\\n",
      "0                 1           0.00                    0                   0   \n",
      "1                 1          21.02                    4                   0   \n",
      "2                 1          92.57                    1                   0   \n",
      "3                 1          60.94                    4                   0   \n",
      "4                 1         244.33                    1                   3   \n",
      "\n",
      "     month  \n",
      "0  2024-01  \n",
      "1  2024-01  \n",
      "2  2024-01  \n",
      "3  2024-01  \n",
      "4  2024-01  \n",
      "   client_id    month  number_of_orders\n",
      "0  100006690  2024-01                 2\n",
      "1  100006690  2024-02                 2\n",
      "2  100006690  2024-03                 2\n",
      "3  100006690  2024-04                 3\n",
      "4  100006690  2024-05                 3\n",
      "   client_id  frequency\n",
      "0  100006690        2.0\n",
      "1  100008050        1.0\n",
      "2  100042162        2.0\n",
      "3  100046227        4.0\n",
      "4  100125158        3.0\n"
     ]
    }
   ],
   "source": [
    "# --- STEP 1: Create `frequency` (median orders per month per client) ---\n",
    "df['month'] = df['date'].dt.to_period('M')\n",
    "print(df.head())\n",
    "\n",
    "monthly_orders = df.groupby(['client_id', 'month'])['number_of_orders'].sum().reset_index()\n",
    "print(monthly_orders.head())\n",
    "\n",
    "frequency_df = monthly_orders.groupby('client_id')['number_of_orders'].median().reset_index()\n",
    "frequency_df.rename(columns={'number_of_orders': 'frequency'}, inplace=True)\n",
    "print(frequency_df.head())"
   ]
  },
  {
   "cell_type": "code",
   "execution_count": 25,
   "id": "9fcdaedb",
   "metadata": {},
   "outputs": [
    {
     "name": "stdout",
     "output_type": "stream",
     "text": [
      "Clients with >1 unique channel: 0\n",
      "Clients with >1 unique city: 0\n"
     ]
    }
   ],
   "source": [
    "# --- STEP 1.5: Validate that 'channel' and 'city' are unique per client ---\n",
    "multi_channel = df.groupby('client_id')['channel'].nunique()\n",
    "print(\"Clients with >1 unique channel:\", (multi_channel > 1).sum())\n",
    "\n",
    "multi_city = df.groupby('client_id')['city'].nunique()\n",
    "print(\"Clients with >1 unique city:\", (multi_city > 1).sum())\n",
    "\n",
    "#Check to be able to agg by channel and city --> each client id has a unique city and channel"
   ]
  },
  {
   "cell_type": "code",
   "execution_count": 26,
   "id": "8cc90d9f",
   "metadata": {},
   "outputs": [
    {
     "data": {
      "text/html": [
       "<div>\n",
       "<style scoped>\n",
       "    .dataframe tbody tr th:only-of-type {\n",
       "        vertical-align: middle;\n",
       "    }\n",
       "\n",
       "    .dataframe tbody tr th {\n",
       "        vertical-align: top;\n",
       "    }\n",
       "\n",
       "    .dataframe thead th {\n",
       "        text-align: right;\n",
       "    }\n",
       "</style>\n",
       "<table border=\"1\" class=\"dataframe\">\n",
       "  <thead>\n",
       "    <tr style=\"text-align: right;\">\n",
       "      <th></th>\n",
       "      <th>client_id</th>\n",
       "      <th>income</th>\n",
       "      <th>volume</th>\n",
       "      <th>number_of_orders</th>\n",
       "      <th>prom_contacts_month</th>\n",
       "      <th>tel_contacts_month</th>\n",
       "      <th>median_ticket</th>\n",
       "      <th>channel</th>\n",
       "      <th>city</th>\n",
       "    </tr>\n",
       "  </thead>\n",
       "  <tbody>\n",
       "    <tr>\n",
       "      <th>0</th>\n",
       "      <td>100006690</td>\n",
       "      <td>1494.53</td>\n",
       "      <td>1658.706</td>\n",
       "      <td>22</td>\n",
       "      <td>44</td>\n",
       "      <td>0</td>\n",
       "      <td>60.990</td>\n",
       "      <td>AR</td>\n",
       "      <td>Madrid</td>\n",
       "    </tr>\n",
       "    <tr>\n",
       "      <th>1</th>\n",
       "      <td>100008050</td>\n",
       "      <td>1905.59</td>\n",
       "      <td>3982.000</td>\n",
       "      <td>14</td>\n",
       "      <td>0</td>\n",
       "      <td>28</td>\n",
       "      <td>132.370</td>\n",
       "      <td>AR</td>\n",
       "      <td>Barcelona</td>\n",
       "    </tr>\n",
       "    <tr>\n",
       "      <th>2</th>\n",
       "      <td>100042162</td>\n",
       "      <td>2243.30</td>\n",
       "      <td>1812.850</td>\n",
       "      <td>18</td>\n",
       "      <td>56</td>\n",
       "      <td>0</td>\n",
       "      <td>128.125</td>\n",
       "      <td>HR</td>\n",
       "      <td>Barcelona</td>\n",
       "    </tr>\n",
       "    <tr>\n",
       "      <th>3</th>\n",
       "      <td>100046227</td>\n",
       "      <td>2273.12</td>\n",
       "      <td>4590.180</td>\n",
       "      <td>16</td>\n",
       "      <td>32</td>\n",
       "      <td>32</td>\n",
       "      <td>132.640</td>\n",
       "      <td>AR</td>\n",
       "      <td>Barcelona</td>\n",
       "    </tr>\n",
       "    <tr>\n",
       "      <th>4</th>\n",
       "      <td>100125158</td>\n",
       "      <td>2204.24</td>\n",
       "      <td>1266.500</td>\n",
       "      <td>26</td>\n",
       "      <td>25</td>\n",
       "      <td>0</td>\n",
       "      <td>67.255</td>\n",
       "      <td>HR</td>\n",
       "      <td>Cádiz</td>\n",
       "    </tr>\n",
       "  </tbody>\n",
       "</table>\n",
       "</div>"
      ],
      "text/plain": [
       "   client_id   income    volume  number_of_orders  prom_contacts_month  \\\n",
       "0  100006690  1494.53  1658.706                22                   44   \n",
       "1  100008050  1905.59  3982.000                14                    0   \n",
       "2  100042162  2243.30  1812.850                18                   56   \n",
       "3  100046227  2273.12  4590.180                16                   32   \n",
       "4  100125158  2204.24  1266.500                26                   25   \n",
       "\n",
       "   tel_contacts_month  median_ticket channel       city  \n",
       "0                   0         60.990      AR     Madrid  \n",
       "1                  28        132.370      AR  Barcelona  \n",
       "2                   0        128.125      HR  Barcelona  \n",
       "3                  32        132.640      AR  Barcelona  \n",
       "4                   0         67.255      HR      Cádiz  "
      ]
     },
     "execution_count": 26,
     "metadata": {},
     "output_type": "execute_result"
    }
   ],
   "source": [
    "# --- STEP 2: Aggregate Remaining Data Per Client ---\n",
    "# Notes:\n",
    "# - 'income', 'volume', 'number_of_orders' -> summed: represents cumulative behavior\n",
    "# - 'prom_contacts_month', 'tel_contacts_month' -> averaged: avoid inflation from repetition\n",
    "# - 'median_ticket' -> median to reduce outlier skew\n",
    "# - 'channel', 'city' -> assumed to be static, validated above\n",
    "\n",
    "client_df = df.groupby('client_id').agg({\n",
    "    'income': 'sum',\n",
    "    'volume': 'sum',  # volume = total weight/space across orders, relevant for logistics\n",
    "    'number_of_orders': 'sum',\n",
    "    'prom_contacts_month': 'sum', #mean?\n",
    "    'tel_contacts_month': 'sum', #mean?\n",
    "    'median_ticket': 'median',\n",
    "    'channel': 'first',\n",
    "    'city': 'first'\n",
    "}).reset_index()\n",
    "\n",
    "client_df.head()"
   ]
  },
  {
   "cell_type": "code",
   "execution_count": 27,
   "id": "f51b33e9",
   "metadata": {},
   "outputs": [],
   "source": [
    "# --- STEP 3: Merge Frequency ---\n",
    "client_df = client_df.merge(frequency_df, on='client_id', how='left')"
   ]
  },
  {
   "cell_type": "code",
   "execution_count": 28,
   "id": "468b7339",
   "metadata": {},
   "outputs": [],
   "source": [
    "# --- STEP 4: Create Efficiency Feature ---\n",
    "client_df['efficiency'] = client_df['number_of_orders'] / client_df['prom_contacts_month']"
   ]
  },
  {
   "cell_type": "code",
   "execution_count": 29,
   "id": "b0481387",
   "metadata": {},
   "outputs": [
    {
     "name": "stderr",
     "output_type": "stream",
     "text": [
      "C:\\Users\\trtre\\AppData\\Local\\Temp\\ipykernel_30604\\4245745788.py:3: FutureWarning: Downcasting object dtype arrays on .fillna, .ffill, .bfill is deprecated and will change in a future version. Call result.infer_objects(copy=False) instead. To opt-in to the future behavior, set `pd.set_option('future.no_silent_downcasting', True)`\n",
      "  client_df['efficiency'] = client_df['efficiency'].fillna(0)\n"
     ]
    }
   ],
   "source": [
    "# --- STEP 5: Handle Division by Zero or NaNs ---\n",
    "client_df['efficiency'] = client_df['efficiency'].replace([float('inf'), -float('inf')], None)\n",
    "client_df['efficiency'] = client_df['efficiency'].fillna(0)"
   ]
  },
  {
   "cell_type": "code",
   "execution_count": 30,
   "id": "4fb4af34",
   "metadata": {},
   "outputs": [
    {
     "data": {
      "text/plain": [
       "client_id               object\n",
       "income                 float64\n",
       "volume                 float64\n",
       "number_of_orders         int64\n",
       "prom_contacts_month      int64\n",
       "tel_contacts_month       int64\n",
       "median_ticket          float64\n",
       "channel                 object\n",
       "city                    object\n",
       "frequency              float64\n",
       "efficiency             float64\n",
       "dtype: object"
      ]
     },
     "execution_count": 30,
     "metadata": {},
     "output_type": "execute_result"
    }
   ],
   "source": [
    "client_df.dtypes"
   ]
  },
  {
   "cell_type": "code",
   "execution_count": 31,
   "id": "7f6cbe08",
   "metadata": {},
   "outputs": [
    {
     "data": {
      "text/plain": [
       "False"
      ]
     },
     "execution_count": 31,
     "metadata": {},
     "output_type": "execute_result"
    }
   ],
   "source": [
    "client_df.duplicated().any()"
   ]
  },
  {
   "cell_type": "code",
   "execution_count": 32,
   "id": "1a466691",
   "metadata": {},
   "outputs": [
    {
     "data": {
      "text/plain": [
       "0"
      ]
     },
     "execution_count": 32,
     "metadata": {},
     "output_type": "execute_result"
    }
   ],
   "source": [
    "client_df.isna().any().sum()"
   ]
  },
  {
   "cell_type": "code",
   "execution_count": 33,
   "id": "0569a1ad",
   "metadata": {},
   "outputs": [
    {
     "data": {
      "text/html": [
       "<div>\n",
       "<style scoped>\n",
       "    .dataframe tbody tr th:only-of-type {\n",
       "        vertical-align: middle;\n",
       "    }\n",
       "\n",
       "    .dataframe tbody tr th {\n",
       "        vertical-align: top;\n",
       "    }\n",
       "\n",
       "    .dataframe thead th {\n",
       "        text-align: right;\n",
       "    }\n",
       "</style>\n",
       "<table border=\"1\" class=\"dataframe\">\n",
       "  <thead>\n",
       "    <tr style=\"text-align: right;\">\n",
       "      <th></th>\n",
       "      <th>client_id</th>\n",
       "      <th>income</th>\n",
       "      <th>volume</th>\n",
       "      <th>number_of_orders</th>\n",
       "      <th>prom_contacts_month</th>\n",
       "      <th>tel_contacts_month</th>\n",
       "      <th>median_ticket</th>\n",
       "      <th>channel</th>\n",
       "      <th>city</th>\n",
       "      <th>frequency</th>\n",
       "      <th>efficiency</th>\n",
       "    </tr>\n",
       "  </thead>\n",
       "  <tbody>\n",
       "    <tr>\n",
       "      <th>0</th>\n",
       "      <td>100006690</td>\n",
       "      <td>1494.53</td>\n",
       "      <td>1658.706</td>\n",
       "      <td>22</td>\n",
       "      <td>44</td>\n",
       "      <td>0</td>\n",
       "      <td>60.990</td>\n",
       "      <td>AR</td>\n",
       "      <td>Madrid</td>\n",
       "      <td>2.0</td>\n",
       "      <td>0.500000</td>\n",
       "    </tr>\n",
       "    <tr>\n",
       "      <th>1</th>\n",
       "      <td>100008050</td>\n",
       "      <td>1905.59</td>\n",
       "      <td>3982.000</td>\n",
       "      <td>14</td>\n",
       "      <td>0</td>\n",
       "      <td>28</td>\n",
       "      <td>132.370</td>\n",
       "      <td>AR</td>\n",
       "      <td>Barcelona</td>\n",
       "      <td>1.0</td>\n",
       "      <td>0.000000</td>\n",
       "    </tr>\n",
       "    <tr>\n",
       "      <th>2</th>\n",
       "      <td>100042162</td>\n",
       "      <td>2243.30</td>\n",
       "      <td>1812.850</td>\n",
       "      <td>18</td>\n",
       "      <td>56</td>\n",
       "      <td>0</td>\n",
       "      <td>128.125</td>\n",
       "      <td>HR</td>\n",
       "      <td>Barcelona</td>\n",
       "      <td>2.0</td>\n",
       "      <td>0.321429</td>\n",
       "    </tr>\n",
       "    <tr>\n",
       "      <th>3</th>\n",
       "      <td>100046227</td>\n",
       "      <td>2273.12</td>\n",
       "      <td>4590.180</td>\n",
       "      <td>16</td>\n",
       "      <td>32</td>\n",
       "      <td>32</td>\n",
       "      <td>132.640</td>\n",
       "      <td>AR</td>\n",
       "      <td>Barcelona</td>\n",
       "      <td>4.0</td>\n",
       "      <td>0.500000</td>\n",
       "    </tr>\n",
       "    <tr>\n",
       "      <th>4</th>\n",
       "      <td>100125158</td>\n",
       "      <td>2204.24</td>\n",
       "      <td>1266.500</td>\n",
       "      <td>26</td>\n",
       "      <td>25</td>\n",
       "      <td>0</td>\n",
       "      <td>67.255</td>\n",
       "      <td>HR</td>\n",
       "      <td>Cádiz</td>\n",
       "      <td>3.0</td>\n",
       "      <td>1.040000</td>\n",
       "    </tr>\n",
       "    <tr>\n",
       "      <th>...</th>\n",
       "      <td>...</td>\n",
       "      <td>...</td>\n",
       "      <td>...</td>\n",
       "      <td>...</td>\n",
       "      <td>...</td>\n",
       "      <td>...</td>\n",
       "      <td>...</td>\n",
       "      <td>...</td>\n",
       "      <td>...</td>\n",
       "      <td>...</td>\n",
       "      <td>...</td>\n",
       "    </tr>\n",
       "    <tr>\n",
       "      <th>42144</th>\n",
       "      <td>999934164</td>\n",
       "      <td>785.30</td>\n",
       "      <td>691.000</td>\n",
       "      <td>23</td>\n",
       "      <td>23</td>\n",
       "      <td>69</td>\n",
       "      <td>38.330</td>\n",
       "      <td>HR</td>\n",
       "      <td>Barcelona</td>\n",
       "      <td>2.0</td>\n",
       "      <td>1.000000</td>\n",
       "    </tr>\n",
       "    <tr>\n",
       "      <th>42145</th>\n",
       "      <td>999940211</td>\n",
       "      <td>260.55</td>\n",
       "      <td>557.820</td>\n",
       "      <td>3</td>\n",
       "      <td>0</td>\n",
       "      <td>0</td>\n",
       "      <td>76.430</td>\n",
       "      <td>AR</td>\n",
       "      <td>Barcelona</td>\n",
       "      <td>1.0</td>\n",
       "      <td>0.000000</td>\n",
       "    </tr>\n",
       "    <tr>\n",
       "      <th>42146</th>\n",
       "      <td>999940578</td>\n",
       "      <td>1044.61</td>\n",
       "      <td>1101.524</td>\n",
       "      <td>13</td>\n",
       "      <td>26</td>\n",
       "      <td>0</td>\n",
       "      <td>64.315</td>\n",
       "      <td>AR</td>\n",
       "      <td>Madrid</td>\n",
       "      <td>1.0</td>\n",
       "      <td>0.500000</td>\n",
       "    </tr>\n",
       "    <tr>\n",
       "      <th>42147</th>\n",
       "      <td>999941988</td>\n",
       "      <td>3828.31</td>\n",
       "      <td>5415.150</td>\n",
       "      <td>36</td>\n",
       "      <td>70</td>\n",
       "      <td>70</td>\n",
       "      <td>102.840</td>\n",
       "      <td>AR</td>\n",
       "      <td>Madrid</td>\n",
       "      <td>3.0</td>\n",
       "      <td>0.514286</td>\n",
       "    </tr>\n",
       "    <tr>\n",
       "      <th>42148</th>\n",
       "      <td>999976985</td>\n",
       "      <td>6988.48</td>\n",
       "      <td>1743.000</td>\n",
       "      <td>30</td>\n",
       "      <td>29</td>\n",
       "      <td>0</td>\n",
       "      <td>211.830</td>\n",
       "      <td>HR</td>\n",
       "      <td>Barcelona</td>\n",
       "      <td>3.0</td>\n",
       "      <td>1.034483</td>\n",
       "    </tr>\n",
       "  </tbody>\n",
       "</table>\n",
       "<p>42149 rows × 11 columns</p>\n",
       "</div>"
      ],
      "text/plain": [
       "       client_id   income    volume  number_of_orders  prom_contacts_month  \\\n",
       "0      100006690  1494.53  1658.706                22                   44   \n",
       "1      100008050  1905.59  3982.000                14                    0   \n",
       "2      100042162  2243.30  1812.850                18                   56   \n",
       "3      100046227  2273.12  4590.180                16                   32   \n",
       "4      100125158  2204.24  1266.500                26                   25   \n",
       "...          ...      ...       ...               ...                  ...   \n",
       "42144  999934164   785.30   691.000                23                   23   \n",
       "42145  999940211   260.55   557.820                 3                    0   \n",
       "42146  999940578  1044.61  1101.524                13                   26   \n",
       "42147  999941988  3828.31  5415.150                36                   70   \n",
       "42148  999976985  6988.48  1743.000                30                   29   \n",
       "\n",
       "       tel_contacts_month  median_ticket channel       city  frequency  \\\n",
       "0                       0         60.990      AR     Madrid        2.0   \n",
       "1                      28        132.370      AR  Barcelona        1.0   \n",
       "2                       0        128.125      HR  Barcelona        2.0   \n",
       "3                      32        132.640      AR  Barcelona        4.0   \n",
       "4                       0         67.255      HR      Cádiz        3.0   \n",
       "...                   ...            ...     ...        ...        ...   \n",
       "42144                  69         38.330      HR  Barcelona        2.0   \n",
       "42145                   0         76.430      AR  Barcelona        1.0   \n",
       "42146                   0         64.315      AR     Madrid        1.0   \n",
       "42147                  70        102.840      AR     Madrid        3.0   \n",
       "42148                   0        211.830      HR  Barcelona        3.0   \n",
       "\n",
       "       efficiency  \n",
       "0        0.500000  \n",
       "1        0.000000  \n",
       "2        0.321429  \n",
       "3        0.500000  \n",
       "4        1.040000  \n",
       "...           ...  \n",
       "42144    1.000000  \n",
       "42145    0.000000  \n",
       "42146    0.500000  \n",
       "42147    0.514286  \n",
       "42148    1.034483  \n",
       "\n",
       "[42149 rows x 11 columns]"
      ]
     },
     "execution_count": 33,
     "metadata": {},
     "output_type": "execute_result"
    }
   ],
   "source": [
    "client_df"
   ]
  },
  {
   "cell_type": "code",
   "execution_count": null,
   "id": "03f15924",
   "metadata": {},
   "outputs": [],
   "source": [
    "client_df.rename(columns={\n",
    "    'prom_contacts_month': 'total_prom_contacts',\n",
    "    'tel_contacts_month': 'total_tel_contacts'\n",
    "}, inplace=True)\n",
    "#renaming column to aviod confusion --> not monthly now, now is total contacts"
   ]
  },
  {
   "cell_type": "code",
   "execution_count": null,
   "id": "d37a9398",
   "metadata": {},
   "outputs": [],
   "source": [
    "#client_df.to_csv('dataset/aggregated_client_data.csv')"
   ]
  },
  {
   "cell_type": "markdown",
   "id": "dc052b13",
   "metadata": {},
   "source": [
    "<a id='3'></a>\n",
    "# Part 3 - Exploratory Data Analysis (aggregated)"
   ]
  },
  {
   "cell_type": "code",
   "execution_count": 36,
   "id": "68754190",
   "metadata": {},
   "outputs": [],
   "source": [
    "# Set plot style\n",
    "sns.set(style='whitegrid')"
   ]
  },
  {
   "cell_type": "markdown",
   "id": "08770822",
   "metadata": {},
   "source": [
    "### Income & Median ticket per client"
   ]
  },
  {
   "cell_type": "code",
   "execution_count": 39,
   "id": "8b42700c",
   "metadata": {},
   "outputs": [
    {
     "data": {
      "text/plain": [
       "count     42149.000000\n",
       "mean       3844.752407\n",
       "std       10553.109564\n",
       "min      -17252.420000\n",
       "25%         694.780000\n",
       "50%        1796.010000\n",
       "75%        4042.520000\n",
       "max      599249.420000\n",
       "Name: income, dtype: float64"
      ]
     },
     "execution_count": 39,
     "metadata": {},
     "output_type": "execute_result"
    }
   ],
   "source": [
    "client_df['income'].describe()"
   ]
  },
  {
   "cell_type": "code",
   "execution_count": 37,
   "id": "3ae46f4a",
   "metadata": {},
   "outputs": [
    {
     "data": {
      "image/png": "[encoded data removed]",
      "text/plain": [
       "<Figure size 600x400 with 1 Axes>"
      ]
     },
     "metadata": {},
     "output_type": "display_data"
    }
   ],
   "source": [
    "# 1. Distribution of Total Income\n",
    "plt.figure(figsize=(6, 4))\n",
    "sns.histplot(client_df['income'], bins=50, kde=True)\n",
    "plt.title('Distribution of Total Income per Client')\n",
    "plt.xlabel('Total Income (€)')\n",
    "plt.ylabel('Number of Clients')\n",
    "plt.tight_layout()\n",
    "plt.show()"
   ]
  },
  {
   "cell_type": "code",
   "execution_count": 42,
   "id": "db869fed",
   "metadata": {},
   "outputs": [
    {
     "name": "stdout",
     "output_type": "stream",
     "text": [
      "Negative income clients: 55\n",
      "Negative ticket clients: 55\n"
     ]
    }
   ],
   "source": [
    "neg_income = client_df[client_df['income'] < 0]\n",
    "neg_ticket = client_df[client_df['median_ticket'] < 0]\n",
    "print(f\"Negative income clients: {len(neg_income)}\")\n",
    "print(f\"Negative ticket clients: {len(neg_ticket)}\")\n",
    "\n",
    "# Optional: see overlap\n",
    "neg_both = client_df[(client_df['income'] < 0) & (client_df['median_ticket'] < 0)]"
   ]
  },
  {
   "cell_type": "code",
   "execution_count": 44,
   "id": "56b2ce00",
   "metadata": {},
   "outputs": [
    {
     "data": {
      "text/plain": [
       "48"
      ]
     },
     "execution_count": 44,
     "metadata": {},
     "output_type": "execute_result"
    }
   ],
   "source": [
    "len(neg_both)"
   ]
  },
  {
   "cell_type": "code",
   "execution_count": null,
   "id": "3878917d",
   "metadata": {},
   "outputs": [],
   "source": [
    "#to drop\n",
    "#client_df = client_df[(client_df['income'] >= 0) & (client_df['median_ticket'] >= 0)]\n"
   ]
  },
  {
   "cell_type": "code",
   "execution_count": 41,
   "id": "c2a6a9b8",
   "metadata": {},
   "outputs": [
    {
     "data": {
      "text/plain": [
       "count    42149.000000\n",
       "mean       125.473258\n",
       "std        236.816560\n",
       "min      -3131.680000\n",
       "25%         59.885000\n",
       "50%         85.365000\n",
       "75%        132.480000\n",
       "max      19350.000000\n",
       "Name: median_ticket, dtype: float64"
      ]
     },
     "execution_count": 41,
     "metadata": {},
     "output_type": "execute_result"
    }
   ],
   "source": [
    "client_df['median_ticket'].describe()"
   ]
  },
  {
   "cell_type": "code",
   "execution_count": 40,
   "id": "4d6d643a",
   "metadata": {},
   "outputs": [
    {
     "data": {
      "image/png": "[encoded data removed]",
      "text/plain": [
       "<Figure size 600x400 with 1 Axes>"
      ]
     },
     "metadata": {},
     "output_type": "display_data"
    }
   ],
   "source": [
    "# 2. Distribution of Median Ticket\n",
    "plt.figure(figsize=(6, 4))\n",
    "sns.histplot(client_df['median_ticket'], bins=50, kde=True)\n",
    "plt.axvline(80, color='red', linestyle='--', label='Ticket Threshold (80€)')\n",
    "plt.title('Distribution of Median Ticket per Client')\n",
    "plt.xlabel('Median Ticket (€)')\n",
    "plt.ylabel('Number of Clients')\n",
    "plt.legend()\n",
    "plt.tight_layout()\n",
    "plt.show()"
   ]
  },
  {
   "cell_type": "markdown",
   "id": "5f67430a",
   "metadata": {},
   "source": [
    "# 3. Efficiency Distribution"
   ]
  },
  {
   "cell_type": "code",
   "execution_count": null,
   "id": "83ce46e5",
   "metadata": {},
   "outputs": [],
   "source": [
    "# 3. Efficiency Distribution\n",
    "plt.figure(figsize=(6, 4))\n",
    "sns.histplot(client_df['efficiency'], bins=50, kde=True)\n",
    "plt.title('Distribution of Client Efficiency (Orders / Physical Contacts)')\n",
    "plt.xlabel('Efficiency')\n",
    "plt.ylabel('Number of Clients')\n",
    "plt.tight_layout()\n",
    "plt.show()"
   ]
  },
  {
   "cell_type": "markdown",
   "id": "e1126a38",
   "metadata": {},
   "source": [
    "# 4. Orders vs Promotor Contacts (Scatter)"
   ]
  },
  {
   "cell_type": "code",
   "execution_count": null,
   "id": "fdce9ae8",
   "metadata": {},
   "outputs": [],
   "source": [
    "# 4. Orders vs Promotor Contacts (Scatter)\n",
    "plt.figure(figsize=(6, 5))\n",
    "sns.scatterplot(data=client_df, x='prom_contacts_month', y='number_of_orders', hue='channel', alpha=0.6, edgecolor='w')\n",
    "plt.plot([0, client_df['prom_contacts_month'].max()], [0, client_df['prom_contacts_month'].max()], '--', color='grey', label='Ideal 1:1 Line')\n",
    "plt.title('Number of Orders vs. Promotor Contacts')\n",
    "plt.xlabel('Total Promotor Contacts')\n",
    "plt.ylabel('Total Orders')\n",
    "plt.legend()\n",
    "plt.tight_layout()\n",
    "plt.show()"
   ]
  },
  {
   "cell_type": "markdown",
   "id": "e60e8861",
   "metadata": {},
   "source": [
    "# 5. Average Efficiency by Channel (Fixed)"
   ]
  },
  {
   "cell_type": "code",
   "execution_count": null,
   "id": "8c6a39db",
   "metadata": {},
   "outputs": [],
   "source": [
    "# 5. Average Efficiency by Channel (Fixed)\n",
    "plt.figure(figsize=(6, 4))\n",
    "sns.barplot(data=client_df, x='channel', y='efficiency', estimator=np.mean)\n",
    "plt.title('Average Efficiency by Channel')\n",
    "plt.xlabel('Channel')\n",
    "plt.ylabel('Avg Efficiency')\n",
    "plt.tight_layout()\n",
    "plt.show()"
   ]
  },
  {
   "cell_type": "markdown",
   "id": "3e603c36",
   "metadata": {},
   "source": [
    "# 6. Correlation Matrix"
   ]
  },
  {
   "cell_type": "code",
   "execution_count": null,
   "id": "70f75272",
   "metadata": {},
   "outputs": [],
   "source": [
    "# 6. Correlation Matrix\n",
    "plt.figure(figsize=(8, 6))\n",
    "corr = client_df[['income', 'volume', 'number_of_orders', 'prom_contacts_month', 'median_ticket', 'frequency', 'efficiency']].corr()\n",
    "sns.heatmap(corr, annot=True, cmap='coolwarm', fmt=\".2f\")\n",
    "plt.title('Correlation Matrix')\n",
    "plt.tight_layout()\n",
    "plt.show()"
   ]
  }
 ],
 "metadata": {
  "kernelspec": {
   "display_name": "thomas_env",
   "language": "python",
   "name": "python3"
  },
  "language_info": {
   "codemirror_mode": {
    "name": "ipython",
    "version": 3
   },
   "file_extension": ".py",
   "mimetype": "text/x-python",
   "name": "python",
   "nbconvert_exporter": "python",
   "pygments_lexer": "ipython3",
   "version": "3.12.9"
  }
 },
 "nbformat": 4,
 "nbformat_minor": 5
}
