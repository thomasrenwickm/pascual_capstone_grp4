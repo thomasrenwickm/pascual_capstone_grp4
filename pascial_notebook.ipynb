{
 "cells": [
  {
   "cell_type": "markdown",
   "id": "e8cec459",
   "metadata": {},
   "source": [
    "# **Pacual Capstone Group 4 Notebook - Route Optimization**"
   ]
  },
  {
   "cell_type": "markdown",
   "id": "788b25e1",
   "metadata": {},
   "source": [
    "Group members: *Abdullah Alshaarawi, James Alarde, Hiromitsu Fujiyama, Sanjo Joy, Thomas Arturo Renwick Morales*"
   ]
  },
  {
   "cell_type": "markdown",
   "id": "c9d8d555",
   "metadata": {},
   "source": [
    "---"
   ]
  },
  {
   "cell_type": "markdown",
   "id": "ae04a1ab",
   "metadata": {},
   "source": [
    "This notebook is organized in the following sections:\n",
    "\n",
    "* [Part 0 - Importing the Necessary Libraries](#0)\n",
    "\n",
    "* [Part 1 - Data Loading](#1)\n",
    "\n",
    "* [Part 2 - Data Cleaning/ Wrangling](#2)\n",
    "  * [Part 2.1 - Preliminary Analysis of the Dataset](#2.1)\n",
    "  * [Part 2.2 - Dealing with Duplicates](#2.2)\n",
    "  * [Part 2.3 - Ensuring Correct Data Types](#2.3)\n",
    "  * [Part 2.4 - Dealing with Null/Missing Values](#2.4)\n",
    "  * [Part 2.5 - ?](#2.5)\n",
    "\n",
    "* [Part 3 - Exploratory Data Analysis](#3)\n",
    "\n"
   ]
  },
  {
   "cell_type": "markdown",
   "id": "579afa8d",
   "metadata": {},
   "source": [
    "---"
   ]
  },
  {
   "cell_type": "markdown",
   "id": "853b1b40",
   "metadata": {},
   "source": [
    "<a id='0'></a>\n",
    "## Part 0 - Importing the Necessary Libraries"
   ]
  },
  {
   "cell_type": "code",
   "execution_count": 1,
   "id": "b332fbc5",
   "metadata": {},
   "outputs": [],
   "source": [
    "import pandas as pd\n",
    "import matplotlib.pyplot as plt\n",
    "import sklearn \n",
    "import numpy\n",
    "import joblib"
   ]
  },
  {
   "cell_type": "markdown",
   "id": "8ec7d3ee",
   "metadata": {},
   "source": [
    "<a id='1'></a>\n",
    "# Part 1 - Data Loading"
   ]
  },
  {
   "cell_type": "code",
   "execution_count": 2,
   "id": "4874aa84",
   "metadata": {},
   "outputs": [],
   "source": [
    "df = pd.read_csv('dataset/Orders_Master_Data(in).csv')"
   ]
  },
  {
   "cell_type": "markdown",
   "id": "15d5faa0",
   "metadata": {},
   "source": [
    "<a id='2'></a>\n",
    "# Part 2 - Data Cleaning/ Wrangling"
   ]
  },
  {
   "cell_type": "markdown",
   "id": "72ece59b",
   "metadata": {},
   "source": [
    "<a id='2.1'></a>\n",
    "## Part 2.1 - Preliminary Analysis of the Dataset"
   ]
  },
  {
   "cell_type": "markdown",
   "id": "b844f34e",
   "metadata": {},
   "source": [
    "<a id='2.2'></a>\n",
    "## Part 2.2 - Dealing with Duplicates"
   ]
  },
  {
   "cell_type": "code",
   "execution_count": 3,
   "id": "c16e2960",
   "metadata": {},
   "outputs": [
    {
     "data": {
      "text/html": [
       "<div>\n",
       "<style scoped>\n",
       "    .dataframe tbody tr th:only-of-type {\n",
       "        vertical-align: middle;\n",
       "    }\n",
       "\n",
       "    .dataframe tbody tr th {\n",
       "        vertical-align: top;\n",
       "    }\n",
       "\n",
       "    .dataframe thead th {\n",
       "        text-align: right;\n",
       "    }\n",
       "</style>\n",
       "<table border=\"1\" class=\"dataframe\">\n",
       "  <thead>\n",
       "    <tr style=\"text-align: right;\">\n",
       "      <th></th>\n",
       "      <th>Date</th>\n",
       "      <th>City</th>\n",
       "      <th>Channel</th>\n",
       "      <th>Client ID</th>\n",
       "      <th>Promotor ID</th>\n",
       "      <th>Volume</th>\n",
       "      <th>Income</th>\n",
       "      <th>Number of orders</th>\n",
       "      <th>Median Ticket (€)</th>\n",
       "      <th>Prom Contacts Month</th>\n",
       "      <th>Tel Contacts Month</th>\n",
       "    </tr>\n",
       "  </thead>\n",
       "  <tbody>\n",
       "    <tr>\n",
       "      <th>0</th>\n",
       "      <td>01.01.2024</td>\n",
       "      <td>Alicante</td>\n",
       "      <td>AR</td>\n",
       "      <td>398150871</td>\n",
       "      <td>729030652</td>\n",
       "      <td>5.94</td>\n",
       "      <td>0.00</td>\n",
       "      <td>1</td>\n",
       "      <td>0.00</td>\n",
       "      <td>0</td>\n",
       "      <td>0</td>\n",
       "    </tr>\n",
       "    <tr>\n",
       "      <th>1</th>\n",
       "      <td>01.01.2024</td>\n",
       "      <td>Alicante</td>\n",
       "      <td>HR</td>\n",
       "      <td>410234355</td>\n",
       "      <td>551409294</td>\n",
       "      <td>48.00</td>\n",
       "      <td>21.02</td>\n",
       "      <td>1</td>\n",
       "      <td>21.02</td>\n",
       "      <td>4</td>\n",
       "      <td>0</td>\n",
       "    </tr>\n",
       "    <tr>\n",
       "      <th>2</th>\n",
       "      <td>02.01.2024</td>\n",
       "      <td>Alicante</td>\n",
       "      <td>AR</td>\n",
       "      <td>123463493</td>\n",
       "      <td>551409294</td>\n",
       "      <td>125.25</td>\n",
       "      <td>92.57</td>\n",
       "      <td>1</td>\n",
       "      <td>92.57</td>\n",
       "      <td>1</td>\n",
       "      <td>0</td>\n",
       "    </tr>\n",
       "    <tr>\n",
       "      <th>3</th>\n",
       "      <td>02.01.2024</td>\n",
       "      <td>Alicante</td>\n",
       "      <td>AR</td>\n",
       "      <td>124527399</td>\n",
       "      <td>729030652</td>\n",
       "      <td>83.00</td>\n",
       "      <td>60.94</td>\n",
       "      <td>1</td>\n",
       "      <td>60.94</td>\n",
       "      <td>4</td>\n",
       "      <td>0</td>\n",
       "    </tr>\n",
       "    <tr>\n",
       "      <th>4</th>\n",
       "      <td>02.01.2024</td>\n",
       "      <td>Alicante</td>\n",
       "      <td>AR</td>\n",
       "      <td>130100821</td>\n",
       "      <td>729030652</td>\n",
       "      <td>768.00</td>\n",
       "      <td>244.33</td>\n",
       "      <td>1</td>\n",
       "      <td>244.33</td>\n",
       "      <td>1</td>\n",
       "      <td>3</td>\n",
       "    </tr>\n",
       "  </tbody>\n",
       "</table>\n",
       "</div>"
      ],
      "text/plain": [
       "         Date      City Channel  Client ID  Promotor ID  Volume  Income  \\\n",
       "0  01.01.2024  Alicante      AR  398150871    729030652    5.94    0.00   \n",
       "1  01.01.2024  Alicante      HR  410234355    551409294   48.00   21.02   \n",
       "2  02.01.2024  Alicante      AR  123463493    551409294  125.25   92.57   \n",
       "3  02.01.2024  Alicante      AR  124527399    729030652   83.00   60.94   \n",
       "4  02.01.2024  Alicante      AR  130100821    729030652  768.00  244.33   \n",
       "\n",
       "   Number of orders  Median Ticket (€)  Prom Contacts Month  \\\n",
       "0                 1               0.00                    0   \n",
       "1                 1              21.02                    4   \n",
       "2                 1              92.57                    1   \n",
       "3                 1              60.94                    4   \n",
       "4                 1             244.33                    1   \n",
       "\n",
       "   Tel Contacts Month  \n",
       "0                   0  \n",
       "1                   0  \n",
       "2                   0  \n",
       "3                   0  \n",
       "4                   3  "
      ]
     },
     "execution_count": 3,
     "metadata": {},
     "output_type": "execute_result"
    }
   ],
   "source": [
    "df.head()"
   ]
  },
  {
   "cell_type": "code",
   "execution_count": 4,
   "id": "4bd69c82",
   "metadata": {},
   "outputs": [
    {
     "name": "stdout",
     "output_type": "stream",
     "text": [
      "<class 'pandas.core.frame.DataFrame'>\n",
      "RangeIndex: 1035735 entries, 0 to 1035734\n",
      "Data columns (total 11 columns):\n",
      " #   Column               Non-Null Count    Dtype  \n",
      "---  ------               --------------    -----  \n",
      " 0   Date                 1035735 non-null  object \n",
      " 1   City                 1035735 non-null  object \n",
      " 2   Channel              1035735 non-null  object \n",
      " 3   Client ID            1035735 non-null  int64  \n",
      " 4   Promotor ID          1035735 non-null  int64  \n",
      " 5   Volume               1035735 non-null  float64\n",
      " 6   Income               1035735 non-null  float64\n",
      " 7   Number of orders     1035735 non-null  int64  \n",
      " 8   Median Ticket (€)    1035735 non-null  float64\n",
      " 9   Prom Contacts Month  1035735 non-null  int64  \n",
      " 10  Tel Contacts Month   1035735 non-null  int64  \n",
      "dtypes: float64(3), int64(5), object(3)\n",
      "memory usage: 86.9+ MB\n"
     ]
    }
   ],
   "source": [
    "df.info()"
   ]
  },
  {
   "cell_type": "code",
   "execution_count": 28,
   "id": "aed3789b",
   "metadata": {},
   "outputs": [
    {
     "data": {
      "text/plain": [
       "True"
      ]
     },
     "execution_count": 28,
     "metadata": {},
     "output_type": "execute_result"
    }
   ],
   "source": [
    "df.duplicated().any()"
   ]
  },
  {
   "cell_type": "code",
   "execution_count": 29,
   "id": "77abf4ad",
   "metadata": {},
   "outputs": [
    {
     "name": "stdout",
     "output_type": "stream",
     "text": [
      "Exact Duplicates: 20770 out of 1035735\n"
     ]
    }
   ],
   "source": [
    "# Total number of rows\n",
    "total_rows = df.shape[0]\n",
    "\n",
    "# Number of exact duplicates (all columns identical)\n",
    "exact_duplicates = df.duplicated().sum()\n",
    "print(f\"Exact Duplicates: {exact_duplicates} out of {total_rows}\")\n"
   ]
  },
  {
   "cell_type": "code",
   "execution_count": 27,
   "id": "469fc4be",
   "metadata": {},
   "outputs": [
    {
     "data": {
      "text/html": [
       "<div>\n",
       "<style scoped>\n",
       "    .dataframe tbody tr th:only-of-type {\n",
       "        vertical-align: middle;\n",
       "    }\n",
       "\n",
       "    .dataframe tbody tr th {\n",
       "        vertical-align: top;\n",
       "    }\n",
       "\n",
       "    .dataframe thead th {\n",
       "        text-align: right;\n",
       "    }\n",
       "</style>\n",
       "<table border=\"1\" class=\"dataframe\">\n",
       "  <thead>\n",
       "    <tr style=\"text-align: right;\">\n",
       "      <th></th>\n",
       "      <th>Date</th>\n",
       "      <th>City</th>\n",
       "      <th>Channel</th>\n",
       "      <th>Client ID</th>\n",
       "      <th>Promotor ID</th>\n",
       "      <th>Volume</th>\n",
       "      <th>Income</th>\n",
       "      <th>Number of orders</th>\n",
       "      <th>Median Ticket (€)</th>\n",
       "      <th>Prom Contacts Month</th>\n",
       "      <th>Tel Contacts Month</th>\n",
       "    </tr>\n",
       "  </thead>\n",
       "  <tbody>\n",
       "    <tr>\n",
       "      <th>919356</th>\n",
       "      <td>11.03.2024</td>\n",
       "      <td>Tarragona</td>\n",
       "      <td>HR</td>\n",
       "      <td>100854769</td>\n",
       "      <td>306190165</td>\n",
       "      <td>54.295</td>\n",
       "      <td>117.02</td>\n",
       "      <td>1</td>\n",
       "      <td>117.02</td>\n",
       "      <td>4</td>\n",
       "      <td>0</td>\n",
       "    </tr>\n",
       "    <tr>\n",
       "      <th>1018754</th>\n",
       "      <td>11.03.2024</td>\n",
       "      <td>Tarragona</td>\n",
       "      <td>HR</td>\n",
       "      <td>100854769</td>\n",
       "      <td>306190165</td>\n",
       "      <td>54.295</td>\n",
       "      <td>117.02</td>\n",
       "      <td>1</td>\n",
       "      <td>117.02</td>\n",
       "      <td>4</td>\n",
       "      <td>0</td>\n",
       "    </tr>\n",
       "    <tr>\n",
       "      <th>917803</th>\n",
       "      <td>12.02.2024</td>\n",
       "      <td>Tarragona</td>\n",
       "      <td>HR</td>\n",
       "      <td>100854769</td>\n",
       "      <td>306190165</td>\n",
       "      <td>105.000</td>\n",
       "      <td>45.93</td>\n",
       "      <td>1</td>\n",
       "      <td>45.93</td>\n",
       "      <td>4</td>\n",
       "      <td>0</td>\n",
       "    </tr>\n",
       "    <tr>\n",
       "      <th>1017201</th>\n",
       "      <td>12.02.2024</td>\n",
       "      <td>Tarragona</td>\n",
       "      <td>HR</td>\n",
       "      <td>100854769</td>\n",
       "      <td>306190165</td>\n",
       "      <td>105.000</td>\n",
       "      <td>45.93</td>\n",
       "      <td>1</td>\n",
       "      <td>45.93</td>\n",
       "      <td>4</td>\n",
       "      <td>0</td>\n",
       "    </tr>\n",
       "    <tr>\n",
       "      <th>925032</th>\n",
       "      <td>13.06.2024</td>\n",
       "      <td>Tarragona</td>\n",
       "      <td>HR</td>\n",
       "      <td>100854769</td>\n",
       "      <td>306190165</td>\n",
       "      <td>45.200</td>\n",
       "      <td>90.50</td>\n",
       "      <td>1</td>\n",
       "      <td>90.50</td>\n",
       "      <td>4</td>\n",
       "      <td>0</td>\n",
       "    </tr>\n",
       "    <tr>\n",
       "      <th>1024430</th>\n",
       "      <td>13.06.2024</td>\n",
       "      <td>Tarragona</td>\n",
       "      <td>HR</td>\n",
       "      <td>100854769</td>\n",
       "      <td>306190165</td>\n",
       "      <td>45.200</td>\n",
       "      <td>90.50</td>\n",
       "      <td>1</td>\n",
       "      <td>90.50</td>\n",
       "      <td>4</td>\n",
       "      <td>0</td>\n",
       "    </tr>\n",
       "    <tr>\n",
       "      <th>930843</th>\n",
       "      <td>16.09.2024</td>\n",
       "      <td>Tarragona</td>\n",
       "      <td>HR</td>\n",
       "      <td>100854769</td>\n",
       "      <td>306190165</td>\n",
       "      <td>129.000</td>\n",
       "      <td>74.14</td>\n",
       "      <td>1</td>\n",
       "      <td>74.14</td>\n",
       "      <td>4</td>\n",
       "      <td>0</td>\n",
       "    </tr>\n",
       "    <tr>\n",
       "      <th>1030241</th>\n",
       "      <td>16.09.2024</td>\n",
       "      <td>Tarragona</td>\n",
       "      <td>HR</td>\n",
       "      <td>100854769</td>\n",
       "      <td>306190165</td>\n",
       "      <td>129.000</td>\n",
       "      <td>74.14</td>\n",
       "      <td>1</td>\n",
       "      <td>74.14</td>\n",
       "      <td>4</td>\n",
       "      <td>0</td>\n",
       "    </tr>\n",
       "    <tr>\n",
       "      <th>917063</th>\n",
       "      <td>29.01.2024</td>\n",
       "      <td>Tarragona</td>\n",
       "      <td>HR</td>\n",
       "      <td>100854769</td>\n",
       "      <td>306190165</td>\n",
       "      <td>105.000</td>\n",
       "      <td>45.93</td>\n",
       "      <td>1</td>\n",
       "      <td>45.93</td>\n",
       "      <td>4</td>\n",
       "      <td>0</td>\n",
       "    </tr>\n",
       "    <tr>\n",
       "      <th>1016461</th>\n",
       "      <td>29.01.2024</td>\n",
       "      <td>Tarragona</td>\n",
       "      <td>HR</td>\n",
       "      <td>100854769</td>\n",
       "      <td>306190165</td>\n",
       "      <td>105.000</td>\n",
       "      <td>45.93</td>\n",
       "      <td>1</td>\n",
       "      <td>45.93</td>\n",
       "      <td>4</td>\n",
       "      <td>0</td>\n",
       "    </tr>\n",
       "  </tbody>\n",
       "</table>\n",
       "</div>"
      ],
      "text/plain": [
       "               Date       City Channel  Client ID  Promotor ID   Volume  \\\n",
       "919356   11.03.2024  Tarragona      HR  100854769    306190165   54.295   \n",
       "1018754  11.03.2024  Tarragona      HR  100854769    306190165   54.295   \n",
       "917803   12.02.2024  Tarragona      HR  100854769    306190165  105.000   \n",
       "1017201  12.02.2024  Tarragona      HR  100854769    306190165  105.000   \n",
       "925032   13.06.2024  Tarragona      HR  100854769    306190165   45.200   \n",
       "1024430  13.06.2024  Tarragona      HR  100854769    306190165   45.200   \n",
       "930843   16.09.2024  Tarragona      HR  100854769    306190165  129.000   \n",
       "1030241  16.09.2024  Tarragona      HR  100854769    306190165  129.000   \n",
       "917063   29.01.2024  Tarragona      HR  100854769    306190165  105.000   \n",
       "1016461  29.01.2024  Tarragona      HR  100854769    306190165  105.000   \n",
       "\n",
       "         Income  Number of orders  Median Ticket (€)  Prom Contacts Month  \\\n",
       "919356   117.02                 1             117.02                    4   \n",
       "1018754  117.02                 1             117.02                    4   \n",
       "917803    45.93                 1              45.93                    4   \n",
       "1017201   45.93                 1              45.93                    4   \n",
       "925032    90.50                 1              90.50                    4   \n",
       "1024430   90.50                 1              90.50                    4   \n",
       "930843    74.14                 1              74.14                    4   \n",
       "1030241   74.14                 1              74.14                    4   \n",
       "917063    45.93                 1              45.93                    4   \n",
       "1016461   45.93                 1              45.93                    4   \n",
       "\n",
       "         Tel Contacts Month  \n",
       "919356                    0  \n",
       "1018754                   0  \n",
       "917803                    0  \n",
       "1017201                   0  \n",
       "925032                    0  \n",
       "1024430                   0  \n",
       "930843                    0  \n",
       "1030241                   0  \n",
       "917063                    0  \n",
       "1016461                   0  "
      ]
     },
     "execution_count": 27,
     "metadata": {},
     "output_type": "execute_result"
    }
   ],
   "source": [
    "# Show all exact duplicates (entire row is duplicated) --> Exploring duplicates to see whether they were exact to then drop the first ocurrence only from the dataset.\n",
    "exact_duplicates = df[df.duplicated(keep=False)]\n",
    "exact_duplicates.sort_values(by=['Client ID', 'Date']).head(10)"
   ]
  },
  {
   "cell_type": "code",
   "execution_count": 31,
   "id": "93d1699e",
   "metadata": {},
   "outputs": [],
   "source": [
    "df = df.drop_duplicates(keep='first')"
   ]
  },
  {
   "cell_type": "code",
   "execution_count": 33,
   "id": "a49a1beb",
   "metadata": {},
   "outputs": [
    {
     "name": "stdout",
     "output_type": "stream",
     "text": [
      "Exact Duplicates: 0 out of 1014965\n"
     ]
    }
   ],
   "source": [
    "# Total number of rows\n",
    "total_rows = df.shape[0]\n",
    "\n",
    "# Number of exact duplicates (all columns identical)\n",
    "exact_duplicates = df.duplicated().sum()\n",
    "print(f\"Exact Duplicates: {exact_duplicates} out of {total_rows}\")"
   ]
  },
  {
   "cell_type": "markdown",
   "id": "79b4d483",
   "metadata": {},
   "source": []
  },
  {
   "cell_type": "markdown",
   "id": "c9ac39a1",
   "metadata": {},
   "source": [
    "<a id='2.3'></a>\n",
    "## Part 2.3 - Ensuring Correct Data Types"
   ]
  },
  {
   "cell_type": "code",
   "execution_count": null,
   "id": "327c8eb2",
   "metadata": {},
   "outputs": [],
   "source": [
    "#Ensuring corect datatypes"
   ]
  },
  {
   "cell_type": "code",
   "execution_count": null,
   "id": "d64f0589",
   "metadata": {},
   "outputs": [],
   "source": []
  },
  {
   "cell_type": "code",
   "execution_count": null,
   "id": "c0fc16f9",
   "metadata": {},
   "outputs": [],
   "source": []
  },
  {
   "cell_type": "markdown",
   "id": "fae749c1",
   "metadata": {},
   "source": [
    "<a id='2.4'></a>\n",
    "## Part 2.4 - Dealing with Null/Missing Values"
   ]
  },
  {
   "cell_type": "code",
   "execution_count": 5,
   "id": "53233804",
   "metadata": {},
   "outputs": [
    {
     "data": {
      "text/plain": [
       "Date                   False\n",
       "City                   False\n",
       "Channel                False\n",
       "Client ID              False\n",
       "Promotor ID            False\n",
       "Volume                 False\n",
       "Income                 False\n",
       "Number of orders       False\n",
       "Median Ticket (€)      False\n",
       "Prom Contacts Month    False\n",
       "Tel Contacts Month     False\n",
       "dtype: bool"
      ]
     },
     "execution_count": 5,
     "metadata": {},
     "output_type": "execute_result"
    }
   ],
   "source": [
    "df.isna().any() #No columns have any null values"
   ]
  },
  {
   "cell_type": "code",
   "execution_count": 6,
   "id": "20c03ae5",
   "metadata": {},
   "outputs": [
    {
     "data": {
      "text/plain": [
       "0"
      ]
     },
     "execution_count": 6,
     "metadata": {},
     "output_type": "execute_result"
    }
   ],
   "source": [
    "df.isna().any().sum() #0 null values"
   ]
  },
  {
   "cell_type": "markdown",
   "id": "a9d4a824",
   "metadata": {},
   "source": [
    "<a id='2.5'></a>\n",
    "## Part 2.5 - Creating new cols or aggregating?"
   ]
  },
  {
   "cell_type": "markdown",
   "id": "6d0ef423",
   "metadata": {},
   "source": [
    "Ask gpt if should aggregate now or create the new cols first"
   ]
  },
  {
   "cell_type": "code",
   "execution_count": null,
   "id": "2fa682d9",
   "metadata": {},
   "outputs": [],
   "source": []
  },
  {
   "cell_type": "code",
   "execution_count": null,
   "id": "9d59a80c",
   "metadata": {},
   "outputs": [],
   "source": []
  },
  {
   "cell_type": "markdown",
   "id": "182ccc17",
   "metadata": {},
   "source": [
    "<a id='3'></a>\n",
    "# Part 3 - Exploratory Data Analysis"
   ]
  }
 ],
 "metadata": {
  "kernelspec": {
   "display_name": "thomas_env",
   "language": "python",
   "name": "python3"
  },
  "language_info": {
   "codemirror_mode": {
    "name": "ipython",
    "version": 3
   },
   "file_extension": ".py",
   "mimetype": "text/x-python",
   "name": "python",
   "nbconvert_exporter": "python",
   "pygments_lexer": "ipython3",
   "version": "3.12.9"
  }
 },
 "nbformat": 4,
 "nbformat_minor": 5
}
